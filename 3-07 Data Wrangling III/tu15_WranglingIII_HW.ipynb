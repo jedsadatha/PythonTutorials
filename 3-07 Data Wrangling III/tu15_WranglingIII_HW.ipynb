{
 "cells": [
  {
   "cell_type": "markdown",
   "id": "7c915198-6974-494a-a6ae-b8d19533e0fd",
   "metadata": {},
   "source": [
    "# Wrangling III homework"
   ]
  },
  {
   "cell_type": "markdown",
   "id": "522fafeb-d42c-45a0-9267-bf67c4bdbc9a",
   "metadata": {},
   "source": [
    "## Deleting invalid rows from the cancer data"
   ]
  },
  {
   "cell_type": "markdown",
   "id": "17e3cbaa-e93c-4f41-b492-7d2792c30385",
   "metadata": {},
   "source": [
    "It's been decided by committee that duplicate data in the (smaller version of) the cancer data set is going to go as follows. If a row is **identical to the one immediately above it, we'll consider it an accidental entry** due to fatigue or whatever. But a row that is *not* identical to the one above it will be considered valid, even it has a duplicate somewhere else in the data set; we'll assume such duplicates represent separate visits."
   ]
  },
  {
   "cell_type": "markdown",
   "id": "5cc0c07e-b2b2-472d-837e-93902093445c",
   "metadata": {},
   "source": [
    "So our rule is: **if a row is identical to the one above it, we drop it**."
   ]
  },
  {
   "cell_type": "markdown",
   "id": "c4f81557-91f1-491a-a4f4-399ab213ce0c",
   "metadata": {},
   "source": [
    "A small pre-cleaned version of the data with only 4 columns is in **small_cancer_data.csv**, so you can read it in directly without having to clean it up."
   ]
  },
  {
   "cell_type": "markdown",
   "id": "b7a722e2-1b85-45ea-99d5-4ea8e7eb21f2",
   "metadata": {},
   "source": [
    "Spend a minute or two thinking about how you would approach this problem."
   ]
  },
  {
   "cell_type": "markdown",
   "id": "a4e3622f-5e73-4d98-ab31-15b38737aaa2",
   "metadata": {},
   "source": [
    "If you are ready to go on your own, then go!"
   ]
  },
  {
   "cell_type": "markdown",
   "id": "6d02d899-9051-408b-90ce-af368a55ff53",
   "metadata": {},
   "source": [
    "Once you have working code – once you can take **small_cancer_data.csv** and trim out the unwanted rows – then wrap your code into a function, so all you have to do drop unwanted rows is call your function!"
   ]
  },
  {
   "cell_type": "markdown",
   "id": "1becc292-79a9-4e69-a789-6872786c5252",
   "metadata": {
    "tags": []
   },
   "source": [
    "---"
   ]
  },
  {
   "cell_type": "markdown",
   "id": "98671cac-3b61-41d3-ba7a-3b314ade5b9a",
   "metadata": {},
   "source": [
    "Spend some time thinking about and working on the problem. If you get to an impass and you'd like some hints, read on."
   ]
  },
  {
   "cell_type": "markdown",
   "id": "813a70d9-1871-4240-9dd0-e0554c192477",
   "metadata": {
    "tags": []
   },
   "source": [
    "---"
   ]
  },
  {
   "cell_type": "markdown",
   "id": "b0321172-6e5e-421c-8261-31cb40579803",
   "metadata": {},
   "source": [
    "## Preliminaries"
   ]
  },
  {
   "cell_type": "markdown",
   "id": "3a296fa2-f538-43b4-a9da-507ae0189122",
   "metadata": {},
   "source": [
    "As usual, we'll load some libraries we'll be likely to use."
   ]
  },
  {
   "cell_type": "code",
   "execution_count": 1,
   "id": "1e64392f-fab1-4a49-93a0-d0d1b06b92d8",
   "metadata": {},
   "outputs": [],
   "source": [
    "import pandas as pd"
   ]
  },
  {
   "cell_type": "markdown",
   "id": "0086f275-2324-44d8-9f9f-dc5c54fde771",
   "metadata": {
    "tags": []
   },
   "source": [
    "---"
   ]
  },
  {
   "cell_type": "markdown",
   "id": "9abac6c3-1f2d-4402-a20a-6f6b00fb75da",
   "metadata": {},
   "source": [
    "## Make a mini data set for testing"
   ]
  },
  {
   "cell_type": "markdown",
   "id": "7697192e-d5e1-48c5-aee9-1aaf1549bfe9",
   "metadata": {},
   "source": [
    "Rather than taking a crack at the whole set, make a small data frame named `tiny` with 10 rows and two columns. Put successive repeated rows in two places (like rows 2 and 3 could repeat, as could rows 6 and 7). Put an additional repeated row on it's own."
   ]
  },
  {
   "cell_type": "markdown",
   "id": "b504e2bf-ad35-4d51-96c5-52667381194d",
   "metadata": {},
   "source": [
    "Something like this:"
   ]
  },
  {
   "cell_type": "code",
   "execution_count": 2,
   "id": "fdaf41d9-6508-49cb-968f-792a9ff343ec",
   "metadata": {},
   "outputs": [],
   "source": [
    "tiny = pd.DataFrame(dict(a = [1, 2, 3, 3, 4, 5, 5, 5, 6, 3],\n",
    "                         b = ['a', 'b', 'c', 'c', 'd', 'e', 'e', 'f', 'g', 'c']))"
   ]
  },
  {
   "cell_type": "markdown",
   "id": "73da327f-9ffc-4a00-8e82-6c4a39101082",
   "metadata": {},
   "source": [
    "Check our tiny data frame."
   ]
  },
  {
   "cell_type": "code",
   "execution_count": 3,
   "id": "e4c0233e-33ed-482f-8694-8c4468bf2b07",
   "metadata": {},
   "outputs": [
    {
     "data": {
      "text/html": [
       "<div>\n",
       "<style scoped>\n",
       "    .dataframe tbody tr th:only-of-type {\n",
       "        vertical-align: middle;\n",
       "    }\n",
       "\n",
       "    .dataframe tbody tr th {\n",
       "        vertical-align: top;\n",
       "    }\n",
       "\n",
       "    .dataframe thead th {\n",
       "        text-align: right;\n",
       "    }\n",
       "</style>\n",
       "<table border=\"1\" class=\"dataframe\">\n",
       "  <thead>\n",
       "    <tr style=\"text-align: right;\">\n",
       "      <th></th>\n",
       "      <th>a</th>\n",
       "      <th>b</th>\n",
       "    </tr>\n",
       "  </thead>\n",
       "  <tbody>\n",
       "    <tr>\n",
       "      <th>0</th>\n",
       "      <td>1</td>\n",
       "      <td>a</td>\n",
       "    </tr>\n",
       "    <tr>\n",
       "      <th>1</th>\n",
       "      <td>2</td>\n",
       "      <td>b</td>\n",
       "    </tr>\n",
       "    <tr>\n",
       "      <th>2</th>\n",
       "      <td>3</td>\n",
       "      <td>c</td>\n",
       "    </tr>\n",
       "    <tr>\n",
       "      <th>3</th>\n",
       "      <td>3</td>\n",
       "      <td>c</td>\n",
       "    </tr>\n",
       "    <tr>\n",
       "      <th>4</th>\n",
       "      <td>4</td>\n",
       "      <td>d</td>\n",
       "    </tr>\n",
       "    <tr>\n",
       "      <th>5</th>\n",
       "      <td>5</td>\n",
       "      <td>e</td>\n",
       "    </tr>\n",
       "    <tr>\n",
       "      <th>6</th>\n",
       "      <td>5</td>\n",
       "      <td>e</td>\n",
       "    </tr>\n",
       "    <tr>\n",
       "      <th>7</th>\n",
       "      <td>5</td>\n",
       "      <td>f</td>\n",
       "    </tr>\n",
       "    <tr>\n",
       "      <th>8</th>\n",
       "      <td>6</td>\n",
       "      <td>g</td>\n",
       "    </tr>\n",
       "    <tr>\n",
       "      <th>9</th>\n",
       "      <td>3</td>\n",
       "      <td>c</td>\n",
       "    </tr>\n",
       "  </tbody>\n",
       "</table>\n",
       "</div>"
      ],
      "text/plain": [
       "   a  b\n",
       "0  1  a\n",
       "1  2  b\n",
       "2  3  c\n",
       "3  3  c\n",
       "4  4  d\n",
       "5  5  e\n",
       "6  5  e\n",
       "7  5  f\n",
       "8  6  g\n",
       "9  3  c"
      ]
     },
     "execution_count": 3,
     "metadata": {},
     "output_type": "execute_result"
    }
   ],
   "source": [
    "# check your test data frame\n",
    "tiny"
   ]
  },
  {
   "cell_type": "markdown",
   "id": "5d94ac99-260a-47cf-aa66-f7b81f35e1a7",
   "metadata": {},
   "source": [
    "There should be two rows that need to be dropped, and one (the last) that should be kept even though it's a duplicate."
   ]
  },
  {
   "cell_type": "markdown",
   "id": "bc068ab9-389c-46f0-af18-c958acd2ec9b",
   "metadata": {},
   "source": [
    "Just to be sure, check the output of `.duplicated(keep=False)` – it should show back-to-back `True` values in 2 places, and one solo `True` at the end."
   ]
  },
  {
   "cell_type": "code",
   "execution_count": 5,
   "id": "7f157e61-84d4-452c-b144-442d14289a9d",
   "metadata": {},
   "outputs": [
    {
     "data": {
      "text/plain": [
       "0    False\n",
       "1    False\n",
       "2     True\n",
       "3     True\n",
       "4    False\n",
       "5     True\n",
       "6     True\n",
       "7    False\n",
       "8    False\n",
       "9     True\n",
       "dtype: bool"
      ]
     },
     "execution_count": 5,
     "metadata": {},
     "output_type": "execute_result"
    }
   ],
   "source": [
    "# check .duplicated output\n",
    "tiny.duplicated(keep = False)"
   ]
  },
  {
   "cell_type": "markdown",
   "id": "8184b77e-5940-41ba-bb7f-68633cbeef49",
   "metadata": {
    "tags": []
   },
   "source": [
    "---"
   ]
  },
  {
   "cell_type": "markdown",
   "id": "07ba3410-0849-444a-993a-3e192b2f462f",
   "metadata": {
    "tags": []
   },
   "source": [
    "## Make a plan"
   ]
  },
  {
   "cell_type": "markdown",
   "id": "6f2d9af8-a454-4400-a278-18fa095aa58e",
   "metadata": {},
   "source": [
    "There are probably 100 ways to solve this problem. Many are probably very clever and involve using fancy pandas functions.\n",
    "\n",
    "A straightforward plan using things we already know about might be something like\n",
    "\n",
    "- go through the rows of the data frame with a `for` loop, starting with the second row\n",
    "- at each row, compare the current row with the previous one\n",
    "- if they're the same, save the index of the current row\n",
    "- after the `for` loop, delete the unwanted rows using the saved indexes"
   ]
  },
  {
   "cell_type": "markdown",
   "id": "6a39c8e4-5839-4f1e-a2d7-1545a09b72c6",
   "metadata": {
    "tags": []
   },
   "source": [
    "---"
   ]
  },
  {
   "cell_type": "markdown",
   "id": "a468ff6b-d0f3-4c18-a746-16a4b4bbc98b",
   "metadata": {},
   "source": [
    "## Test the parts of the plan"
   ]
  },
  {
   "cell_type": "markdown",
   "id": "3574a8e2-1b58-4050-bab6-6ec10b66275e",
   "metadata": {},
   "source": [
    "Now that we've got a plan, let's get the pieces of the plan to work before putting the whold plan together."
   ]
  },
  {
   "cell_type": "markdown",
   "id": "6bb1a32a-1c69-4794-9b09-9be051b8bffd",
   "metadata": {},
   "source": [
    "### Make sure we can get rows"
   ]
  },
  {
   "cell_type": "markdown",
   "id": "df48a31c-5bfd-4dfd-9743-121f169af3c0",
   "metadata": {},
   "source": [
    "We should be able to get rows of a data frame in a couple of ways. These are\n",
    "\n",
    "- using `.loc[]` with the value of rows index (it's name)\n",
    "- using `.iloc[]` and indexing into the data like it were a numpy array"
   ]
  },
  {
   "cell_type": "markdown",
   "id": "cdbcc4a8-355c-40e2-91a9-79a00d3f8162",
   "metadata": {},
   "source": [
    "Let's try the `.loc[]` way."
   ]
  },
  {
   "cell_type": "code",
   "execution_count": 12,
   "id": "74d18d4d",
   "metadata": {},
   "outputs": [
    {
     "data": {
      "text/plain": [
       "a    1\n",
       "b    a\n",
       "Name: 0, dtype: object"
      ]
     },
     "execution_count": 12,
     "metadata": {},
     "output_type": "execute_result"
    }
   ],
   "source": [
    "tiny.loc[0]"
   ]
  },
  {
   "cell_type": "markdown",
   "id": "f4019229-fc88-4e0a-a2cd-56630ae62086",
   "metadata": {},
   "source": [
    "And let's try the `.iloc[]` method."
   ]
  },
  {
   "cell_type": "code",
   "execution_count": 11,
   "id": "1fb0367a-16a6-457b-b35a-d674e9527104",
   "metadata": {
    "tags": []
   },
   "outputs": [
    {
     "data": {
      "text/plain": [
       "a    2\n",
       "b    b\n",
       "Name: 1, dtype: object"
      ]
     },
     "execution_count": 11,
     "metadata": {},
     "output_type": "execute_result"
    }
   ],
   "source": [
    "tiny.iloc[1]"
   ]
  },
  {
   "cell_type": "markdown",
   "id": "f551cfee-fa30-4ecb-8ee0-26c1e2853a8f",
   "metadata": {},
   "source": [
    "Look's like either will work!"
   ]
  },
  {
   "cell_type": "markdown",
   "id": "d25a5023-eb5b-4c42-98c3-284fd68405a3",
   "metadata": {},
   "source": [
    "### Figure out how to compare rows"
   ]
  },
  {
   "cell_type": "markdown",
   "id": "7a9d794b-09e9-4f39-9f37-91eb09c0f5b7",
   "metadata": {},
   "source": [
    "We are going to need to compare rows. Let's see how that is going to work."
   ]
  },
  {
   "cell_type": "markdown",
   "id": "89ff0e47-d486-442b-9c2a-b23a9de1cef2",
   "metadata": {
    "tags": []
   },
   "source": [
    "#### compare the first and second rows - these *should* ***not*** match"
   ]
  },
  {
   "cell_type": "code",
   "execution_count": 15,
   "id": "866c0997-6dc1-4173-8602-7883b06c2386",
   "metadata": {},
   "outputs": [
    {
     "data": {
      "text/html": [
       "<div>\n",
       "<style scoped>\n",
       "    .dataframe tbody tr th:only-of-type {\n",
       "        vertical-align: middle;\n",
       "    }\n",
       "\n",
       "    .dataframe tbody tr th {\n",
       "        vertical-align: top;\n",
       "    }\n",
       "\n",
       "    .dataframe thead th {\n",
       "        text-align: right;\n",
       "    }\n",
       "</style>\n",
       "<table border=\"1\" class=\"dataframe\">\n",
       "  <thead>\n",
       "    <tr style=\"text-align: right;\">\n",
       "      <th></th>\n",
       "      <th>a</th>\n",
       "      <th>b</th>\n",
       "    </tr>\n",
       "  </thead>\n",
       "  <tbody>\n",
       "    <tr>\n",
       "      <th>0</th>\n",
       "      <td>1</td>\n",
       "      <td>a</td>\n",
       "    </tr>\n",
       "    <tr>\n",
       "      <th>1</th>\n",
       "      <td>2</td>\n",
       "      <td>b</td>\n",
       "    </tr>\n",
       "  </tbody>\n",
       "</table>\n",
       "</div>"
      ],
      "text/plain": [
       "   a  b\n",
       "0  1  a\n",
       "1  2  b"
      ]
     },
     "execution_count": 15,
     "metadata": {},
     "output_type": "execute_result"
    }
   ],
   "source": [
    "# which things in the rows match?\n",
    "tiny.loc[0:1]"
   ]
  },
  {
   "cell_type": "markdown",
   "id": "707c71e3-2fea-4c19-812f-1b7a87107d5a",
   "metadata": {
    "tags": []
   },
   "source": [
    "#### compare the third and fourth rows - these *should*  match"
   ]
  },
  {
   "cell_type": "code",
   "execution_count": 17,
   "id": "e48738d2-0d4d-4804-b917-7123b0a7ad7a",
   "metadata": {},
   "outputs": [
    {
     "data": {
      "text/html": [
       "<div>\n",
       "<style scoped>\n",
       "    .dataframe tbody tr th:only-of-type {\n",
       "        vertical-align: middle;\n",
       "    }\n",
       "\n",
       "    .dataframe tbody tr th {\n",
       "        vertical-align: top;\n",
       "    }\n",
       "\n",
       "    .dataframe thead th {\n",
       "        text-align: right;\n",
       "    }\n",
       "</style>\n",
       "<table border=\"1\" class=\"dataframe\">\n",
       "  <thead>\n",
       "    <tr style=\"text-align: right;\">\n",
       "      <th></th>\n",
       "      <th>a</th>\n",
       "      <th>b</th>\n",
       "    </tr>\n",
       "  </thead>\n",
       "  <tbody>\n",
       "    <tr>\n",
       "      <th>2</th>\n",
       "      <td>3</td>\n",
       "      <td>c</td>\n",
       "    </tr>\n",
       "    <tr>\n",
       "      <th>3</th>\n",
       "      <td>3</td>\n",
       "      <td>c</td>\n",
       "    </tr>\n",
       "  </tbody>\n",
       "</table>\n",
       "</div>"
      ],
      "text/plain": [
       "   a  b\n",
       "2  3  c\n",
       "3  3  c"
      ]
     },
     "execution_count": 17,
     "metadata": {},
     "output_type": "execute_result"
    }
   ],
   "source": [
    "# which things in the rows match?\n",
    "tiny.loc[2:3]"
   ]
  },
  {
   "cell_type": "markdown",
   "id": "bcb5379f-1147-4f23-90ad-a0afa24bfceb",
   "metadata": {},
   "source": [
    "The rows only match if ***all*** the columns match, so we can see if this is the case with the `all()` function."
   ]
  },
  {
   "cell_type": "code",
   "execution_count": 20,
   "id": "32534976-18d5-4a6b-9a1f-41bfa7108076",
   "metadata": {},
   "outputs": [
    {
     "data": {
      "text/plain": [
       "a    True\n",
       "b    True\n",
       "dtype: bool"
      ]
     },
     "execution_count": 20,
     "metadata": {},
     "output_type": "execute_result"
    }
   ],
   "source": [
    "# do all the column match?\n",
    "tiny.all()"
   ]
  },
  {
   "cell_type": "markdown",
   "id": "854e8f4e-6848-45b4-ae64-13b58a0eb6b4",
   "metadata": {},
   "source": [
    "Now we have a way to compare rows and get a single `True` if the rows are identical, and a `False` if they're not."
   ]
  },
  {
   "cell_type": "markdown",
   "id": "08227170-8c66-4970-81c5-a07c5b27da1f",
   "metadata": {},
   "source": [
    "And now that we know how to do the row comparison, let's get a `for` loop working."
   ]
  },
  {
   "cell_type": "markdown",
   "id": "ca146d72-72de-4a5b-950c-3b5eedfec98d",
   "metadata": {},
   "source": [
    "### Confirm we can get rows with a `for` loop"
   ]
  },
  {
   "cell_type": "markdown",
   "id": "425aff03-d443-4741-bcdc-8e6728ab542f",
   "metadata": {},
   "source": [
    "##### *Loop through the first few rows*"
   ]
  },
  {
   "cell_type": "markdown",
   "id": "9f170a10-f9a5-48f6-8043-d0530db93452",
   "metadata": {},
   "source": [
    "Let's make sure we can index into rows with a for loop. Let's try to get the first few using `.loc[]` and print them. Like\n",
    "```\n",
    "for ... :\n",
    "    print(...)\n",
    "```"
   ]
  },
  {
   "cell_type": "code",
   "execution_count": 39,
   "id": "75e3f688-ce66-4009-8632-db895c6a8dc3",
   "metadata": {},
   "outputs": [
    {
     "name": "stdout",
     "output_type": "stream",
     "text": [
      "a    1\n",
      "b    a\n",
      "Name: 0, dtype: object\n",
      "a    2\n",
      "b    b\n",
      "Name: 1, dtype: object\n"
     ]
    }
   ],
   "source": [
    "# loop through the first few rows\n",
    "for i in range(2):\n",
    "    print(tiny.loc[i])"
   ]
  },
  {
   "cell_type": "markdown",
   "id": "8f37bc8d-626d-49a9-980c-8b1c51eee586",
   "metadata": {},
   "source": [
    "##### *Loop through the **all** rows*"
   ]
  },
  {
   "cell_type": "markdown",
   "id": "ab023b8d-7120-4fed-b4c1-3a8431c66bd5",
   "metadata": {},
   "source": [
    "To loop through all the rows, we first need to get the number of rows. We can do this using the `shape` attribute."
   ]
  },
  {
   "cell_type": "code",
   "execution_count": 30,
   "id": "d9842188-0326-4997-a7cb-b0411dbfcb35",
   "metadata": {},
   "outputs": [
    {
     "data": {
      "text/plain": [
       "(10, 2)"
      ]
     },
     "execution_count": 30,
     "metadata": {},
     "output_type": "execute_result"
    }
   ],
   "source": [
    "# get the number of rows using shape\n",
    "tiny.shape"
   ]
  },
  {
   "cell_type": "code",
   "execution_count": 37,
   "id": "b5d081f4-4ff2-4982-a389-5bf3bfd07382",
   "metadata": {
    "scrolled": true
   },
   "outputs": [
    {
     "name": "stdout",
     "output_type": "stream",
     "text": [
      "a    1\n",
      "b    a\n",
      "Name: 0, dtype: object\n",
      "a    2\n",
      "b    b\n",
      "Name: 1, dtype: object\n",
      "a    3\n",
      "b    c\n",
      "Name: 2, dtype: object\n",
      "a    3\n",
      "b    c\n",
      "Name: 3, dtype: object\n",
      "a    4\n",
      "b    d\n",
      "Name: 4, dtype: object\n",
      "a    5\n",
      "b    e\n",
      "Name: 5, dtype: object\n",
      "a    5\n",
      "b    e\n",
      "Name: 6, dtype: object\n",
      "a    5\n",
      "b    f\n",
      "Name: 7, dtype: object\n",
      "a    6\n",
      "b    g\n",
      "Name: 8, dtype: object\n",
      "a    3\n",
      "b    c\n",
      "Name: 9, dtype: object\n"
     ]
    }
   ],
   "source": [
    "# loop through all the rows\n",
    "for i in range(len(tiny)):\n",
    "    print(tiny.loc[i])"
   ]
  },
  {
   "cell_type": "markdown",
   "id": "4be26ce2-31c1-48a3-b04f-7ea04dd6946c",
   "metadata": {
    "tags": []
   },
   "source": [
    "---"
   ]
  },
  {
   "cell_type": "markdown",
   "id": "37f46980-c061-4d30-967f-96c28e0a90bd",
   "metadata": {},
   "source": [
    "## Putting it all together"
   ]
  },
  {
   "cell_type": "markdown",
   "id": "aaaf8aef-f6e5-498a-8ac7-c41f52988a81",
   "metadata": {},
   "source": [
    "Get the number of rows"
   ]
  },
  {
   "cell_type": "code",
   "execution_count": 31,
   "id": "c971e4bd-eec3-4e43-b7ea-bf7b5e12dae1",
   "metadata": {},
   "outputs": [
    {
     "data": {
      "text/plain": [
       "(10, 2)"
      ]
     },
     "execution_count": 31,
     "metadata": {},
     "output_type": "execute_result"
    }
   ],
   "source": [
    "# get the number of rows using shape\n",
    "tiny.shape"
   ]
  },
  {
   "cell_type": "code",
   "execution_count": 41,
   "id": "3c51dd6f",
   "metadata": {},
   "outputs": [
    {
     "data": {
      "text/plain": [
       "10"
      ]
     },
     "execution_count": 41,
     "metadata": {},
     "output_type": "execute_result"
    }
   ],
   "source": [
    "len(tiny)"
   ]
  },
  {
   "cell_type": "markdown",
   "id": "82fe8631-3bfb-4acb-bf4a-2665fda55613",
   "metadata": {},
   "source": [
    "Make an empty list to hold the indexes of the columns we're going to drop"
   ]
  },
  {
   "cell_type": "code",
   "execution_count": 40,
   "id": "263f2971-e9a9-4692-95c3-456f190674f6",
   "metadata": {},
   "outputs": [],
   "source": [
    "empty_list = []"
   ]
  },
  {
   "cell_type": "markdown",
   "id": "221e1cc4-3b97-4788-a3b8-434f680b0ef1",
   "metadata": {},
   "source": [
    "Make a `for` loop that \n",
    "\n",
    "- goes from 1 (i.e. the second row) to the end\n",
    "- tests the current row against previous\n",
    "- stores index for dropping"
   ]
  },
  {
   "cell_type": "code",
   "execution_count": 43,
   "id": "bd0561e3-cff0-46d2-9a83-40031df7bb01",
   "metadata": {},
   "outputs": [
    {
     "data": {
      "text/html": [
       "<div>\n",
       "<style scoped>\n",
       "    .dataframe tbody tr th:only-of-type {\n",
       "        vertical-align: middle;\n",
       "    }\n",
       "\n",
       "    .dataframe tbody tr th {\n",
       "        vertical-align: top;\n",
       "    }\n",
       "\n",
       "    .dataframe thead th {\n",
       "        text-align: right;\n",
       "    }\n",
       "</style>\n",
       "<table border=\"1\" class=\"dataframe\">\n",
       "  <thead>\n",
       "    <tr style=\"text-align: right;\">\n",
       "      <th></th>\n",
       "      <th>a</th>\n",
       "      <th>b</th>\n",
       "      <th>duplicated</th>\n",
       "    </tr>\n",
       "  </thead>\n",
       "  <tbody>\n",
       "    <tr>\n",
       "      <th>0</th>\n",
       "      <td>1</td>\n",
       "      <td>a</td>\n",
       "      <td>False</td>\n",
       "    </tr>\n",
       "    <tr>\n",
       "      <th>1</th>\n",
       "      <td>2</td>\n",
       "      <td>b</td>\n",
       "      <td>False</td>\n",
       "    </tr>\n",
       "    <tr>\n",
       "      <th>2</th>\n",
       "      <td>3</td>\n",
       "      <td>c</td>\n",
       "      <td>True</td>\n",
       "    </tr>\n",
       "    <tr>\n",
       "      <th>3</th>\n",
       "      <td>3</td>\n",
       "      <td>c</td>\n",
       "      <td>True</td>\n",
       "    </tr>\n",
       "    <tr>\n",
       "      <th>4</th>\n",
       "      <td>4</td>\n",
       "      <td>d</td>\n",
       "      <td>False</td>\n",
       "    </tr>\n",
       "    <tr>\n",
       "      <th>5</th>\n",
       "      <td>5</td>\n",
       "      <td>e</td>\n",
       "      <td>True</td>\n",
       "    </tr>\n",
       "    <tr>\n",
       "      <th>6</th>\n",
       "      <td>5</td>\n",
       "      <td>e</td>\n",
       "      <td>True</td>\n",
       "    </tr>\n",
       "    <tr>\n",
       "      <th>7</th>\n",
       "      <td>5</td>\n",
       "      <td>f</td>\n",
       "      <td>False</td>\n",
       "    </tr>\n",
       "    <tr>\n",
       "      <th>8</th>\n",
       "      <td>6</td>\n",
       "      <td>g</td>\n",
       "      <td>False</td>\n",
       "    </tr>\n",
       "    <tr>\n",
       "      <th>9</th>\n",
       "      <td>3</td>\n",
       "      <td>c</td>\n",
       "      <td>True</td>\n",
       "    </tr>\n",
       "  </tbody>\n",
       "</table>\n",
       "</div>"
      ],
      "text/plain": [
       "   a  b  duplicated\n",
       "0  1  a       False\n",
       "1  2  b       False\n",
       "2  3  c        True\n",
       "3  3  c        True\n",
       "4  4  d       False\n",
       "5  5  e        True\n",
       "6  5  e        True\n",
       "7  5  f       False\n",
       "8  6  g       False\n",
       "9  3  c        True"
      ]
     },
     "execution_count": 43,
     "metadata": {},
     "output_type": "execute_result"
    }
   ],
   "source": [
    "tiny['duplicated'] = tiny.duplicated(keep = False)\n",
    "tiny"
   ]
  },
  {
   "cell_type": "code",
   "execution_count": 45,
   "id": "e4c3035b",
   "metadata": {},
   "outputs": [
    {
     "data": {
      "text/html": [
       "<div>\n",
       "<style scoped>\n",
       "    .dataframe tbody tr th:only-of-type {\n",
       "        vertical-align: middle;\n",
       "    }\n",
       "\n",
       "    .dataframe tbody tr th {\n",
       "        vertical-align: top;\n",
       "    }\n",
       "\n",
       "    .dataframe thead th {\n",
       "        text-align: right;\n",
       "    }\n",
       "</style>\n",
       "<table border=\"1\" class=\"dataframe\">\n",
       "  <thead>\n",
       "    <tr style=\"text-align: right;\">\n",
       "      <th></th>\n",
       "      <th>a</th>\n",
       "      <th>b</th>\n",
       "      <th>duplicated</th>\n",
       "    </tr>\n",
       "  </thead>\n",
       "  <tbody>\n",
       "    <tr>\n",
       "      <th>2</th>\n",
       "      <td>3</td>\n",
       "      <td>c</td>\n",
       "      <td>True</td>\n",
       "    </tr>\n",
       "    <tr>\n",
       "      <th>3</th>\n",
       "      <td>3</td>\n",
       "      <td>c</td>\n",
       "      <td>True</td>\n",
       "    </tr>\n",
       "    <tr>\n",
       "      <th>5</th>\n",
       "      <td>5</td>\n",
       "      <td>e</td>\n",
       "      <td>True</td>\n",
       "    </tr>\n",
       "    <tr>\n",
       "      <th>6</th>\n",
       "      <td>5</td>\n",
       "      <td>e</td>\n",
       "      <td>True</td>\n",
       "    </tr>\n",
       "    <tr>\n",
       "      <th>9</th>\n",
       "      <td>3</td>\n",
       "      <td>c</td>\n",
       "      <td>True</td>\n",
       "    </tr>\n",
       "  </tbody>\n",
       "</table>\n",
       "</div>"
      ],
      "text/plain": [
       "   a  b  duplicated\n",
       "2  3  c        True\n",
       "3  3  c        True\n",
       "5  5  e        True\n",
       "6  5  e        True\n",
       "9  3  c        True"
      ]
     },
     "execution_count": 45,
     "metadata": {},
     "output_type": "execute_result"
    }
   ],
   "source": [
    "tiny[tiny['duplicated'] == True]"
   ]
  },
  {
   "cell_type": "code",
   "execution_count": 46,
   "id": "21286921",
   "metadata": {},
   "outputs": [],
   "source": [
    "for row in range(1,len(tiny)):\n",
    "    if((tiny.iloc[row - 1] == tiny.iloc[row]).all()):\n",
    "        empty_list.append(row)"
   ]
  },
  {
   "cell_type": "markdown",
   "id": "78438792-86ac-4e13-be58-537b7097a142",
   "metadata": {},
   "source": [
    "Check that we got the correct indexes."
   ]
  },
  {
   "cell_type": "code",
   "execution_count": 47,
   "id": "9f2b6cde-6109-4935-9c66-c962b541f9dc",
   "metadata": {},
   "outputs": [
    {
     "data": {
      "text/plain": [
       "[3, 6]"
      ]
     },
     "execution_count": 47,
     "metadata": {},
     "output_type": "execute_result"
    }
   ],
   "source": [
    "empty_list"
   ]
  },
  {
   "cell_type": "markdown",
   "id": "d906e9ec-04ed-490f-b180-d4ffc06bb292",
   "metadata": {},
   "source": [
    "Make a new data frame with the unwanted rows `.drop`ped."
   ]
  },
  {
   "cell_type": "code",
   "execution_count": 49,
   "id": "4bd26081-6e0c-46a2-90da-8a96f454d873",
   "metadata": {},
   "outputs": [
    {
     "data": {
      "text/html": [
       "<div>\n",
       "<style scoped>\n",
       "    .dataframe tbody tr th:only-of-type {\n",
       "        vertical-align: middle;\n",
       "    }\n",
       "\n",
       "    .dataframe tbody tr th {\n",
       "        vertical-align: top;\n",
       "    }\n",
       "\n",
       "    .dataframe thead th {\n",
       "        text-align: right;\n",
       "    }\n",
       "</style>\n",
       "<table border=\"1\" class=\"dataframe\">\n",
       "  <thead>\n",
       "    <tr style=\"text-align: right;\">\n",
       "      <th></th>\n",
       "      <th>a</th>\n",
       "      <th>b</th>\n",
       "      <th>duplicated</th>\n",
       "    </tr>\n",
       "  </thead>\n",
       "  <tbody>\n",
       "    <tr>\n",
       "      <th>0</th>\n",
       "      <td>1</td>\n",
       "      <td>a</td>\n",
       "      <td>False</td>\n",
       "    </tr>\n",
       "    <tr>\n",
       "      <th>1</th>\n",
       "      <td>2</td>\n",
       "      <td>b</td>\n",
       "      <td>False</td>\n",
       "    </tr>\n",
       "    <tr>\n",
       "      <th>2</th>\n",
       "      <td>3</td>\n",
       "      <td>c</td>\n",
       "      <td>True</td>\n",
       "    </tr>\n",
       "    <tr>\n",
       "      <th>4</th>\n",
       "      <td>4</td>\n",
       "      <td>d</td>\n",
       "      <td>False</td>\n",
       "    </tr>\n",
       "    <tr>\n",
       "      <th>5</th>\n",
       "      <td>5</td>\n",
       "      <td>e</td>\n",
       "      <td>True</td>\n",
       "    </tr>\n",
       "    <tr>\n",
       "      <th>7</th>\n",
       "      <td>5</td>\n",
       "      <td>f</td>\n",
       "      <td>False</td>\n",
       "    </tr>\n",
       "    <tr>\n",
       "      <th>8</th>\n",
       "      <td>6</td>\n",
       "      <td>g</td>\n",
       "      <td>False</td>\n",
       "    </tr>\n",
       "    <tr>\n",
       "      <th>9</th>\n",
       "      <td>3</td>\n",
       "      <td>c</td>\n",
       "      <td>True</td>\n",
       "    </tr>\n",
       "  </tbody>\n",
       "</table>\n",
       "</div>"
      ],
      "text/plain": [
       "   a  b  duplicated\n",
       "0  1  a       False\n",
       "1  2  b       False\n",
       "2  3  c        True\n",
       "4  4  d       False\n",
       "5  5  e        True\n",
       "7  5  f       False\n",
       "8  6  g       False\n",
       "9  3  c        True"
      ]
     },
     "execution_count": 49,
     "metadata": {},
     "output_type": "execute_result"
    }
   ],
   "source": [
    "tiny_drop = tiny.drop(empty_list)\n",
    "tiny_drop"
   ]
  },
  {
   "cell_type": "markdown",
   "id": "3784353b",
   "metadata": {},
   "source": [
    "Use `.reset_index()` to make a new sequental indec for our data frame."
   ]
  },
  {
   "cell_type": "code",
   "execution_count": 53,
   "id": "ecb45b2b",
   "metadata": {},
   "outputs": [],
   "source": [
    "tiny_drop = tiny_drop.reset_index()"
   ]
  },
  {
   "cell_type": "markdown",
   "id": "8b83c984-7409-41cc-b407-0f7f8f25f628",
   "metadata": {},
   "source": [
    "Marvel at your work!"
   ]
  },
  {
   "cell_type": "code",
   "execution_count": 54,
   "id": "e8a2915f-b86f-4e5e-bfed-00bbe620e79b",
   "metadata": {},
   "outputs": [
    {
     "data": {
      "text/html": [
       "<div>\n",
       "<style scoped>\n",
       "    .dataframe tbody tr th:only-of-type {\n",
       "        vertical-align: middle;\n",
       "    }\n",
       "\n",
       "    .dataframe tbody tr th {\n",
       "        vertical-align: top;\n",
       "    }\n",
       "\n",
       "    .dataframe thead th {\n",
       "        text-align: right;\n",
       "    }\n",
       "</style>\n",
       "<table border=\"1\" class=\"dataframe\">\n",
       "  <thead>\n",
       "    <tr style=\"text-align: right;\">\n",
       "      <th></th>\n",
       "      <th>index</th>\n",
       "      <th>a</th>\n",
       "      <th>b</th>\n",
       "      <th>duplicated</th>\n",
       "    </tr>\n",
       "  </thead>\n",
       "  <tbody>\n",
       "    <tr>\n",
       "      <th>0</th>\n",
       "      <td>0</td>\n",
       "      <td>1</td>\n",
       "      <td>a</td>\n",
       "      <td>False</td>\n",
       "    </tr>\n",
       "    <tr>\n",
       "      <th>1</th>\n",
       "      <td>1</td>\n",
       "      <td>2</td>\n",
       "      <td>b</td>\n",
       "      <td>False</td>\n",
       "    </tr>\n",
       "    <tr>\n",
       "      <th>2</th>\n",
       "      <td>2</td>\n",
       "      <td>3</td>\n",
       "      <td>c</td>\n",
       "      <td>True</td>\n",
       "    </tr>\n",
       "    <tr>\n",
       "      <th>3</th>\n",
       "      <td>4</td>\n",
       "      <td>4</td>\n",
       "      <td>d</td>\n",
       "      <td>False</td>\n",
       "    </tr>\n",
       "    <tr>\n",
       "      <th>4</th>\n",
       "      <td>5</td>\n",
       "      <td>5</td>\n",
       "      <td>e</td>\n",
       "      <td>True</td>\n",
       "    </tr>\n",
       "    <tr>\n",
       "      <th>5</th>\n",
       "      <td>7</td>\n",
       "      <td>5</td>\n",
       "      <td>f</td>\n",
       "      <td>False</td>\n",
       "    </tr>\n",
       "    <tr>\n",
       "      <th>6</th>\n",
       "      <td>8</td>\n",
       "      <td>6</td>\n",
       "      <td>g</td>\n",
       "      <td>False</td>\n",
       "    </tr>\n",
       "    <tr>\n",
       "      <th>7</th>\n",
       "      <td>9</td>\n",
       "      <td>3</td>\n",
       "      <td>c</td>\n",
       "      <td>True</td>\n",
       "    </tr>\n",
       "  </tbody>\n",
       "</table>\n",
       "</div>"
      ],
      "text/plain": [
       "   index  a  b  duplicated\n",
       "0      0  1  a       False\n",
       "1      1  2  b       False\n",
       "2      2  3  c        True\n",
       "3      4  4  d       False\n",
       "4      5  5  e        True\n",
       "5      7  5  f       False\n",
       "6      8  6  g       False\n",
       "7      9  3  c        True"
      ]
     },
     "execution_count": 54,
     "metadata": {},
     "output_type": "execute_result"
    }
   ],
   "source": [
    "tiny_drop"
   ]
  },
  {
   "cell_type": "markdown",
   "id": "d7c84e86-c0c3-44e5-87d6-cf747e6726f4",
   "metadata": {},
   "source": [
    "If you don't like the \"index\" column with old indexes (sometimes it's useful to have the old indexes – here it's just annoying), you can set `drop=True` when you call `.reset_index()` above."
   ]
  },
  {
   "cell_type": "markdown",
   "id": "b00053c7-d302-443f-987d-e4137ef7ae13",
   "metadata": {
    "tags": []
   },
   "source": [
    "---"
   ]
  },
  {
   "cell_type": "markdown",
   "id": "e9261551-99cf-439e-9984-ae613f36ef5e",
   "metadata": {},
   "source": [
    "## Run your code on the cancer data"
   ]
  },
  {
   "cell_type": "markdown",
   "id": "881fcae5-70c7-4bc8-91d9-5ef8fbce0db8",
   "metadata": {},
   "source": [
    "Try our code on the (small version of the) cancer data!"
   ]
  },
  {
   "cell_type": "markdown",
   "id": "c5458d0b-84c5-4ae7-9bf9-96bb0344bc2a",
   "metadata": {},
   "source": [
    "### Load the data"
   ]
  },
  {
   "cell_type": "code",
   "execution_count": 33,
   "id": "1316ae55-5e82-4acd-897a-6b7bdbfc4e1e",
   "metadata": {},
   "outputs": [
    {
     "data": {
      "text/html": [
       "<div>\n",
       "<style scoped>\n",
       "    .dataframe tbody tr th:only-of-type {\n",
       "        vertical-align: middle;\n",
       "    }\n",
       "\n",
       "    .dataframe tbody tr th {\n",
       "        vertical-align: top;\n",
       "    }\n",
       "\n",
       "    .dataframe thead th {\n",
       "        text-align: right;\n",
       "    }\n",
       "</style>\n",
       "<table border=\"1\" class=\"dataframe\">\n",
       "  <thead>\n",
       "    <tr style=\"text-align: right;\">\n",
       "      <th></th>\n",
       "      <th>id</th>\n",
       "      <th>thick</th>\n",
       "      <th>chrom</th>\n",
       "      <th>class</th>\n",
       "    </tr>\n",
       "  </thead>\n",
       "  <tbody>\n",
       "    <tr>\n",
       "      <th>0</th>\n",
       "      <td>1000025</td>\n",
       "      <td>5.0</td>\n",
       "      <td>3.0</td>\n",
       "      <td>benign</td>\n",
       "    </tr>\n",
       "    <tr>\n",
       "      <th>1</th>\n",
       "      <td>1002945</td>\n",
       "      <td>5.0</td>\n",
       "      <td>3.0</td>\n",
       "      <td>benign</td>\n",
       "    </tr>\n",
       "    <tr>\n",
       "      <th>2</th>\n",
       "      <td>1015425</td>\n",
       "      <td>3.0</td>\n",
       "      <td>3.0</td>\n",
       "      <td>benign</td>\n",
       "    </tr>\n",
       "    <tr>\n",
       "      <th>3</th>\n",
       "      <td>1016277</td>\n",
       "      <td>6.0</td>\n",
       "      <td>3.0</td>\n",
       "      <td>benign</td>\n",
       "    </tr>\n",
       "    <tr>\n",
       "      <th>4</th>\n",
       "      <td>1017023</td>\n",
       "      <td>4.0</td>\n",
       "      <td>3.0</td>\n",
       "      <td>benign</td>\n",
       "    </tr>\n",
       "  </tbody>\n",
       "</table>\n",
       "</div>"
      ],
      "text/plain": [
       "        id  thick  chrom   class\n",
       "0  1000025    5.0    3.0  benign\n",
       "1  1002945    5.0    3.0  benign\n",
       "2  1015425    3.0    3.0  benign\n",
       "3  1016277    6.0    3.0  benign\n",
       "4  1017023    4.0    3.0  benign"
      ]
     },
     "execution_count": 33,
     "metadata": {},
     "output_type": "execute_result"
    }
   ],
   "source": [
    "cancer = pd.read_csv('./data/small_cancer_data.csv')\n",
    "cancer.head()"
   ]
  },
  {
   "cell_type": "markdown",
   "id": "788e9080-e4c4-477d-91d9-061b47c088e4",
   "metadata": {},
   "source": [
    "### Get the number of rows"
   ]
  },
  {
   "cell_type": "code",
   "execution_count": 55,
   "id": "b89122d2-5bd6-41ed-a766-9e660a337bbb",
   "metadata": {},
   "outputs": [
    {
     "data": {
      "text/plain": [
       "(699, 4)"
      ]
     },
     "execution_count": 55,
     "metadata": {},
     "output_type": "execute_result"
    }
   ],
   "source": [
    "# get the number of rows using shape\n",
    "cancer.shape"
   ]
  },
  {
   "cell_type": "code",
   "execution_count": 56,
   "id": "12d20277",
   "metadata": {},
   "outputs": [
    {
     "data": {
      "text/plain": [
       "699"
      ]
     },
     "execution_count": 56,
     "metadata": {},
     "output_type": "execute_result"
    }
   ],
   "source": [
    "len(cancer)"
   ]
  },
  {
   "cell_type": "markdown",
   "id": "9ed2634a-4293-4a0c-8525-f3a8cee2aa2c",
   "metadata": {},
   "source": [
    "### Make an empty list for indexes"
   ]
  },
  {
   "cell_type": "code",
   "execution_count": 58,
   "id": "00a701c2-cd89-48d9-93bb-4df640531a01",
   "metadata": {},
   "outputs": [],
   "source": [
    "cancer_empty = []"
   ]
  },
  {
   "cell_type": "markdown",
   "id": "6190e080-d4c9-4f9a-9878-5cc2395844a2",
   "metadata": {},
   "source": [
    "### Run your `for` loop!"
   ]
  },
  {
   "cell_type": "code",
   "execution_count": 59,
   "id": "2f08aac5-3504-4d4a-bb3b-943cd9858081",
   "metadata": {},
   "outputs": [],
   "source": [
    "for cancer_row in range(1,len(cancer)):\n",
    "    if((cancer.iloc[cancer_row - 1] == cancer.iloc[cancer_row]).all()):\n",
    "        cancer_empty.append(cancer_row)"
   ]
  },
  {
   "cell_type": "markdown",
   "id": "c161c4ec-3e92-4330-a0a9-69e5ba96aff5",
   "metadata": {},
   "source": [
    "### Check the indexes you found"
   ]
  },
  {
   "cell_type": "code",
   "execution_count": 60,
   "id": "0b48c3d2-79bf-47f0-a792-a8c0ca5e3f64",
   "metadata": {},
   "outputs": [
    {
     "data": {
      "text/plain": [
       "[208, 322, 443, 561, 684, 690, 698]"
      ]
     },
     "execution_count": 60,
     "metadata": {},
     "output_type": "execute_result"
    }
   ],
   "source": [
    "cancer_empty"
   ]
  },
  {
   "cell_type": "markdown",
   "id": "127d6714-8bd3-42d0-8681-683801c53124",
   "metadata": {},
   "source": [
    "### Drop the unwanted rows"
   ]
  },
  {
   "cell_type": "code",
   "execution_count": 62,
   "id": "c7e0b682-08f8-497f-bd25-010327e634c3",
   "metadata": {},
   "outputs": [
    {
     "data": {
      "text/html": [
       "<div>\n",
       "<style scoped>\n",
       "    .dataframe tbody tr th:only-of-type {\n",
       "        vertical-align: middle;\n",
       "    }\n",
       "\n",
       "    .dataframe tbody tr th {\n",
       "        vertical-align: top;\n",
       "    }\n",
       "\n",
       "    .dataframe thead th {\n",
       "        text-align: right;\n",
       "    }\n",
       "</style>\n",
       "<table border=\"1\" class=\"dataframe\">\n",
       "  <thead>\n",
       "    <tr style=\"text-align: right;\">\n",
       "      <th></th>\n",
       "      <th>id</th>\n",
       "      <th>thick</th>\n",
       "      <th>chrom</th>\n",
       "      <th>class</th>\n",
       "    </tr>\n",
       "  </thead>\n",
       "  <tbody>\n",
       "    <tr>\n",
       "      <th>0</th>\n",
       "      <td>1000025</td>\n",
       "      <td>5.0</td>\n",
       "      <td>3.0</td>\n",
       "      <td>benign</td>\n",
       "    </tr>\n",
       "    <tr>\n",
       "      <th>1</th>\n",
       "      <td>1002945</td>\n",
       "      <td>5.0</td>\n",
       "      <td>3.0</td>\n",
       "      <td>benign</td>\n",
       "    </tr>\n",
       "    <tr>\n",
       "      <th>2</th>\n",
       "      <td>1015425</td>\n",
       "      <td>3.0</td>\n",
       "      <td>3.0</td>\n",
       "      <td>benign</td>\n",
       "    </tr>\n",
       "    <tr>\n",
       "      <th>3</th>\n",
       "      <td>1016277</td>\n",
       "      <td>6.0</td>\n",
       "      <td>3.0</td>\n",
       "      <td>benign</td>\n",
       "    </tr>\n",
       "    <tr>\n",
       "      <th>4</th>\n",
       "      <td>1017023</td>\n",
       "      <td>4.0</td>\n",
       "      <td>3.0</td>\n",
       "      <td>benign</td>\n",
       "    </tr>\n",
       "    <tr>\n",
       "      <th>...</th>\n",
       "      <td>...</td>\n",
       "      <td>...</td>\n",
       "      <td>...</td>\n",
       "      <td>...</td>\n",
       "    </tr>\n",
       "    <tr>\n",
       "      <th>693</th>\n",
       "      <td>763235</td>\n",
       "      <td>3.0</td>\n",
       "      <td>2.0</td>\n",
       "      <td>benign</td>\n",
       "    </tr>\n",
       "    <tr>\n",
       "      <th>694</th>\n",
       "      <td>776715</td>\n",
       "      <td>3.0</td>\n",
       "      <td>1.0</td>\n",
       "      <td>benign</td>\n",
       "    </tr>\n",
       "    <tr>\n",
       "      <th>695</th>\n",
       "      <td>841769</td>\n",
       "      <td>2.0</td>\n",
       "      <td>1.0</td>\n",
       "      <td>benign</td>\n",
       "    </tr>\n",
       "    <tr>\n",
       "      <th>696</th>\n",
       "      <td>888820</td>\n",
       "      <td>5.0</td>\n",
       "      <td>8.0</td>\n",
       "      <td>malignant</td>\n",
       "    </tr>\n",
       "    <tr>\n",
       "      <th>697</th>\n",
       "      <td>897471</td>\n",
       "      <td>4.0</td>\n",
       "      <td>10.0</td>\n",
       "      <td>malignant</td>\n",
       "    </tr>\n",
       "  </tbody>\n",
       "</table>\n",
       "<p>692 rows × 4 columns</p>\n",
       "</div>"
      ],
      "text/plain": [
       "          id  thick  chrom      class\n",
       "0    1000025    5.0    3.0     benign\n",
       "1    1002945    5.0    3.0     benign\n",
       "2    1015425    3.0    3.0     benign\n",
       "3    1016277    6.0    3.0     benign\n",
       "4    1017023    4.0    3.0     benign\n",
       "..       ...    ...    ...        ...\n",
       "693   763235    3.0    2.0     benign\n",
       "694   776715    3.0    1.0     benign\n",
       "695   841769    2.0    1.0     benign\n",
       "696   888820    5.0    8.0  malignant\n",
       "697   897471    4.0   10.0  malignant\n",
       "\n",
       "[692 rows x 4 columns]"
      ]
     },
     "execution_count": 62,
     "metadata": {},
     "output_type": "execute_result"
    }
   ],
   "source": [
    "cancer_drop = cancer.drop(cancer_empty)\n",
    "cancer_drop"
   ]
  },
  {
   "cell_type": "markdown",
   "id": "763337e0-d8fb-43dd-92b3-41828aaa966a",
   "metadata": {},
   "source": [
    "### Reset the row indexes"
   ]
  },
  {
   "cell_type": "code",
   "execution_count": 64,
   "id": "5c1c5062-a9f6-4e4d-8676-f19b49a1d2f0",
   "metadata": {},
   "outputs": [
    {
     "data": {
      "text/html": [
       "<div>\n",
       "<style scoped>\n",
       "    .dataframe tbody tr th:only-of-type {\n",
       "        vertical-align: middle;\n",
       "    }\n",
       "\n",
       "    .dataframe tbody tr th {\n",
       "        vertical-align: top;\n",
       "    }\n",
       "\n",
       "    .dataframe thead th {\n",
       "        text-align: right;\n",
       "    }\n",
       "</style>\n",
       "<table border=\"1\" class=\"dataframe\">\n",
       "  <thead>\n",
       "    <tr style=\"text-align: right;\">\n",
       "      <th></th>\n",
       "      <th>level_0</th>\n",
       "      <th>index</th>\n",
       "      <th>id</th>\n",
       "      <th>thick</th>\n",
       "      <th>chrom</th>\n",
       "      <th>class</th>\n",
       "    </tr>\n",
       "  </thead>\n",
       "  <tbody>\n",
       "    <tr>\n",
       "      <th>0</th>\n",
       "      <td>0</td>\n",
       "      <td>0</td>\n",
       "      <td>1000025</td>\n",
       "      <td>5.0</td>\n",
       "      <td>3.0</td>\n",
       "      <td>benign</td>\n",
       "    </tr>\n",
       "    <tr>\n",
       "      <th>1</th>\n",
       "      <td>1</td>\n",
       "      <td>1</td>\n",
       "      <td>1002945</td>\n",
       "      <td>5.0</td>\n",
       "      <td>3.0</td>\n",
       "      <td>benign</td>\n",
       "    </tr>\n",
       "    <tr>\n",
       "      <th>2</th>\n",
       "      <td>2</td>\n",
       "      <td>2</td>\n",
       "      <td>1015425</td>\n",
       "      <td>3.0</td>\n",
       "      <td>3.0</td>\n",
       "      <td>benign</td>\n",
       "    </tr>\n",
       "    <tr>\n",
       "      <th>3</th>\n",
       "      <td>3</td>\n",
       "      <td>3</td>\n",
       "      <td>1016277</td>\n",
       "      <td>6.0</td>\n",
       "      <td>3.0</td>\n",
       "      <td>benign</td>\n",
       "    </tr>\n",
       "    <tr>\n",
       "      <th>4</th>\n",
       "      <td>4</td>\n",
       "      <td>4</td>\n",
       "      <td>1017023</td>\n",
       "      <td>4.0</td>\n",
       "      <td>3.0</td>\n",
       "      <td>benign</td>\n",
       "    </tr>\n",
       "    <tr>\n",
       "      <th>...</th>\n",
       "      <td>...</td>\n",
       "      <td>...</td>\n",
       "      <td>...</td>\n",
       "      <td>...</td>\n",
       "      <td>...</td>\n",
       "      <td>...</td>\n",
       "    </tr>\n",
       "    <tr>\n",
       "      <th>687</th>\n",
       "      <td>687</td>\n",
       "      <td>693</td>\n",
       "      <td>763235</td>\n",
       "      <td>3.0</td>\n",
       "      <td>2.0</td>\n",
       "      <td>benign</td>\n",
       "    </tr>\n",
       "    <tr>\n",
       "      <th>688</th>\n",
       "      <td>688</td>\n",
       "      <td>694</td>\n",
       "      <td>776715</td>\n",
       "      <td>3.0</td>\n",
       "      <td>1.0</td>\n",
       "      <td>benign</td>\n",
       "    </tr>\n",
       "    <tr>\n",
       "      <th>689</th>\n",
       "      <td>689</td>\n",
       "      <td>695</td>\n",
       "      <td>841769</td>\n",
       "      <td>2.0</td>\n",
       "      <td>1.0</td>\n",
       "      <td>benign</td>\n",
       "    </tr>\n",
       "    <tr>\n",
       "      <th>690</th>\n",
       "      <td>690</td>\n",
       "      <td>696</td>\n",
       "      <td>888820</td>\n",
       "      <td>5.0</td>\n",
       "      <td>8.0</td>\n",
       "      <td>malignant</td>\n",
       "    </tr>\n",
       "    <tr>\n",
       "      <th>691</th>\n",
       "      <td>691</td>\n",
       "      <td>697</td>\n",
       "      <td>897471</td>\n",
       "      <td>4.0</td>\n",
       "      <td>10.0</td>\n",
       "      <td>malignant</td>\n",
       "    </tr>\n",
       "  </tbody>\n",
       "</table>\n",
       "<p>692 rows × 6 columns</p>\n",
       "</div>"
      ],
      "text/plain": [
       "     level_0  index       id  thick  chrom      class\n",
       "0          0      0  1000025    5.0    3.0     benign\n",
       "1          1      1  1002945    5.0    3.0     benign\n",
       "2          2      2  1015425    3.0    3.0     benign\n",
       "3          3      3  1016277    6.0    3.0     benign\n",
       "4          4      4  1017023    4.0    3.0     benign\n",
       "..       ...    ...      ...    ...    ...        ...\n",
       "687      687    693   763235    3.0    2.0     benign\n",
       "688      688    694   776715    3.0    1.0     benign\n",
       "689      689    695   841769    2.0    1.0     benign\n",
       "690      690    696   888820    5.0    8.0  malignant\n",
       "691      691    697   897471    4.0   10.0  malignant\n",
       "\n",
       "[692 rows x 6 columns]"
      ]
     },
     "execution_count": 64,
     "metadata": {},
     "output_type": "execute_result"
    }
   ],
   "source": [
    "cancer_drop = cancer_drop.reset_index()\n",
    "cancer_drop"
   ]
  },
  {
   "cell_type": "markdown",
   "id": "9e285991-a59f-4b3d-9c8a-d879062b6934",
   "metadata": {},
   "source": [
    "### Check the shape to confirm the rows were dropped!"
   ]
  },
  {
   "cell_type": "code",
   "execution_count": 66,
   "id": "61d04f50",
   "metadata": {},
   "outputs": [
    {
     "data": {
      "text/plain": [
       "692"
      ]
     },
     "execution_count": 66,
     "metadata": {},
     "output_type": "execute_result"
    }
   ],
   "source": [
    "# Old row = 699\n",
    "# Drop = 7\n",
    "699 - 7"
   ]
  },
  {
   "cell_type": "code",
   "execution_count": 65,
   "id": "3f118183-8b54-401f-8bb2-8e2b726354e8",
   "metadata": {},
   "outputs": [
    {
     "data": {
      "text/plain": [
       "692"
      ]
     },
     "execution_count": 65,
     "metadata": {},
     "output_type": "execute_result"
    }
   ],
   "source": [
    "len(cancer_drop)"
   ]
  },
  {
   "cell_type": "markdown",
   "id": "75c741e0-3866-4cbf-b9f6-c63557e86503",
   "metadata": {
    "tags": []
   },
   "source": [
    "---"
   ]
  },
  {
   "cell_type": "markdown",
   "id": "4050bb4e-dcd8-43ed-bfc1-5813ca316f90",
   "metadata": {},
   "source": [
    "## Wrapping it all in a function"
   ]
  },
  {
   "cell_type": "markdown",
   "id": "f8d96baf-0003-4a6f-a249-be0fa4eb574d",
   "metadata": {},
   "source": [
    "Once you've got your code running, put it all in a function so it's reusable!"
   ]
  },
  {
   "cell_type": "code",
   "execution_count": 80,
   "id": "ebd3a40a-3a2f-463b-86ea-166734340ea1",
   "metadata": {},
   "outputs": [],
   "source": [
    "# Reset index function\n",
    "def drop_duplicated(file_name):\n",
    "    \n",
    "    empty_list = []\n",
    "    \n",
    "    for row in range(1,len(file_name)):\n",
    "        if((file_name.iloc[row - 1] == file_name.iloc[row]).all()):\n",
    "            empty_list.append(row)\n",
    "    \n",
    "    file_name_drop = file_name.drop(empty_list)\n",
    "    \n",
    "    file_name_reset_index = file_name_drop.reset_index()\n",
    "    \n",
    "    file_name = file_name_reset_index\n",
    "    \n",
    "    return file_name"
   ]
  },
  {
   "cell_type": "markdown",
   "id": "a9d83870-fbd9-4378-9b45-7313e54b1b93",
   "metadata": {},
   "source": [
    "Run your function!"
   ]
  },
  {
   "cell_type": "code",
   "execution_count": 81,
   "id": "57d2bae1-79e0-4f37-b44d-25a749a6ec27",
   "metadata": {},
   "outputs": [],
   "source": [
    "cancer_small = pd.read_csv('./data/small_cancer_data.csv')"
   ]
  },
  {
   "cell_type": "code",
   "execution_count": 82,
   "id": "9ea4cc81",
   "metadata": {},
   "outputs": [
    {
     "data": {
      "text/plain": [
       "(699, 4)"
      ]
     },
     "execution_count": 82,
     "metadata": {},
     "output_type": "execute_result"
    }
   ],
   "source": [
    "cancer_small.shape"
   ]
  },
  {
   "cell_type": "code",
   "execution_count": 83,
   "id": "cafa8a95",
   "metadata": {},
   "outputs": [],
   "source": [
    "cancer_small_test = drop_duplicated(cancer_small)"
   ]
  },
  {
   "cell_type": "markdown",
   "id": "153c0710-a8a4-4203-94c8-b963b580f933",
   "metadata": {},
   "source": [
    "Check the shape to confirm your function worked!"
   ]
  },
  {
   "cell_type": "code",
   "execution_count": 85,
   "id": "78477514-33e6-43c5-a6d0-13655fd592a8",
   "metadata": {},
   "outputs": [
    {
     "data": {
      "text/plain": [
       "(692, 5)"
      ]
     },
     "execution_count": 85,
     "metadata": {},
     "output_type": "execute_result"
    }
   ],
   "source": [
    "cancer_small_test.shape"
   ]
  },
  {
   "cell_type": "markdown",
   "id": "5f30a839-9ff8-484d-9589-e87e6ed50fb3",
   "metadata": {},
   "source": [
    "### High-five the person closest to you!"
   ]
  },
  {
   "cell_type": "markdown",
   "id": "bea87ce8-5465-4dac-a538-66d3cc33b11f",
   "metadata": {},
   "source": [
    "Because you deserve a high-five right now."
   ]
  },
  {
   "cell_type": "markdown",
   "id": "b2d13e8f-6a91-4e8e-921a-e1dcbeaeca31",
   "metadata": {
    "tags": []
   },
   "source": [
    "---"
   ]
  }
 ],
 "metadata": {
  "kernelspec": {
   "display_name": "Python 3 (ipykernel)",
   "language": "python",
   "name": "python3"
  },
  "language_info": {
   "codemirror_mode": {
    "name": "ipython",
    "version": 3
   },
   "file_extension": ".py",
   "mimetype": "text/x-python",
   "name": "python",
   "nbconvert_exporter": "python",
   "pygments_lexer": "ipython3",
   "version": "3.9.12"
  }
 },
 "nbformat": 4,
 "nbformat_minor": 5
}
