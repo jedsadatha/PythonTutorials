{
 "cells": [
  {
   "cell_type": "markdown",
   "id": "0c64a342-fe4a-4d2d-8ab4-3db49e449855",
   "metadata": {},
   "source": [
    "# Machine Learning I Homework"
   ]
  },
  {
   "cell_type": "markdown",
   "id": "376144d5-b17e-4f6e-b0ee-b889a8dcb808",
   "metadata": {},
   "source": [
    "### 1. (Fake) Titanic Data Classification."
   ]
  },
  {
   "cell_type": "markdown",
   "id": "dce16bd0-f868-4eff-bc24-97a8b4f9d307",
   "metadata": {},
   "source": [
    "The file 'titanicMachLearn.csv' contains (fake) data showing an SES (socioeconomic status) measure, fare paid for the ticket, and whether the person survived or not."
   ]
  },
  {
   "cell_type": "markdown",
   "id": "274bda5b-d8ec-4293-9ab7-c11e458b4a1a",
   "metadata": {},
   "source": [
    "**1a.** Do a k=3 nearest neighbor classification on the data using an 80/20 training/test split. Summarize the performance of the classifier."
   ]
  },
  {
   "cell_type": "code",
   "execution_count": 1,
   "id": "5aeaa0ef",
   "metadata": {},
   "outputs": [],
   "source": [
    "import pandas as pd\n",
    "import numpy as np\n",
    "import matplotlib.pyplot as plt\n",
    "from sklearn.datasets import make_regression              # for simulating data\n",
    "from sklearn.model_selection import train_test_split      # splitting training and test data\n",
    "from sklearn.linear_model import LinearRegression         # making the linear predictor model\n",
    "from sklearn.metrics import mean_squared_error, r2_score  # compute some diagnostics"
   ]
  },
  {
   "cell_type": "code",
   "execution_count": 2,
   "id": "ef411a15-4d40-4b80-a652-dc57b28df154",
   "metadata": {},
   "outputs": [
    {
     "data": {
      "text/html": [
       "<div>\n",
       "<style scoped>\n",
       "    .dataframe tbody tr th:only-of-type {\n",
       "        vertical-align: middle;\n",
       "    }\n",
       "\n",
       "    .dataframe tbody tr th {\n",
       "        vertical-align: top;\n",
       "    }\n",
       "\n",
       "    .dataframe thead th {\n",
       "        text-align: right;\n",
       "    }\n",
       "</style>\n",
       "<table border=\"1\" class=\"dataframe\">\n",
       "  <thead>\n",
       "    <tr style=\"text-align: right;\">\n",
       "      <th></th>\n",
       "      <th>SES</th>\n",
       "      <th>Fare</th>\n",
       "      <th>Survived</th>\n",
       "    </tr>\n",
       "  </thead>\n",
       "  <tbody>\n",
       "    <tr>\n",
       "      <th>0</th>\n",
       "      <td>39</td>\n",
       "      <td>15</td>\n",
       "      <td>0</td>\n",
       "    </tr>\n",
       "    <tr>\n",
       "      <th>1</th>\n",
       "      <td>83</td>\n",
       "      <td>33</td>\n",
       "      <td>1</td>\n",
       "    </tr>\n",
       "    <tr>\n",
       "      <th>2</th>\n",
       "      <td>98</td>\n",
       "      <td>25</td>\n",
       "      <td>1</td>\n",
       "    </tr>\n",
       "    <tr>\n",
       "      <th>3</th>\n",
       "      <td>67</td>\n",
       "      <td>33</td>\n",
       "      <td>1</td>\n",
       "    </tr>\n",
       "    <tr>\n",
       "      <th>4</th>\n",
       "      <td>36</td>\n",
       "      <td>14</td>\n",
       "      <td>0</td>\n",
       "    </tr>\n",
       "  </tbody>\n",
       "</table>\n",
       "</div>"
      ],
      "text/plain": [
       "   SES  Fare  Survived\n",
       "0   39    15         0\n",
       "1   83    33         1\n",
       "2   98    25         1\n",
       "3   67    33         1\n",
       "4   36    14         0"
      ]
     },
     "execution_count": 2,
     "metadata": {},
     "output_type": "execute_result"
    }
   ],
   "source": [
    "titanic = pd.read_csv('titanicMachLearn.csv')\n",
    "titanic.head()"
   ]
  },
  {
   "cell_type": "code",
   "execution_count": 56,
   "id": "a3aa1b80",
   "metadata": {},
   "outputs": [],
   "source": [
    "X = np.array(titanic.iloc[:, [0,1]])  # Predictor\n",
    "y = np.array(titanic.iloc[:, 2])      # Target"
   ]
  },
  {
   "cell_type": "code",
   "execution_count": 59,
   "id": "d174917b",
   "metadata": {},
   "outputs": [],
   "source": [
    "# Split the data into training and testing sets\n",
    "x_train, x_test, y_train, y_test = train_test_split(X, y, test_size=0.2, random_state=42)"
   ]
  },
  {
   "cell_type": "code",
   "execution_count": 60,
   "id": "e6189000",
   "metadata": {},
   "outputs": [
    {
     "name": "stdout",
     "output_type": "stream",
     "text": [
      "x_train: (712, 2)\n",
      "x_test: (179, 2)\n",
      "y_train: (712,)\n",
      "y_test: (179,)\n"
     ]
    }
   ],
   "source": [
    "print('x_train:',x_train.shape)\n",
    "print('x_test:', x_test.shape)\n",
    "print('y_train:', y_train.shape)\n",
    "print('y_test:', y_test.shape)"
   ]
  },
  {
   "cell_type": "code",
   "execution_count": 61,
   "id": "00bea335",
   "metadata": {},
   "outputs": [],
   "source": [
    "from sklearn.neighbors import KNeighborsClassifier\n",
    "\n",
    "# Create the K-Nearest Neighbors classifier with k=3\n",
    "k = 3\n",
    "knn = KNeighborsClassifier(n_neighbors=k)"
   ]
  },
  {
   "cell_type": "code",
   "execution_count": 62,
   "id": "05f14e4c",
   "metadata": {},
   "outputs": [
    {
     "data": {
      "text/plain": [
       "KNeighborsClassifier(n_neighbors=3)"
      ]
     },
     "execution_count": 62,
     "metadata": {},
     "output_type": "execute_result"
    }
   ],
   "source": [
    "# KNN fit\n",
    "knn.fit(x_train,y_train)"
   ]
  },
  {
   "cell_type": "code",
   "execution_count": 63,
   "id": "233225d8",
   "metadata": {},
   "outputs": [],
   "source": [
    "# Create KNN Predictor\n",
    "y_pred = knn.predict(x_test)"
   ]
  },
  {
   "cell_type": "code",
   "execution_count": 65,
   "id": "ec99a78e",
   "metadata": {},
   "outputs": [
    {
     "name": "stdout",
     "output_type": "stream",
     "text": [
      "              precision    recall  f1-score   support\n",
      "\n",
      "           0       1.00      1.00      1.00       105\n",
      "           1       1.00      1.00      1.00        74\n",
      "\n",
      "    accuracy                           1.00       179\n",
      "   macro avg       1.00      1.00      1.00       179\n",
      "weighted avg       1.00      1.00      1.00       179\n",
      "\n"
     ]
    }
   ],
   "source": [
    "# Classifier Performance\n",
    "from sklearn.metrics import classification_report\n",
    "cls_report = classification_report(y_test, y_pred)\n",
    "print(cls_report)"
   ]
  },
  {
   "cell_type": "markdown",
   "id": "5551a5f7-d2ec-4027-8411-df68e7bedff0",
   "metadata": {},
   "source": [
    "**1b.** Make a scatter plot of the data with color showing the survival status. Does the plot intuitivly agree with the performance of your classifier?"
   ]
  },
  {
   "cell_type": "code",
   "execution_count": 67,
   "id": "5bd7a5e8",
   "metadata": {
    "scrolled": true
   },
   "outputs": [
    {
     "data": {
      "image/png": "[encoded data removed]",
      "text/plain": [
       "<Figure size 432x288 with 1 Axes>"
      ]
     },
     "metadata": {
      "needs_background": "light"
     },
     "output_type": "display_data"
    }
   ],
   "source": [
    "colors = ['blue', 'red']\n",
    "survival = ['Dead', 'Survived']\n",
    "\n",
    "for i, color, target_name in zip(range(3), colors, survival):\n",
    "    plt.scatter(x_test[y_pred == i, 0], x_test[y_pred == i, 1],\n",
    "                color = color, label = target_name, alpha = 0.4)\n",
    "\n",
    "plt.xlabel(\"SES\")\n",
    "plt.ylabel(\"Fare\")\n",
    "plt.legend(loc=\"upper left\")\n",
    "plt.title('Survival Rates from Tatanic Data')\n",
    "plt.show()"
   ]
  },
  {
   "cell_type": "markdown",
   "id": "e37a7fb8-8437-4290-b109-ca57070e01d4",
   "metadata": {},
   "source": [
    "### 2. Iris Data Classification."
   ]
  },
  {
   "cell_type": "markdown",
   "id": "91f9e7f2-36c0-4bb9-a1d2-d53057a4a8a2",
   "metadata": {},
   "source": [
    "Do a nearest neighbors classification on the iris data using the 2 variables you think would work best based on the pair-pair plot we did in class (i.e. don't use the exact same variables we used in the in-class tutorial).\n",
    "\n",
    "Compare the results with the results we got in class using the first two variables."
   ]
  },
  {
   "cell_type": "code",
   "execution_count": 73,
   "id": "490fef01-a4d8-4a71-b869-f4b04204eb99",
   "metadata": {},
   "outputs": [],
   "source": [
    "import seaborn as sns\n",
    "from sklearn.datasets import load_iris\n",
    "iris = load_iris()"
   ]
  },
  {
   "cell_type": "code",
   "execution_count": 74,
   "id": "403e251f",
   "metadata": {},
   "outputs": [
    {
     "data": {
      "text/plain": [
       "array(['setosa', 'versicolor', 'virginica'], dtype='<U10')"
      ]
     },
     "execution_count": 74,
     "metadata": {},
     "output_type": "execute_result"
    }
   ],
   "source": [
    "iris.target_names"
   ]
  },
  {
   "cell_type": "code",
   "execution_count": 75,
   "id": "0936f393",
   "metadata": {},
   "outputs": [],
   "source": [
    "X = iris.data     # predictor matrix\n",
    "y = iris.target   # target vector"
   ]
  },
  {
   "cell_type": "code",
   "execution_count": 87,
   "id": "e7c69ea9",
   "metadata": {},
   "outputs": [],
   "source": [
    "X = iris.data[:, 1:3]  # Use only the `sepal width` and `petal length`\n",
    "y = iris.target"
   ]
  },
  {
   "cell_type": "code",
   "execution_count": 88,
   "id": "e8bd42cf",
   "metadata": {},
   "outputs": [],
   "source": [
    "# Split the data into training and testing sets\n",
    "x_train, x_test, y_train, y_test = train_test_split(X, y, test_size=0.2, random_state=42)"
   ]
  },
  {
   "cell_type": "code",
   "execution_count": 89,
   "id": "5e6b7568",
   "metadata": {},
   "outputs": [
    {
     "name": "stdout",
     "output_type": "stream",
     "text": [
      "x_train: (120, 2)\n",
      "x_test: (30, 2)\n",
      "y_train: (120,)\n",
      "y_test: (30,)\n"
     ]
    }
   ],
   "source": [
    "print('x_train:',x_train.shape)\n",
    "print('x_test:', x_test.shape)\n",
    "print('y_train:', y_train.shape)\n",
    "print('y_test:', y_test.shape)"
   ]
  },
  {
   "cell_type": "code",
   "execution_count": 90,
   "id": "aac1ef10",
   "metadata": {},
   "outputs": [
    {
     "data": {
      "text/plain": [
       "KNeighborsClassifier(n_neighbors=3)"
      ]
     },
     "execution_count": 90,
     "metadata": {},
     "output_type": "execute_result"
    }
   ],
   "source": [
    "# Create the K-Nearest Neighbors classifier with k=3\n",
    "k = 3\n",
    "knn = KNeighborsClassifier(n_neighbors=k)\n",
    "\n",
    "# KNN fit\n",
    "knn.fit(x_train,y_train)"
   ]
  },
  {
   "cell_type": "code",
   "execution_count": 91,
   "id": "756c50fa",
   "metadata": {},
   "outputs": [],
   "source": [
    "# Create KNN Predictor\n",
    "y_pred = knn.predict(x_test)"
   ]
  },
  {
   "cell_type": "code",
   "execution_count": 92,
   "id": "1c67a5fb",
   "metadata": {},
   "outputs": [
    {
     "name": "stdout",
     "output_type": "stream",
     "text": [
      "              precision    recall  f1-score   support\n",
      "\n",
      "           0       1.00      1.00      1.00        10\n",
      "           1       0.89      0.89      0.89         9\n",
      "           2       0.91      0.91      0.91        11\n",
      "\n",
      "    accuracy                           0.93        30\n",
      "   macro avg       0.93      0.93      0.93        30\n",
      "weighted avg       0.93      0.93      0.93        30\n",
      "\n"
     ]
    }
   ],
   "source": [
    "from sklearn.metrics import classification_report\n",
    "cls_report = classification_report(y_test, y_pred)\n",
    "print(cls_report)"
   ]
  },
  {
   "cell_type": "code",
   "execution_count": 98,
   "id": "87914567",
   "metadata": {},
   "outputs": [
    {
     "data": {
      "image/png": "[encoded data removed]",
      "text/plain": [
       "<Figure size 432x288 with 1 Axes>"
      ]
     },
     "metadata": {
      "needs_background": "light"
     },
     "output_type": "display_data"
    }
   ],
   "source": [
    "colors = ['green', 'black', 'orange']\n",
    "species = iris.target_names\n",
    "\n",
    "for i, color, target_name in zip(range(3), colors, species):\n",
    "    plt.scatter(x_test[y_pred == i, 0], x_test[y_pred == i, 1],\n",
    "                color=color, label=target_name, alpha = 0.4)\n",
    "\n",
    "plt.xlabel(iris.feature_names[3]) # Sepal width\n",
    "plt.ylabel(iris.feature_names[2]) # petal length\n",
    "plt.legend(loc= 'lower left')\n",
    "plt.title('Iris Dataset: Petal length vs. Sepal width')\n",
    "plt.show()"
   ]
  }
 ],
 "metadata": {
  "kernelspec": {
   "display_name": "Python 3 (ipykernel)",
   "language": "python",
   "name": "python3"
  },
  "language_info": {
   "codemirror_mode": {
    "name": "ipython",
    "version": 3
   },
   "file_extension": ".py",
   "mimetype": "text/x-python",
   "name": "python",
   "nbconvert_exporter": "python",
   "pygments_lexer": "ipython3",
   "version": "3.9.12"
  }
 },
 "nbformat": 4,
 "nbformat_minor": 5
}
