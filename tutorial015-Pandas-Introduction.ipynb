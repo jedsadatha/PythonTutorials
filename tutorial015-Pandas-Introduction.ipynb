{
 "cells": [
  {
   "cell_type": "markdown",
   "id": "45b43bea",
   "metadata": {},
   "source": [
    "# Pandas I - Introduction to fundamental objects"
   ]
  },
  {
   "cell_type": "markdown",
   "id": "3d5be580",
   "metadata": {},
   "source": [
    "`pandas` is the Python library that structures and simplifies data manipulation and analysis. The name, pandas is derived by **pan**el and **da**ta. The library indeed focusses on representing data as tables (`DataFrames`), indices (`Index`) and data series (`Series`). "
   ]
  },
  {
   "cell_type": "markdown",
   "id": "5a9febac",
   "metadata": {},
   "source": [
    "|  |  |  |  |\n",
    "| --- | --- | --- | --- | \n",
    "|<img src=\"./assets/jnb021/Panda_Cub_from_Wolong,_Sichuan,_China.jpeg\" alt=\"Drawing\" style=\"width: 300px;\"/> | <img src=\"./assets/jnb021/Panda_Cub_from_Wolong,_Sichuan,_China.jpeg\" alt=\"Drawing\" style=\"width: 300px;\"/> | <img src=\"./assets/jnb021/Panda_Cub_from_Wolong,_Sichuan,_China.jpeg\" alt=\"Drawing\" style=\"width: 300px;\"/> | <img src=\"./assets/jnb021/Panda_Cub_from_Wolong,_Sichuan,_China.jpeg\" alt=\"Drawing\" style=\"width: 300px;\"/> |"
   ]
  },
  {
   "cell_type": "markdown",
   "id": "ac904f7e",
   "metadata": {},
   "source": [
    "`pandas` uses `NumPy` arrays to represent data. It provides specific functions to manipulated data as `code objects`. This means that to use pandas you need to import also NumPy. `pandas` requires and builds on top of `NumPy`.\n",
    "\n",
    "There are three main data object types in pandas:\n",
    "\n",
    "  - `Series` - A mutable, one-dimensional array of indexed data.\n",
    "  - `DataFrames` - A two-dimensional, size-mutable, potentially heterogeneous tabulated data structure.\n",
    "  - `Index` -  An one-dimensional, immutable array or ordered set (technically a multi-set, as Index objects may contain repeated values).\n",
    "\n",
    "Below we will learn a little bit more about these three data objects."
   ]
  },
  {
   "cell_type": "markdown",
   "id": "4dea46c0",
   "metadata": {},
   "source": [
    "###### A short history of Pandas.\n",
    "Wes McKinney started developing what then became pandas while working at the capital management firm Applied Quantitative Research (AQR). Pandas was developed initially as a closed-source project and was made open source in 2009. Pandas is sponsored by [NumFOCUS, Inc.](https://numfocus.org/) that promotes support and sponsorships of python based open source code. "
   ]
  },
  {
   "cell_type": "code",
   "execution_count": 1,
   "id": "c7b31003",
   "metadata": {},
   "outputs": [],
   "source": [
    "import numpy as np\n",
    "import pandas as pd"
   ]
  },
  {
   "cell_type": "markdown",
   "id": "61a4e23d",
   "metadata": {},
   "source": [
    "### The pandas `Series` object\n",
    "\n",
    "`Series` are dictionary-like objects. Pandas Series is a one-dimensional array that comes with labels assigned. They similar to NumPy one-dimensional arrays but they are labeled or indexed. So they are built on top of NumPy arrays but come with additional functionality as well as constrains. They can be thought of as a specification of NumPy arrays. For example, let's evaluate the code below."
   ]
  },
  {
   "cell_type": "markdown",
   "id": "34454c45",
   "metadata": {},
   "source": [
    "First we define a pandas Series objects and assign a set of string values to the elements of the object:"
   ]
  },
  {
   "cell_type": "code",
   "execution_count": 2,
   "id": "c9a07992",
   "metadata": {},
   "outputs": [],
   "source": [
    "data = pd.Series(['a', 'b', 'c', 'd'])"
   ]
  },
  {
   "cell_type": "markdown",
   "id": "7d145b3e",
   "metadata": {},
   "source": [
    "After defining the object let's explore it."
   ]
  },
  {
   "cell_type": "code",
   "execution_count": 3,
   "id": "cc666d89",
   "metadata": {},
   "outputs": [
    {
     "name": "stdout",
     "output_type": "stream",
     "text": [
      "0    a\n",
      "1    b\n",
      "2    c\n",
      "3    d\n",
      "dtype: object\n"
     ]
    }
   ],
   "source": [
    "print (data)"
   ]
  },
  {
   "cell_type": "markdown",
   "id": "a0cf8b83",
   "metadata": {},
   "source": [
    "The data type is defined as `object`, the values we assigned are stored in the second column. The first column is the `index` automatically assigned by pandas to each value. Now, exch value comes with an index. This is a foundamental data organization aspect of pandas. Values always have indeces, because pandas deals with panel data, i.e., tables. So even a one-dimensional array as a Series is assigned indices just like a table is.\n",
    "\n",
    "We will discuss pandas index objects later."
   ]
  },
  {
   "cell_type": "markdown",
   "id": "1d651861",
   "metadata": {},
   "source": [
    "A Pandas Series can be created directly by assigning values into an array (using `[]`), and that array to a series (`pd.Series()`). Yet, the final product of that series definition create something different than an Array. It creates a set of pairs of values where a label (`index`) is associated to a corresponding value. \n",
    "\n",
    "Series are capable of holding data of any type (integer, string, float, python objects, etc.).  For example:"
   ]
  },
  {
   "cell_type": "code",
   "execution_count": 4,
   "id": "2b82ffce",
   "metadata": {},
   "outputs": [
    {
     "name": "stdout",
     "output_type": "stream",
     "text": [
      "0    string\n",
      "1        10\n",
      "2       NaN\n",
      "3      0.01\n",
      "dtype: object\n"
     ]
    }
   ],
   "source": [
    "data = pd.Series(['string',10, np.nan,0.01])\n",
    "print(data)"
   ]
  },
  {
   "cell_type": "markdown",
   "id": "d50e53ee",
   "metadata": {},
   "source": [
    "Once the Series object is created, the Index is created and it becomes part of the methods of the Series object. This means that the Index to the entries can be retrieved and used to address the corresponding entry. For example, we can call the `Index` as a method and it will return the range, with the min value, the max value and the steps in btween them:"
   ]
  },
  {
   "cell_type": "code",
   "execution_count": 5,
   "id": "922598f7",
   "metadata": {},
   "outputs": [
    {
     "data": {
      "text/plain": [
       "RangeIndex(start=0, stop=4, step=1)"
      ]
     },
     "execution_count": 5,
     "metadata": {},
     "output_type": "execute_result"
    }
   ],
   "source": [
    "data.index"
   ]
  },
  {
   "cell_type": "markdown",
   "id": "805bffef",
   "metadata": {},
   "source": [
    "The index can be used to address the corresponding value in the Series object:"
   ]
  },
  {
   "cell_type": "code",
   "execution_count": 6,
   "id": "bf19e0f6",
   "metadata": {},
   "outputs": [
    {
     "data": {
      "text/plain": [
       "0    string\n",
       "1        10\n",
       "2       NaN\n",
       "dtype: object"
      ]
     },
     "execution_count": 6,
     "metadata": {},
     "output_type": "execute_result"
    }
   ],
   "source": [
    "data[0:3]"
   ]
  },
  {
   "cell_type": "markdown",
   "id": "20f4c8f0",
   "metadata": {},
   "source": [
    "Because the Index in pandas is explictly defined and it becomes a method (this is in contrast with NumPy arrays where indices are impliclty defined and hence not addressable or callable), the pandas Series object becomes much more useful and strctured.\n",
    "\n",
    "For example, we can create a Series object by explictly assigning values and indices:"
   ]
  },
  {
   "cell_type": "code",
   "execution_count": 7,
   "id": "9a7be44d",
   "metadata": {},
   "outputs": [
    {
     "name": "stdout",
     "output_type": "stream",
     "text": [
      "0    string\n",
      "3        10\n",
      "2       NaN\n",
      "4      0.01\n",
      "dtype: object\n"
     ]
    }
   ],
   "source": [
    "data1 = pd.Series(['string',10, np.nan,0.01],index=[0,3,2,4])\n",
    "\n",
    "print(data1)"
   ]
  },
  {
   "cell_type": "markdown",
   "id": "60ba7477",
   "metadata": {},
   "source": [
    "Even though `data` and `data1` might look the same, they are not. The indices are different:"
   ]
  },
  {
   "cell_type": "code",
   "execution_count": 8,
   "id": "95d407e0",
   "metadata": {},
   "outputs": [
    {
     "name": "stdout",
     "output_type": "stream",
     "text": [
      "RangeIndex(start=0, stop=4, step=1)\n",
      "Int64Index([0, 3, 2, 4], dtype='int64')\n"
     ]
    }
   ],
   "source": [
    "print(data.index)\n",
    "print(data1.index)"
   ]
  },
  {
   "cell_type": "markdown",
   "id": "6e0ac49c",
   "metadata": {},
   "source": [
    "So, that, if we address the second entry in either object we will get different values:"
   ]
  },
  {
   "cell_type": "code",
   "execution_count": 9,
   "id": "afd59fa4",
   "metadata": {},
   "outputs": [
    {
     "name": "stdout",
     "output_type": "stream",
     "text": [
      "0.01\n",
      "10\n"
     ]
    }
   ],
   "source": [
    "print(data[3])\n",
    "print(data1[3])"
   ]
  },
  {
   "cell_type": "markdown",
   "id": "55391426",
   "metadata": {},
   "source": [
    "One way to think about pandas Series objects is that they are dictionaries where a label is paired to a value, say `label 1` is assigned to `value 1`, or `label 2` to `value 3` etc. Indeed, a pandas Series object can be constructed by hand building a dictionary a set of pairing of labels and values. \n",
    "\n",
    "For example, let's build a [Python dictionary](https://docs.python.org/3/tutorial/datastructures.html#dictionaries) of cognitive health. The dictionary pairs a label to a value: "
   ]
  },
  {
   "cell_type": "code",
   "execution_count": 10,
   "id": "a83b43b0",
   "metadata": {},
   "outputs": [],
   "source": [
    "cognitive_health = {'happyness':10,\n",
    "                    'language': 2, \n",
    "                    'energy': 5, \n",
    "                    'memory': 3}"
   ]
  },
  {
   "cell_type": "markdown",
   "id": "b16c8251",
   "metadata": {},
   "source": [
    "Note that python dictionaries have attributes (you can type `cognitive_health.` and press `tab` twice to get a list of attributes), yet the python dictionary does not have `index` as an attribute. \n",
    "\n",
    "The following line will return an error."
   ]
  },
  {
   "cell_type": "code",
   "execution_count": 11,
   "id": "7ddea7ea",
   "metadata": {},
   "outputs": [
    {
     "ename": "AttributeError",
     "evalue": "'dict' object has no attribute 'index'",
     "output_type": "error",
     "traceback": [
      "\u001b[0;31m---------------------------------------------------------------------------\u001b[0m",
      "\u001b[0;31mAttributeError\u001b[0m                            Traceback (most recent call last)",
      "Input \u001b[0;32mIn [11]\u001b[0m, in \u001b[0;36m<cell line: 1>\u001b[0;34m()\u001b[0m\n\u001b[0;32m----> 1\u001b[0m \u001b[43mcognitive_health\u001b[49m\u001b[38;5;241;43m.\u001b[39;49m\u001b[43mindex\u001b[49m\n",
      "\u001b[0;31mAttributeError\u001b[0m: 'dict' object has no attribute 'index'"
     ]
    }
   ],
   "source": [
    "cognitive_health.index"
   ]
  },
  {
   "cell_type": "markdown",
   "id": "c87fcc77",
   "metadata": {},
   "source": [
    "Python dictionaries can be used to set pandas Series directly:"
   ]
  },
  {
   "cell_type": "code",
   "execution_count": 12,
   "id": "6e29c05c",
   "metadata": {},
   "outputs": [],
   "source": [
    "cognitive_health_Series = pd.Series(cognitive_health)"
   ]
  },
  {
   "cell_type": "markdown",
   "id": "47d117e7",
   "metadata": {},
   "source": [
    "The dictionary has been made into a panda Series and it is now ordered and labelled. So, the following operation will not return an error, but the labels of the Series (the indices):"
   ]
  },
  {
   "cell_type": "code",
   "execution_count": 13,
   "id": "f7ef31a0",
   "metadata": {},
   "outputs": [
    {
     "data": {
      "text/plain": [
       "Index(['happyness', 'language', 'energy', 'memory'], dtype='object')"
      ]
     },
     "execution_count": 13,
     "metadata": {},
     "output_type": "execute_result"
    }
   ],
   "source": [
    "cognitive_health_Series.index"
   ]
  },
  {
   "cell_type": "markdown",
   "id": "49c2fc02",
   "metadata": {},
   "source": [
    "Another important property that the pandas Series have and python dictionaries do not is the ability to allow slicing. Whereas, a dictionary would return an error if called as follows:"
   ]
  },
  {
   "cell_type": "code",
   "execution_count": 14,
   "id": "d324e8d0",
   "metadata": {},
   "outputs": [
    {
     "ename": "TypeError",
     "evalue": "unhashable type: 'slice'",
     "output_type": "error",
     "traceback": [
      "\u001b[0;31m---------------------------------------------------------------------------\u001b[0m",
      "\u001b[0;31mTypeError\u001b[0m                                 Traceback (most recent call last)",
      "Input \u001b[0;32mIn [14]\u001b[0m, in \u001b[0;36m<cell line: 1>\u001b[0;34m()\u001b[0m\n\u001b[0;32m----> 1\u001b[0m \u001b[43mcognitive_health\u001b[49m\u001b[43m[\u001b[49m\u001b[38;5;124;43m'\u001b[39;49m\u001b[38;5;124;43mhappyness\u001b[39;49m\u001b[38;5;124;43m'\u001b[39;49m\u001b[43m:\u001b[49m\u001b[38;5;124;43m'\u001b[39;49m\u001b[38;5;124;43menergy\u001b[39;49m\u001b[38;5;124;43m'\u001b[39;49m\u001b[43m]\u001b[49m\n",
      "\u001b[0;31mTypeError\u001b[0m: unhashable type: 'slice'"
     ]
    }
   ],
   "source": [
    "cognitive_health['happyness':'energy']"
   ]
  },
  {
   "cell_type": "markdown",
   "id": "c4534034",
   "metadata": {},
   "source": [
    "A pandas Series do allow slicing: "
   ]
  },
  {
   "cell_type": "code",
   "execution_count": 15,
   "id": "a04cd35d",
   "metadata": {},
   "outputs": [
    {
     "data": {
      "text/plain": [
       "happyness    10\n",
       "language      2\n",
       "energy        5\n",
       "dtype: int64"
      ]
     },
     "execution_count": 15,
     "metadata": {},
     "output_type": "execute_result"
    }
   ],
   "source": [
    "cognitive_health_Series['happyness':'energy']"
   ]
  },
  {
   "cell_type": "markdown",
   "id": "dcda1d8a",
   "metadata": {},
   "source": [
    "To summarize what we have learned about pandas Series:\n",
    "\n",
    " - They are ordered and labelled one-dimensional arrays.\n",
    " - They can be populated by assigning\n",
    "  - values only (indeces are automatically assigned): `series = pd.Series(['a','b','c'])`\n",
    "  - values and indices explicitly: `series = pd.Series(['a','b','c'],index = [1,3,2])`\n",
    "  - python dictionaries directly: `dic = {1:'a',2:'b',3:'c'}`, `series = pd.Series(dic)` \n",
    " - They always come with the property `index`"
   ]
  },
  {
   "cell_type": "markdown",
   "id": "fe74dfd4",
   "metadata": {},
   "source": [
    "$\\color{blue}{\\text{Complete the following exercise.}}$\n",
    "\n",
    "  - Use the cell below to create a `Pandas` `Series` containing the months of the year as labels (index) and their duration in months as values (use a dictionary to create the `Series`):"
   ]
  },
  {
   "cell_type": "code",
   "execution_count": 23,
   "id": "996116d7",
   "metadata": {},
   "outputs": [
    {
     "name": "stdout",
     "output_type": "stream",
     "text": [
      "{'January': 31, 'February': 28, 'March': 31, 'April': 30, 'May': 31, 'June': 30, 'July': 31, 'August': 31, 'September': 30, 'October': 31, 'November': 30, 'December': 31}\n"
     ]
    }
   ],
   "source": [
    "month_2022 = {'January':31,\n",
    "              'February': 28, \n",
    "              'March': 31, \n",
    "              'April': 30,\n",
    "              'May': 31,\n",
    "              'June':30,\n",
    "              'July':31,\n",
    "              'August':31,\n",
    "              'September':30,\n",
    "              'October':31,\n",
    "              'November':30,\n",
    "              'December':31\n",
    "             }\n",
    "\n",
    "print(month_2022)"
   ]
  },
  {
   "cell_type": "markdown",
   "id": "a3b73bbe",
   "metadata": {},
   "source": [
    " - Use the cell below to create a Pandas Series containing the months of the year as labels (index) and their duration in months as values (define index and values explicitly, or in other words do not use a dictionary to define the `Series`):"
   ]
  },
  {
   "cell_type": "code",
   "execution_count": 24,
   "id": "2bb9fdbd",
   "metadata": {},
   "outputs": [
    {
     "data": {
      "text/plain": [
       "January      31\n",
       "February     28\n",
       "March        31\n",
       "April        30\n",
       "May          31\n",
       "June         30\n",
       "July         31\n",
       "August       31\n",
       "September    30\n",
       "October      31\n",
       "November     30\n",
       "December     31\n",
       "dtype: int64"
      ]
     },
     "execution_count": 24,
     "metadata": {},
     "output_type": "execute_result"
    }
   ],
   "source": [
    "month_2022_Series = pd.Series(month_2022)\n",
    "\n",
    "month_2022_Series.index\n",
    "\n",
    "month_2022_Series['January':'December'] #or print(month_2022_Series)"
   ]
  },
  {
   "cell_type": "markdown",
   "id": "993aa08a",
   "metadata": {},
   "source": [
    "### Pandas `index` object\n",
    "\n",
    "Let's briefly discuss the `index` object in pandas. \n",
    "\n",
    "An `Index` is the pandas object that hosts information regarding the ordering and labels of the arrays inside other objects such as `Series` and `DataFrames`."
   ]
  },
  {
   "cell_type": "markdown",
   "id": "a2f4b00c",
   "metadata": {},
   "source": [
    "Index objects also have many of the attributes familiar from NumPy arrays (e.g., shape, dimensions, size, etc):"
   ]
  },
  {
   "cell_type": "code",
   "execution_count": 25,
   "id": "dbdfa80b",
   "metadata": {},
   "outputs": [
    {
     "name": "stdout",
     "output_type": "stream",
     "text": [
      "5 (5,) 1 int64\n",
      "Int64Index([1, 2, 3, 4, 5], dtype='int64')\n"
     ]
    }
   ],
   "source": [
    "ind = pd.Index([1, 2, 3, 4, 5])\n",
    "\n",
    "print(ind.size, ind.shape, ind.ndim, ind.dtype)\n",
    "\n",
    "print(ind)"
   ]
  },
  {
   "cell_type": "markdown",
   "id": "9d504aa8",
   "metadata": {},
   "source": [
    "Pandas `Index` objects are immutable.\n",
    "\n",
    "An index is similar to a NumPy array, but it is immutable. This means that once an Index is defined the values inside the index cannot be changed.\n",
    "\n",
    "Where arrays can be modified after definition, a pandas `index` cannot. Let's try this. Above we defined `ind` as a pandas `index` and set in the third position the value `3`. \n",
    "\n",
    "Let's try to change that value, evaluate the following operation in which we attempt to set the value `10` in the third position of `ind`:"
   ]
  },
  {
   "cell_type": "code",
   "execution_count": 26,
   "id": "c1c46330",
   "metadata": {},
   "outputs": [
    {
     "ename": "TypeError",
     "evalue": "Index does not support mutable operations",
     "output_type": "error",
     "traceback": [
      "\u001b[0;31m---------------------------------------------------------------------------\u001b[0m",
      "\u001b[0;31mTypeError\u001b[0m                                 Traceback (most recent call last)",
      "Input \u001b[0;32mIn [26]\u001b[0m, in \u001b[0;36m<cell line: 1>\u001b[0;34m()\u001b[0m\n\u001b[0;32m----> 1\u001b[0m ind[\u001b[38;5;241m2\u001b[39m] \u001b[38;5;241m=\u001b[39m \u001b[38;5;241m10\u001b[39m\n",
      "File \u001b[0;32m~/opt/anaconda3/lib/python3.9/site-packages/pandas/core/indexes/base.py:5021\u001b[0m, in \u001b[0;36mIndex.__setitem__\u001b[0;34m(self, key, value)\u001b[0m\n\u001b[1;32m   5019\u001b[0m \u001b[38;5;129m@final\u001b[39m\n\u001b[1;32m   5020\u001b[0m \u001b[38;5;28;01mdef\u001b[39;00m \u001b[38;5;21m__setitem__\u001b[39m(\u001b[38;5;28mself\u001b[39m, key, value):\n\u001b[0;32m-> 5021\u001b[0m     \u001b[38;5;28;01mraise\u001b[39;00m \u001b[38;5;167;01mTypeError\u001b[39;00m(\u001b[38;5;124m\"\u001b[39m\u001b[38;5;124mIndex does not support mutable operations\u001b[39m\u001b[38;5;124m\"\u001b[39m)\n",
      "\u001b[0;31mTypeError\u001b[0m: Index does not support mutable operations"
     ]
    }
   ],
   "source": [
    "ind[2] = 10"
   ]
  },
  {
   "cell_type": "markdown",
   "id": "ae4c4180",
   "metadata": {},
   "source": [
    "$\\color{blue}{\\text{Complete the following exercise.}}$\n",
    "\n",
    "  - Use the cell below to create a `Pandas` `index` called `PandasIndexOne` containing the days of the week and a corresponding `Numpy` `array` called `NumpyArrayOne` containing the same values:"
   ]
  },
  {
   "cell_type": "code",
   "execution_count": 32,
   "id": "caf36afa",
   "metadata": {},
   "outputs": [],
   "source": [
    "PandasIndexOne = pd.Index(['Monday','Tuesday','Wednesday','Thursday','Friday','Saturday','Sunday'])\n",
    "\n",
    "NumpyArrayOne = pd.array(['Monday','Tuesday','Wednesday','Thursday','Friday','Saturday','Sunday'])\n"
   ]
  },
  {
   "cell_type": "markdown",
   "id": "10249662",
   "metadata": {},
   "source": [
    "  -  Show that the `PandasIndexOne` is immutable and `NumpyArrayOne` is not."
   ]
  },
  {
   "cell_type": "code",
   "execution_count": 46,
   "id": "2a5c1a6a",
   "metadata": {},
   "outputs": [
    {
     "ename": "TypeError",
     "evalue": "Index does not support mutable operations",
     "output_type": "error",
     "traceback": [
      "\u001b[0;31m---------------------------------------------------------------------------\u001b[0m",
      "\u001b[0;31mTypeError\u001b[0m                                 Traceback (most recent call last)",
      "Input \u001b[0;32mIn [46]\u001b[0m, in \u001b[0;36m<cell line: 2>\u001b[0;34m()\u001b[0m\n\u001b[1;32m      1\u001b[0m PandasIndexOne\n\u001b[0;32m----> 2\u001b[0m PandasIndexOne[\u001b[38;5;241m2\u001b[39m] \u001b[38;5;241m=\u001b[39m \u001b[38;5;241m10\u001b[39m\n",
      "File \u001b[0;32m~/opt/anaconda3/lib/python3.9/site-packages/pandas/core/indexes/base.py:5021\u001b[0m, in \u001b[0;36mIndex.__setitem__\u001b[0;34m(self, key, value)\u001b[0m\n\u001b[1;32m   5019\u001b[0m \u001b[38;5;129m@final\u001b[39m\n\u001b[1;32m   5020\u001b[0m \u001b[38;5;28;01mdef\u001b[39;00m \u001b[38;5;21m__setitem__\u001b[39m(\u001b[38;5;28mself\u001b[39m, key, value):\n\u001b[0;32m-> 5021\u001b[0m     \u001b[38;5;28;01mraise\u001b[39;00m \u001b[38;5;167;01mTypeError\u001b[39;00m(\u001b[38;5;124m\"\u001b[39m\u001b[38;5;124mIndex does not support mutable operations\u001b[39m\u001b[38;5;124m\"\u001b[39m)\n",
      "\u001b[0;31mTypeError\u001b[0m: Index does not support mutable operations"
     ]
    }
   ],
   "source": [
    "PandasIndexOne\n",
    "PandasIndexOne[2] = 10"
   ]
  },
  {
   "cell_type": "code",
   "execution_count": 49,
   "id": "c7354838",
   "metadata": {
    "scrolled": true
   },
   "outputs": [
    {
     "data": {
      "text/plain": [
       "<StringArray>\n",
       "['Monday', 'Tuesday', 'Test', 'Thursday', 'Friday', 'Saturday', 'Sunday']\n",
       "Length: 7, dtype: string"
      ]
     },
     "execution_count": 49,
     "metadata": {},
     "output_type": "execute_result"
    }
   ],
   "source": [
    "NumpyArrayOne\n",
    "NumpyArrayOne[2] = 'Test'\n",
    "\n",
    "NumpyArrayOne"
   ]
  },
  {
   "cell_type": "markdown",
   "id": "4a54293d",
   "metadata": {},
   "source": [
    "The error should return the following line at the end:\n",
    "\n",
    "`TypeError: Index does not support mutable operations`\n",
    "\n",
    "A pandas `Index` does not allow changes. This is helpful. One way to think about the index is that it is a specialized NumPy array. Specialized means that it has a more narrow scope than the more general goal of a NumPy array. The scope is that to define the (ahem) index of a data frame. Because of this scope (store an index) changes to the values of the array are not allowed, in other words the `Index` is immutable, or cannot be changed after definition by assiging a different value to any of its elements.\n",
    "\n",
    "If we think about it, this makes sense. Changing a value inside an index of a data frame would change the definition of the data frame and really invalidating the purpuse of the index and of the data frame."
   ]
  },
  {
   "cell_type": "markdown",
   "id": "d4edd6ae",
   "metadata": {},
   "source": [
    "Pandas `Index` objects are designed to facilitate operations on the array and serve the task of keeping track of positions of data entries in the objects. \n",
    "\n",
    "They support and facilitiate operations such as joining datasets. Because of this the pandas index object follows many operations of the built in python datatype [`set`](https://docs.python.org/3/library/stdtypes.html#set-types-set-frozenset).\n",
    "\n",
    "Because of this the Index object allows many of operations also served by Python set data structure, such as unions, intersections, differences, and other combinations can be computed in a familiar way."
   ]
  },
  {
   "cell_type": "markdown",
   "id": "02adfe67",
   "metadata": {},
   "source": [
    "For example, two pandas index object can be united. This means that the unique indices are combined:"
   ]
  },
  {
   "cell_type": "code",
   "execution_count": 42,
   "id": "96268059",
   "metadata": {},
   "outputs": [
    {
     "data": {
      "text/plain": [
       "Int64Index([1, 2, 3, 4, 5, 6, 20], dtype='int64')"
      ]
     },
     "execution_count": 42,
     "metadata": {},
     "output_type": "execute_result"
    }
   ],
   "source": [
    "index1 = pd.Index([1, 2, 3, 4, 5])\n",
    "index2 = pd.Index([1, 3, 4, 6, 20])\n",
    "\n",
    "index1.union(index2) "
   ]
  },
  {
   "cell_type": "markdown",
   "id": "d0d93062",
   "metadata": {},
   "source": [
    "Other logical operations can be performed using pandas index objects, for example intersection (find the common elements):"
   ]
  },
  {
   "cell_type": "code",
   "execution_count": 43,
   "id": "cd6832dc",
   "metadata": {},
   "outputs": [
    {
     "data": {
      "text/plain": [
       "Int64Index([1, 3, 4], dtype='int64')"
      ]
     },
     "execution_count": 43,
     "metadata": {},
     "output_type": "execute_result"
    }
   ],
   "source": [
    "index1.intersection(index2)  "
   ]
  },
  {
   "cell_type": "code",
   "execution_count": 44,
   "id": "9d73939f",
   "metadata": {},
   "outputs": [
    {
     "data": {
      "text/plain": [
       "1    3\n",
       "3    6\n",
       "4    2\n",
       "dtype: int64"
      ]
     },
     "execution_count": 44,
     "metadata": {},
     "output_type": "execute_result"
    }
   ],
   "source": [
    "myseries = pd.Series([1,3,4,6,2,8])\n",
    "myseries[index1.intersection(index2)]"
   ]
  },
  {
   "cell_type": "markdown",
   "id": "2f409eb0",
   "metadata": {},
   "source": [
    "In sum, pandas index objects allow performing slicing, indexing operations and facilitate keeping track of, ahem, the indices."
   ]
  },
  {
   "cell_type": "markdown",
   "id": "13048823",
   "metadata": {},
   "source": [
    "$\\color{blue}{\\text{Complete the following exercise.}}$\n",
    "\n",
    "  - Use the cell below to create two `Pandas` `Series`. The first Series should be called `PandasSeriesOne` contain titles of five songs from your favourite artist as indices and their respective duration (it is fine to only write the first four words of the title). The second Series should be called `PandasSeriesTwo` and contain the songs of your colleague sitting to your right (or left if no one sites to your right) favourite artist as indices and their correspdoning duration as value. "
   ]
  },
  {
   "cell_type": "code",
   "execution_count": 58,
   "id": "9eab5de6",
   "metadata": {},
   "outputs": [
    {
     "data": {
      "text/plain": [
       "Index(['High Hopes', 'Immortals', 'Until I Found You', 'Dont Stop The Music',\n",
       "       'First Burn'],\n",
       "      dtype='object')"
      ]
     },
     "execution_count": 58,
     "metadata": {},
     "output_type": "execute_result"
    }
   ],
   "source": [
    "PandasSeriesOne = {'High Hopes': 3.17,\n",
    "               'Immortals': 3.31,\n",
    "               'Until I Found You': 2.56,\n",
    "               'Dont Stop The Music': 3.54,\n",
    "               'First Burn': 3.07}\n",
    "\n",
    "PandasSeriesOne_Series = pd.Series(PandasSeriesOne)\n",
    "\n",
    "PandasSeriesOne_Series.index"
   ]
  },
  {
   "cell_type": "code",
   "execution_count": 59,
   "id": "b37c3862",
   "metadata": {},
   "outputs": [
    {
     "data": {
      "text/plain": [
       "Index(['Content', 'How the World Works', 'Dont Wanna Know', 'Goodbye',\n",
       "       'Any Day Now'],\n",
       "      dtype='object')"
      ]
     },
     "execution_count": 59,
     "metadata": {},
     "output_type": "execute_result"
    }
   ],
   "source": [
    "PandasSeriesTwo = {'Content': 1.36,\n",
    "                  'How the World Works': 4.16,\n",
    "                  'Dont Wanna Know': 1.03,\n",
    "                  'Goodbye': 4.09,\n",
    "                  'Any Day Now': 0.57}\n",
    "\n",
    "PandasSeriesTwo_Series = pd.Series(PandasSeriesTwo)\n",
    "\n",
    "PandasSeriesTwo_Series.index"
   ]
  },
  {
   "cell_type": "code",
   "execution_count": 56,
   "id": "638034c4",
   "metadata": {},
   "outputs": [],
   "source": [
    "#PandasSeriesOne = pd.Index(['High Hopes', 'Immortals', 'Until I Found You', 'Dont Stop The Music', 'First Burn'])\n",
    "#PandasSeriesTwo = pd.Index([3.17,3.31,2.56,3.54,3.07])"
   ]
  },
  {
   "cell_type": "markdown",
   "id": "a4825173",
   "metadata": {},
   "source": [
    "  - Use the cell below to find the duration of the songs you and your colleague have in common."
   ]
  },
  {
   "cell_type": "code",
   "execution_count": 61,
   "id": "bc5b7224",
   "metadata": {},
   "outputs": [
    {
     "ename": "AttributeError",
     "evalue": "'dict' object has no attribute 'intersection'",
     "output_type": "error",
     "traceback": [
      "\u001b[0;31m---------------------------------------------------------------------------\u001b[0m",
      "\u001b[0;31mAttributeError\u001b[0m                            Traceback (most recent call last)",
      "Input \u001b[0;32mIn [61]\u001b[0m, in \u001b[0;36m<cell line: 1>\u001b[0;34m()\u001b[0m\n\u001b[0;32m----> 1\u001b[0m \u001b[43mPandasSeriesOne\u001b[49m\u001b[38;5;241;43m.\u001b[39;49m\u001b[43mintersection\u001b[49m(PandasSeriesTwo)\n",
      "\u001b[0;31mAttributeError\u001b[0m: 'dict' object has no attribute 'intersection'"
     ]
    }
   ],
   "source": [
    "PandasSeriesOne.intersection(PandasSeriesTwo)  "
   ]
  },
  {
   "cell_type": "markdown",
   "id": "8458072c",
   "metadata": {},
   "source": [
    "### Pandas `DataFrame` objects"
   ]
  },
  {
   "cell_type": "markdown",
   "id": "ad3cf8a8",
   "metadata": {},
   "source": [
    "Whereas pandas `Index` and `Series` objects are the backbone of the pandas library, the `DataFrame` object is the workhorse of the library. DataFrames have effectively made pandas the library for data science."
   ]
  },
  {
   "cell_type": "markdown",
   "id": "e20b2253",
   "metadata": {},
   "source": [
    "The DataFrame is an exstension of the Series object. It is a 2-dimensional, mutable array that it can be conceptualized as either a more general NumPy array, or a specialized Python dictionary. \n",
    "\n",
    "A DataFrame can be defined most simply by setting some values to it. The indexing and labelling is automatically assigned by pandas. For example, we can create a one-dimensional list and assign the values of the list to a DataFrame:"
   ]
  },
  {
   "cell_type": "code",
   "execution_count": 62,
   "id": "2f7eb797",
   "metadata": {},
   "outputs": [
    {
     "name": "stdout",
     "output_type": "stream",
     "text": [
      "   0\n",
      "0  a\n",
      "1  b\n",
      "2  c\n",
      "3  d\n"
     ]
    }
   ],
   "source": [
    "list = ['a','b','c','d']\n",
    "data_frame1 = pd.DataFrame(list)\n",
    "print(data_frame1)"
   ]
  },
  {
   "cell_type": "markdown",
   "id": "77270c95",
   "metadata": {},
   "source": [
    "Even though the result might seem very similar to that obtained about with the Series object, in reality, the DataFrame object has assigned not one but two labels, one label for the rows dimension (`[0:3]`) and one for the column dimension (`0`).\n",
    "\n",
    "Indeed, we can notice from the `print()` output that two dimensions were automatically labelled (indexed) with numbers. Whereas the Series is created as a one-dimensional object, the DataFrame is created as a two-dimensional object."
   ]
  },
  {
   "cell_type": "markdown",
   "id": "e40ca7c4",
   "metadata": {},
   "source": [
    "Another way to think about a DataFrame is that it is a sequence of *aligned* Series objects. What do we mean by that?\n",
    "\n",
    "Each column in the DataFrame can be thought of as a Series. Each series is labelled by the column index. Importantley, the series are aligned, this means that the set of Series (the columns of the DataFrame) are indexed by a common `Index` object.\n",
    "\n",
    "Let's take a look at all this."
   ]
  },
  {
   "cell_type": "markdown",
   "id": "db6f2afd",
   "metadata": {},
   "source": [
    "Let's construct a new Series object similar to `cognitive_health_Series`, the object we created above (make sure that object is still in memeory, if needed re-run that section of the cells). Let's assume that that original series represented the data collected on a subject."
   ]
  },
  {
   "cell_type": "code",
   "execution_count": 63,
   "id": "e319b354",
   "metadata": {},
   "outputs": [
    {
     "data": {
      "text/plain": [
       "happyness    10\n",
       "language      2\n",
       "energy        5\n",
       "memory        3\n",
       "dtype: int64"
      ]
     },
     "execution_count": 63,
     "metadata": {},
     "output_type": "execute_result"
    }
   ],
   "source": [
    "cognitive_health_Series"
   ]
  },
  {
   "cell_type": "markdown",
   "id": "5dd9366f",
   "metadata": {},
   "source": [
    "The new Series will represent data on a second subject. To build the series we will use steps similar to the ones used above. We will first make a python dictionary and then make a pandas Series object out of it."
   ]
  },
  {
   "cell_type": "code",
   "execution_count": 64,
   "id": "bd9c364a",
   "metadata": {},
   "outputs": [
    {
     "data": {
      "text/plain": [
       "happyness    15\n",
       "language      4\n",
       "energy        9\n",
       "memory        6\n",
       "dtype: int64"
      ]
     },
     "execution_count": 64,
     "metadata": {},
     "output_type": "execute_result"
    }
   ],
   "source": [
    "cognitive_health_subject2_dict = {'happyness': 15,\n",
    "                                  'language': 4, \n",
    "                                  'energy': 9, \n",
    "                                  'memory': 6}\n",
    "cognitive_health_subject2_series = pd.Series(cognitive_health_subject2_dict)\n",
    "cognitive_health_subject2_series"
   ]
  },
  {
   "cell_type": "markdown",
   "id": "4733c06f",
   "metadata": {},
   "source": [
    " "
   ]
  },
  {
   "cell_type": "markdown",
   "id": "11c25226",
   "metadata": {},
   "source": [
    "Now that we have two pandas Series, we can construct a pandas DataFrame by combining the two Series objects. \n",
    "\n",
    "To do so, we will first create a single dictionary containing the two series, labelled as `subject 1` and `subject 2` and then use that dictionary to make a DataFrame."
   ]
  },
  {
   "cell_type": "markdown",
   "id": "72e81a77",
   "metadata": {},
   "source": [
    "The dictionary for the DataFrame is formed by assigning each subject to a label:"
   ]
  },
  {
   "cell_type": "code",
   "execution_count": 65,
   "id": "94b796ff",
   "metadata": {},
   "outputs": [
    {
     "name": "stdout",
     "output_type": "stream",
     "text": [
      "{'subject 1': happyness    10\n",
      "language      2\n",
      "energy        5\n",
      "memory        3\n",
      "dtype: int64, 'subject 2': happyness    15\n",
      "language      4\n",
      "energy        9\n",
      "memory        6\n",
      "dtype: int64}\n"
     ]
    }
   ],
   "source": [
    "dict = {'subject 1' : cognitive_health_Series, \n",
    "        'subject 2' : cognitive_health_subject2_series}\n",
    "print(dict)"
   ]
  },
  {
   "cell_type": "markdown",
   "id": "4dc145ad",
   "metadata": {},
   "source": [
    "The dictionary can now be used to build a DataFrame:"
   ]
  },
  {
   "cell_type": "code",
   "execution_count": 66,
   "id": "1a8fd462",
   "metadata": {},
   "outputs": [
    {
     "data": {
      "text/html": [
       "<div>\n",
       "<style scoped>\n",
       "    .dataframe tbody tr th:only-of-type {\n",
       "        vertical-align: middle;\n",
       "    }\n",
       "\n",
       "    .dataframe tbody tr th {\n",
       "        vertical-align: top;\n",
       "    }\n",
       "\n",
       "    .dataframe thead th {\n",
       "        text-align: right;\n",
       "    }\n",
       "</style>\n",
       "<table border=\"1\" class=\"dataframe\">\n",
       "  <thead>\n",
       "    <tr style=\"text-align: right;\">\n",
       "      <th></th>\n",
       "      <th>subject 1</th>\n",
       "      <th>subject 2</th>\n",
       "    </tr>\n",
       "  </thead>\n",
       "  <tbody>\n",
       "    <tr>\n",
       "      <th>happyness</th>\n",
       "      <td>10</td>\n",
       "      <td>15</td>\n",
       "    </tr>\n",
       "    <tr>\n",
       "      <th>language</th>\n",
       "      <td>2</td>\n",
       "      <td>4</td>\n",
       "    </tr>\n",
       "    <tr>\n",
       "      <th>energy</th>\n",
       "      <td>5</td>\n",
       "      <td>9</td>\n",
       "    </tr>\n",
       "    <tr>\n",
       "      <th>memory</th>\n",
       "      <td>3</td>\n",
       "      <td>6</td>\n",
       "    </tr>\n",
       "  </tbody>\n",
       "</table>\n",
       "</div>"
      ],
      "text/plain": [
       "           subject 1  subject 2\n",
       "happyness         10         15\n",
       "language           2          4\n",
       "energy             5          9\n",
       "memory             3          6"
      ]
     },
     "execution_count": 66,
     "metadata": {},
     "output_type": "execute_result"
    }
   ],
   "source": [
    "sample = pd.DataFrame(dict)\n",
    "sample"
   ]
  },
  {
   "cell_type": "code",
   "execution_count": 67,
   "id": "8926549a",
   "metadata": {},
   "outputs": [
    {
     "name": "stdout",
     "output_type": "stream",
     "text": [
      "{'subject 1': happyness    10\n",
      "language      2\n",
      "energy        5\n",
      "memory        3\n",
      "dtype: int64, 'subject 2': happyness    15\n",
      "language      4\n",
      "energy        9\n",
      "memory        6\n",
      "attention    22\n",
      "dtype: int64}\n"
     ]
    },
    {
     "data": {
      "text/html": [
       "<div>\n",
       "<style scoped>\n",
       "    .dataframe tbody tr th:only-of-type {\n",
       "        vertical-align: middle;\n",
       "    }\n",
       "\n",
       "    .dataframe tbody tr th {\n",
       "        vertical-align: top;\n",
       "    }\n",
       "\n",
       "    .dataframe thead th {\n",
       "        text-align: right;\n",
       "    }\n",
       "</style>\n",
       "<table border=\"1\" class=\"dataframe\">\n",
       "  <thead>\n",
       "    <tr style=\"text-align: right;\">\n",
       "      <th></th>\n",
       "      <th>subject 1</th>\n",
       "      <th>subject 2</th>\n",
       "    </tr>\n",
       "  </thead>\n",
       "  <tbody>\n",
       "    <tr>\n",
       "      <th>attention</th>\n",
       "      <td>NaN</td>\n",
       "      <td>22</td>\n",
       "    </tr>\n",
       "    <tr>\n",
       "      <th>energy</th>\n",
       "      <td>5.0</td>\n",
       "      <td>9</td>\n",
       "    </tr>\n",
       "    <tr>\n",
       "      <th>happyness</th>\n",
       "      <td>10.0</td>\n",
       "      <td>15</td>\n",
       "    </tr>\n",
       "    <tr>\n",
       "      <th>language</th>\n",
       "      <td>2.0</td>\n",
       "      <td>4</td>\n",
       "    </tr>\n",
       "    <tr>\n",
       "      <th>memory</th>\n",
       "      <td>3.0</td>\n",
       "      <td>6</td>\n",
       "    </tr>\n",
       "  </tbody>\n",
       "</table>\n",
       "</div>"
      ],
      "text/plain": [
       "           subject 1  subject 2\n",
       "attention        NaN         22\n",
       "energy           5.0          9\n",
       "happyness       10.0         15\n",
       "language         2.0          4\n",
       "memory           3.0          6"
      ]
     },
     "execution_count": 67,
     "metadata": {},
     "output_type": "execute_result"
    }
   ],
   "source": [
    "cognitive_health_subject2_dict = {'happyness': 15,\n",
    "                                  'language': 4, \n",
    "                                  'energy': 9, \n",
    "                                  'memory': 6,\n",
    "                                  'attention': 22}\n",
    "cognitive_health_subject2_series = pd.Series(cognitive_health_subject2_dict)\n",
    "cognitive_health_subject2_series\n",
    "\n",
    "dict = {'subject 1' : cognitive_health_Series, \n",
    "        'subject 2' : cognitive_health_subject2_series}\n",
    "print(dict)\n",
    "\n",
    "sample = pd.DataFrame(dict)\n",
    "sample"
   ]
  },
  {
   "cell_type": "markdown",
   "id": "e5170db7",
   "metadata": {},
   "source": [
    "Excellent. Pandas did its Kung Fu. The dictionary comprising two pandas Series, was organized into a pandas DataFrame."
   ]
  },
  {
   "cell_type": "markdown",
   "id": "3f3bd391",
   "metadata": {},
   "source": [
    "Next try adding two more subjects to the same DataFrame (`sample`). Let's practice this with a subject that has all values higher than subject 2 by a value of 3 (just add 3) and another subject that has all values lower than subject 2 by a value of 2 (just subtract 3)."
   ]
  },
  {
   "cell_type": "code",
   "execution_count": 68,
   "id": "f427937e",
   "metadata": {},
   "outputs": [
    {
     "data": {
      "text/plain": [
       "happyness    13\n",
       "language      2\n",
       "energy        7\n",
       "memory        4\n",
       "dtype: int64"
      ]
     },
     "execution_count": 68,
     "metadata": {},
     "output_type": "execute_result"
    }
   ],
   "source": [
    "cognitive_health_subject4_dict = {'happyness': 15-2,\n",
    "                                  'language': 4-2, \n",
    "                                  'energy': 9-2, \n",
    "                                  'memory': 6-2}\n",
    "cognitive_health_subject4_series = pd.Series(cognitive_health_subject4_dict)\n",
    "cognitive_health_subject4_series"
   ]
  },
  {
   "cell_type": "code",
   "execution_count": 69,
   "id": "89f91104",
   "metadata": {},
   "outputs": [
    {
     "data": {
      "text/plain": [
       "happyness    18\n",
       "language      7\n",
       "energy       12\n",
       "memory        9\n",
       "dtype: int64"
      ]
     },
     "execution_count": 69,
     "metadata": {},
     "output_type": "execute_result"
    }
   ],
   "source": [
    "cognitive_health_subject3_dict = {'happyness': 15+3,\n",
    "                                  'language': 4+3, \n",
    "                                  'energy': 9+3, \n",
    "                                  'memory': 6+3}\n",
    "cognitive_health_subject3_series = pd.Series(cognitive_health_subject3_dict)\n",
    "cognitive_health_subject3_series"
   ]
  },
  {
   "cell_type": "code",
   "execution_count": 70,
   "id": "a2ad7ae7",
   "metadata": {},
   "outputs": [
    {
     "name": "stdout",
     "output_type": "stream",
     "text": [
      "{'subject 1': happyness    10\n",
      "language      2\n",
      "energy        5\n",
      "memory        3\n",
      "dtype: int64, 'subject 2': happyness    15\n",
      "language      4\n",
      "energy        9\n",
      "memory        6\n",
      "attention    22\n",
      "dtype: int64, 'subject 3': happyness    18\n",
      "language      7\n",
      "energy       12\n",
      "memory        9\n",
      "dtype: int64, 'subject 4': happyness    13\n",
      "language      2\n",
      "energy        7\n",
      "memory        4\n",
      "dtype: int64}\n"
     ]
    }
   ],
   "source": [
    "dict = {'subject 1' : cognitive_health_Series, \n",
    "        'subject 2' : cognitive_health_subject2_series, \n",
    "        'subject 3' : cognitive_health_subject3_series,\n",
    "        'subject 4' : cognitive_health_subject4_series,\n",
    "       }\n",
    "print(dict)"
   ]
  },
  {
   "cell_type": "code",
   "execution_count": 71,
   "id": "56bbcb40",
   "metadata": {},
   "outputs": [
    {
     "data": {
      "text/html": [
       "<div>\n",
       "<style scoped>\n",
       "    .dataframe tbody tr th:only-of-type {\n",
       "        vertical-align: middle;\n",
       "    }\n",
       "\n",
       "    .dataframe tbody tr th {\n",
       "        vertical-align: top;\n",
       "    }\n",
       "\n",
       "    .dataframe thead th {\n",
       "        text-align: right;\n",
       "    }\n",
       "</style>\n",
       "<table border=\"1\" class=\"dataframe\">\n",
       "  <thead>\n",
       "    <tr style=\"text-align: right;\">\n",
       "      <th></th>\n",
       "      <th>subject 1</th>\n",
       "      <th>subject 2</th>\n",
       "      <th>subject 3</th>\n",
       "      <th>subject 4</th>\n",
       "    </tr>\n",
       "  </thead>\n",
       "  <tbody>\n",
       "    <tr>\n",
       "      <th>attention</th>\n",
       "      <td>NaN</td>\n",
       "      <td>22</td>\n",
       "      <td>NaN</td>\n",
       "      <td>NaN</td>\n",
       "    </tr>\n",
       "    <tr>\n",
       "      <th>energy</th>\n",
       "      <td>5.0</td>\n",
       "      <td>9</td>\n",
       "      <td>12.0</td>\n",
       "      <td>7.0</td>\n",
       "    </tr>\n",
       "    <tr>\n",
       "      <th>happyness</th>\n",
       "      <td>10.0</td>\n",
       "      <td>15</td>\n",
       "      <td>18.0</td>\n",
       "      <td>13.0</td>\n",
       "    </tr>\n",
       "    <tr>\n",
       "      <th>language</th>\n",
       "      <td>2.0</td>\n",
       "      <td>4</td>\n",
       "      <td>7.0</td>\n",
       "      <td>2.0</td>\n",
       "    </tr>\n",
       "    <tr>\n",
       "      <th>memory</th>\n",
       "      <td>3.0</td>\n",
       "      <td>6</td>\n",
       "      <td>9.0</td>\n",
       "      <td>4.0</td>\n",
       "    </tr>\n",
       "  </tbody>\n",
       "</table>\n",
       "</div>"
      ],
      "text/plain": [
       "           subject 1  subject 2  subject 3  subject 4\n",
       "attention        NaN         22        NaN        NaN\n",
       "energy           5.0          9       12.0        7.0\n",
       "happyness       10.0         15       18.0       13.0\n",
       "language         2.0          4        7.0        2.0\n",
       "memory           3.0          6        9.0        4.0"
      ]
     },
     "execution_count": 71,
     "metadata": {},
     "output_type": "execute_result"
    }
   ],
   "source": [
    "sample = pd.DataFrame(dict)\n",
    "sample"
   ]
  },
  {
   "cell_type": "code",
   "execution_count": 72,
   "id": "716c16ef",
   "metadata": {},
   "outputs": [
    {
     "data": {
      "text/html": [
       "<div>\n",
       "<style scoped>\n",
       "    .dataframe tbody tr th:only-of-type {\n",
       "        vertical-align: middle;\n",
       "    }\n",
       "\n",
       "    .dataframe tbody tr th {\n",
       "        vertical-align: top;\n",
       "    }\n",
       "\n",
       "    .dataframe thead th {\n",
       "        text-align: right;\n",
       "    }\n",
       "</style>\n",
       "<table border=\"1\" class=\"dataframe\">\n",
       "  <thead>\n",
       "    <tr style=\"text-align: right;\">\n",
       "      <th></th>\n",
       "      <th>subject 1</th>\n",
       "      <th>subject 2</th>\n",
       "      <th>subject 3</th>\n",
       "      <th>subject 4</th>\n",
       "    </tr>\n",
       "  </thead>\n",
       "  <tbody>\n",
       "    <tr>\n",
       "      <th>attention</th>\n",
       "      <td>True</td>\n",
       "      <td>False</td>\n",
       "      <td>True</td>\n",
       "      <td>True</td>\n",
       "    </tr>\n",
       "    <tr>\n",
       "      <th>energy</th>\n",
       "      <td>False</td>\n",
       "      <td>False</td>\n",
       "      <td>False</td>\n",
       "      <td>False</td>\n",
       "    </tr>\n",
       "    <tr>\n",
       "      <th>happyness</th>\n",
       "      <td>False</td>\n",
       "      <td>False</td>\n",
       "      <td>False</td>\n",
       "      <td>False</td>\n",
       "    </tr>\n",
       "    <tr>\n",
       "      <th>language</th>\n",
       "      <td>False</td>\n",
       "      <td>False</td>\n",
       "      <td>False</td>\n",
       "      <td>False</td>\n",
       "    </tr>\n",
       "    <tr>\n",
       "      <th>memory</th>\n",
       "      <td>False</td>\n",
       "      <td>False</td>\n",
       "      <td>False</td>\n",
       "      <td>False</td>\n",
       "    </tr>\n",
       "  </tbody>\n",
       "</table>\n",
       "</div>"
      ],
      "text/plain": [
       "           subject 1  subject 2  subject 3  subject 4\n",
       "attention       True      False       True       True\n",
       "energy         False      False      False      False\n",
       "happyness      False      False      False      False\n",
       "language       False      False      False      False\n",
       "memory         False      False      False      False"
      ]
     },
     "execution_count": 72,
     "metadata": {},
     "output_type": "execute_result"
    }
   ],
   "source": [
    "sample.isna()"
   ]
  },
  {
   "cell_type": "markdown",
   "id": "1a116791",
   "metadata": {},
   "source": [
    "The newly created DataFrame has various attributes that we can explore. We can address and extract the columns for example:"
   ]
  },
  {
   "cell_type": "code",
   "execution_count": 73,
   "id": "9223214d",
   "metadata": {},
   "outputs": [
    {
     "name": "stdout",
     "output_type": "stream",
     "text": [
      "Index(['subject 1', 'subject 2', 'subject 3', 'subject 4'], dtype='object')\n"
     ]
    }
   ],
   "source": [
    "cols = sample.columns\n",
    "print(cols)"
   ]
  },
  {
   "cell_type": "markdown",
   "id": "1ffef904",
   "metadata": {},
   "source": [
    "We can address the rows, which in technical terms are called the labels or the index:"
   ]
  },
  {
   "cell_type": "code",
   "execution_count": 74,
   "id": "d177f83f",
   "metadata": {},
   "outputs": [
    {
     "name": "stdout",
     "output_type": "stream",
     "text": [
      "Index(['attention', 'energy', 'happyness', 'language', 'memory'], dtype='object')\n"
     ]
    }
   ],
   "source": [
    "rows = sample.index\n",
    "print(rows)"
   ]
  },
  {
   "cell_type": "markdown",
   "id": "6973f1e1",
   "metadata": {},
   "source": [
    "$\\color{blue}{\\text{Complete the following exercise.}}$\n",
    "\n",
    "  - Use the cell below to create a Pandas `DataFrame`. Each column of the DataFrame should be the title of song you pick (it is fine to clip the title tothe first 4 words in the title). Each row of the data frame should be the name of one of your colleagues, use 3-4 names. Interview 3-4 of your colleagues and add the value in each cell representing the rating of the corresponding song that each colleague provides using a scale between 0-5, where 5 is an awesome song and 0 is a boring song."
   ]
  },
  {
   "cell_type": "code",
   "execution_count": 88,
   "id": "c04c5505",
   "metadata": {},
   "outputs": [],
   "source": [
    "noah_song_rating = {'High Hopes': 5,\n",
    "               'Immortals': 4,\n",
    "               'Until I Found You': 3,\n",
    "               'Dont Stop The Music': 3,\n",
    "               'First Burn': 5}\n",
    "noah_song_rating_series = pd.Series(song_rating)\n",
    "\n",
    "marifer_song_rating = {'High Hopes': 3,\n",
    "               'Immortals': 5,\n",
    "               'Until I Found You': 2,\n",
    "               'Dont Stop The Music': 4,\n",
    "               'First Burn': 5}\n",
    "marifer_song_rating_series = pd.Series(noah_song_rating)\n",
    "\n",
    "celeste_song_rating = {'High Hopes': 4,\n",
    "               'Immortals': 5,\n",
    "               'Until I Found You': 2,\n",
    "               'Dont Stop The Music': 3,\n",
    "               'First Burn': 2}\n",
    "celeste_song_rating_series = pd.Series(celeste_song_rating)"
   ]
  },
  {
   "cell_type": "code",
   "execution_count": 89,
   "id": "7700f411",
   "metadata": {},
   "outputs": [],
   "source": [
    "dict = { 'Noah Rating': noah_song_rating_series,\n",
    "       'Marifer Rating': marifer_song_rating_series,\n",
    "       'Celeste Rating': celeste_song_rating_series}"
   ]
  },
  {
   "cell_type": "code",
   "execution_count": 90,
   "id": "76688d49",
   "metadata": {},
   "outputs": [
    {
     "data": {
      "text/html": [
       "<div>\n",
       "<style scoped>\n",
       "    .dataframe tbody tr th:only-of-type {\n",
       "        vertical-align: middle;\n",
       "    }\n",
       "\n",
       "    .dataframe tbody tr th {\n",
       "        vertical-align: top;\n",
       "    }\n",
       "\n",
       "    .dataframe thead th {\n",
       "        text-align: right;\n",
       "    }\n",
       "</style>\n",
       "<table border=\"1\" class=\"dataframe\">\n",
       "  <thead>\n",
       "    <tr style=\"text-align: right;\">\n",
       "      <th></th>\n",
       "      <th>Noah Rating</th>\n",
       "      <th>Marifer Rating</th>\n",
       "      <th>Celeste Rating</th>\n",
       "    </tr>\n",
       "  </thead>\n",
       "  <tbody>\n",
       "    <tr>\n",
       "      <th>High Hopes</th>\n",
       "      <td>5</td>\n",
       "      <td>5</td>\n",
       "      <td>4</td>\n",
       "    </tr>\n",
       "    <tr>\n",
       "      <th>Immortals</th>\n",
       "      <td>4</td>\n",
       "      <td>4</td>\n",
       "      <td>5</td>\n",
       "    </tr>\n",
       "    <tr>\n",
       "      <th>Until I Found You</th>\n",
       "      <td>3</td>\n",
       "      <td>3</td>\n",
       "      <td>2</td>\n",
       "    </tr>\n",
       "    <tr>\n",
       "      <th>Dont Stop The Music</th>\n",
       "      <td>3</td>\n",
       "      <td>3</td>\n",
       "      <td>3</td>\n",
       "    </tr>\n",
       "    <tr>\n",
       "      <th>First Burn</th>\n",
       "      <td>5</td>\n",
       "      <td>5</td>\n",
       "      <td>2</td>\n",
       "    </tr>\n",
       "  </tbody>\n",
       "</table>\n",
       "</div>"
      ],
      "text/plain": [
       "                     Noah Rating  Marifer Rating  Celeste Rating\n",
       "High Hopes                     5               5               4\n",
       "Immortals                      4               4               5\n",
       "Until I Found You              3               3               2\n",
       "Dont Stop The Music            3               3               3\n",
       "First Burn                     5               5               2"
      ]
     },
     "execution_count": 90,
     "metadata": {},
     "output_type": "execute_result"
    }
   ],
   "source": [
    "table = pd.DataFrame(dict)\n",
    "table"
   ]
  },
  {
   "cell_type": "markdown",
   "id": "25f939e2",
   "metadata": {},
   "source": [
    "  - Use the cell below to create a Pandas `DataFrame`. Each column of the DataFrame should be the name of an band/singer of your pick (it is fine to clip the title tothe first 4 words in the title). Each row of the data frame should be the name of one of your colleagues, use 3-4 names. Interview 3-4 of your colleagues and add the value in each cell representing the rating of the corresponding song that each colleague provides using a scale between 0-5, where 5 is an awesome song and 0 is a boring song."
   ]
  },
  {
   "cell_type": "code",
   "execution_count": 91,
   "id": "d62741bb",
   "metadata": {},
   "outputs": [
    {
     "data": {
      "text/html": [
       "<div>\n",
       "<style scoped>\n",
       "    .dataframe tbody tr th:only-of-type {\n",
       "        vertical-align: middle;\n",
       "    }\n",
       "\n",
       "    .dataframe tbody tr th {\n",
       "        vertical-align: top;\n",
       "    }\n",
       "\n",
       "    .dataframe thead th {\n",
       "        text-align: right;\n",
       "    }\n",
       "</style>\n",
       "<table border=\"1\" class=\"dataframe\">\n",
       "  <thead>\n",
       "    <tr style=\"text-align: right;\">\n",
       "      <th></th>\n",
       "      <th>High Hopes</th>\n",
       "      <th>Immortals</th>\n",
       "      <th>Until I Found You</th>\n",
       "      <th>Dont Stop The Music</th>\n",
       "      <th>First Burn</th>\n",
       "    </tr>\n",
       "  </thead>\n",
       "  <tbody>\n",
       "    <tr>\n",
       "      <th>Noah Rating</th>\n",
       "      <td>5</td>\n",
       "      <td>4</td>\n",
       "      <td>3</td>\n",
       "      <td>3</td>\n",
       "      <td>5</td>\n",
       "    </tr>\n",
       "    <tr>\n",
       "      <th>Marifer Rating</th>\n",
       "      <td>5</td>\n",
       "      <td>4</td>\n",
       "      <td>3</td>\n",
       "      <td>3</td>\n",
       "      <td>5</td>\n",
       "    </tr>\n",
       "    <tr>\n",
       "      <th>Celeste Rating</th>\n",
       "      <td>4</td>\n",
       "      <td>5</td>\n",
       "      <td>2</td>\n",
       "      <td>3</td>\n",
       "      <td>2</td>\n",
       "    </tr>\n",
       "  </tbody>\n",
       "</table>\n",
       "</div>"
      ],
      "text/plain": [
       "                High Hopes  Immortals  Until I Found You  Dont Stop The Music  \\\n",
       "Noah Rating              5          4                  3                    3   \n",
       "Marifer Rating           5          4                  3                    3   \n",
       "Celeste Rating           4          5                  2                    3   \n",
       "\n",
       "                First Burn  \n",
       "Noah Rating              5  \n",
       "Marifer Rating           5  \n",
       "Celeste Rating           2  "
      ]
     },
     "execution_count": 91,
     "metadata": {},
     "output_type": "execute_result"
    }
   ],
   "source": [
    "table.T"
   ]
  },
  {
   "cell_type": "markdown",
   "id": "9ed1f7c3",
   "metadata": {},
   "source": [
    "### Summary\n",
    "\n",
    "We have learned about the library `pandas` and the three fundamental objects of the library:\n",
    " - Index\n",
    " - Series\n",
    " - DataFrames\n",
    " \n",
    " These last one are the most used, versatile data representation objects and are most commonly used for data science projects.\n",
    " \n",
    " Pandas DataFrames are 2-dimensional objects composed by collections of one-dimensional objects called Series. The one-dimensional objects in a DataFrame are `aligned` meaning that all entries of a series are matched, they are related, each row is indexed by the same index no matter what series."
   ]
  },
  {
   "cell_type": "markdown",
   "id": "82828110",
   "metadata": {},
   "source": [
    "$\\color{blue}{\\text{Complete the following exercise.}}$\n",
    "\n",
    "To practice with pandas Series and DataFrames, build a new dataset that has 10 series (subject 1-10) representing measurements from the following measures of brain health (use a tidy format with columns as variables and rows as subjects). Guess appropriate values for neuronal activity, blood oxygenation, pulsation and cortical thickness.\n",
    "\n",
    "`['neuronal activity', 'blood oxygenation', 'blood pulsation rate', 'cortical thickness']`"
   ]
  },
  {
   "cell_type": "code",
   "execution_count": 93,
   "id": "5634fa7b",
   "metadata": {},
   "outputs": [],
   "source": [
    "person1 = {'neuronal activity': 12,\n",
    "           'blood oxygenation': 90,\n",
    "           'blood pulsation rate': 63,\n",
    "           'cortical thinkness': 2.5}\n",
    "person1_series = pd.Series(person1)\n",
    "\n",
    "person2 = {'neuronal activity': 10,\n",
    "           'blood oxygenation': 85,\n",
    "           'blood pulsation rate': 63,\n",
    "           'cortical thinkness': 4}\n",
    "person2_series = pd.Series(person2)\n",
    "\n",
    "person3 = {'neuronal activity': 9,\n",
    "           'blood oxygenation': 95,\n",
    "           'blood pulsation rate': 67,\n",
    "           'cortical thinkness': 3}\n",
    "person3_series = pd.Series(person3)\n",
    "\n",
    "person4 = {'neuronal activity': 10,\n",
    "           'blood oxygenation': 89,\n",
    "           'blood pulsation rate': 70,\n",
    "           'cortical thinkness': 2.5}\n",
    "person4_series = pd.Series(person4)\n",
    "\n",
    "person5 = {'neuronal activity': 7,\n",
    "           'blood oxygenation': 87,\n",
    "           'blood pulsation rate': 60,\n",
    "           'cortical thinkness': 2.1}\n",
    "person5_series = pd.Series(person5)\n",
    "\n",
    "person6 = {'neuronal activity': 6,\n",
    "           'blood oxygenation': 80,\n",
    "           'blood pulsation rate': 60,\n",
    "           'cortical thinkness': 3.2}\n",
    "person6_series = pd.Series(person6)\n",
    "\n",
    "person7 = {'neuronal activity': 10,\n",
    "           'blood oxygenation': 88,\n",
    "           'blood pulsation rate': 56,\n",
    "           'cortical thinkness': 2.2}\n",
    "person7_series = pd.Series(person7)\n",
    "\n",
    "person8 = {'neuronal activity': 15,\n",
    "           'blood oxygenation': 87,\n",
    "           'blood pulsation rate': 65,\n",
    "           'cortical thinkness': 2.7}\n",
    "person8_series = pd.Series(person8)\n",
    "\n",
    "person9 = {'neuronal activity': 13,\n",
    "           'blood oxygenation': 91,\n",
    "           'blood pulsation rate': 64,\n",
    "           'cortical thinkness': 2.8}\n",
    "person9_series = pd.Series(person9)\n",
    "\n",
    "person10 = {'neuronal activity': 18,\n",
    "           'blood oxygenation': 98,\n",
    "           'blood pulsation rate': 71,\n",
    "           'cortical thinkness': 3}\n",
    "person10_series = pd.Series(person10)"
   ]
  },
  {
   "cell_type": "code",
   "execution_count": 95,
   "id": "e9fadc7b",
   "metadata": {
    "scrolled": true
   },
   "outputs": [
    {
     "data": {
      "text/html": [
       "<div>\n",
       "<style scoped>\n",
       "    .dataframe tbody tr th:only-of-type {\n",
       "        vertical-align: middle;\n",
       "    }\n",
       "\n",
       "    .dataframe tbody tr th {\n",
       "        vertical-align: top;\n",
       "    }\n",
       "\n",
       "    .dataframe thead th {\n",
       "        text-align: right;\n",
       "    }\n",
       "</style>\n",
       "<table border=\"1\" class=\"dataframe\">\n",
       "  <thead>\n",
       "    <tr style=\"text-align: right;\">\n",
       "      <th></th>\n",
       "      <th>Person 1</th>\n",
       "      <th>Person 2</th>\n",
       "      <th>Person 3</th>\n",
       "      <th>Person 4</th>\n",
       "      <th>Person 5</th>\n",
       "      <th>Person 6</th>\n",
       "      <th>Person 7</th>\n",
       "      <th>Person 8</th>\n",
       "      <th>Person 9</th>\n",
       "      <th>Person 10</th>\n",
       "    </tr>\n",
       "  </thead>\n",
       "  <tbody>\n",
       "    <tr>\n",
       "      <th>neuronal activity</th>\n",
       "      <td>12.0</td>\n",
       "      <td>10</td>\n",
       "      <td>9</td>\n",
       "      <td>10.0</td>\n",
       "      <td>7.0</td>\n",
       "      <td>6.0</td>\n",
       "      <td>10.0</td>\n",
       "      <td>15.0</td>\n",
       "      <td>13.0</td>\n",
       "      <td>18</td>\n",
       "    </tr>\n",
       "    <tr>\n",
       "      <th>blood oxygenation</th>\n",
       "      <td>90.0</td>\n",
       "      <td>85</td>\n",
       "      <td>95</td>\n",
       "      <td>89.0</td>\n",
       "      <td>87.0</td>\n",
       "      <td>80.0</td>\n",
       "      <td>88.0</td>\n",
       "      <td>87.0</td>\n",
       "      <td>91.0</td>\n",
       "      <td>98</td>\n",
       "    </tr>\n",
       "    <tr>\n",
       "      <th>blood pulsation rate</th>\n",
       "      <td>63.0</td>\n",
       "      <td>63</td>\n",
       "      <td>67</td>\n",
       "      <td>70.0</td>\n",
       "      <td>60.0</td>\n",
       "      <td>60.0</td>\n",
       "      <td>56.0</td>\n",
       "      <td>65.0</td>\n",
       "      <td>64.0</td>\n",
       "      <td>71</td>\n",
       "    </tr>\n",
       "    <tr>\n",
       "      <th>cortical thinkness</th>\n",
       "      <td>2.5</td>\n",
       "      <td>4</td>\n",
       "      <td>3</td>\n",
       "      <td>2.5</td>\n",
       "      <td>2.1</td>\n",
       "      <td>3.2</td>\n",
       "      <td>2.2</td>\n",
       "      <td>2.7</td>\n",
       "      <td>2.8</td>\n",
       "      <td>3</td>\n",
       "    </tr>\n",
       "  </tbody>\n",
       "</table>\n",
       "</div>"
      ],
      "text/plain": [
       "                      Person 1  Person 2  Person 3  Person 4  Person 5  \\\n",
       "neuronal activity         12.0        10         9      10.0       7.0   \n",
       "blood oxygenation         90.0        85        95      89.0      87.0   \n",
       "blood pulsation rate      63.0        63        67      70.0      60.0   \n",
       "cortical thinkness         2.5         4         3       2.5       2.1   \n",
       "\n",
       "                      Person 6  Person 7  Person 8  Person 9  Person 10  \n",
       "neuronal activity          6.0      10.0      15.0      13.0         18  \n",
       "blood oxygenation         80.0      88.0      87.0      91.0         98  \n",
       "blood pulsation rate      60.0      56.0      65.0      64.0         71  \n",
       "cortical thinkness         3.2       2.2       2.7       2.8          3  "
      ]
     },
     "execution_count": 95,
     "metadata": {},
     "output_type": "execute_result"
    }
   ],
   "source": [
    "dict = {'Person 1': person1_series,\n",
    "       'Person 2': person2_series,\n",
    "       'Person 3': person3_series,\n",
    "       'Person 4': person4_series,\n",
    "       'Person 5': person5_series,\n",
    "       'Person 6': person6_series,\n",
    "       'Person 7': person7_series,\n",
    "       'Person 8': person8_series,\n",
    "       'Person 9': person9_series,\n",
    "       'Person 10': person10_series}\n",
    "\n",
    "table2 = pd.DataFrame(dict)\n",
    "table2"
   ]
  },
  {
   "cell_type": "code",
   "execution_count": 96,
   "id": "480eab4a",
   "metadata": {},
   "outputs": [
    {
     "data": {
      "text/html": [
       "<div>\n",
       "<style scoped>\n",
       "    .dataframe tbody tr th:only-of-type {\n",
       "        vertical-align: middle;\n",
       "    }\n",
       "\n",
       "    .dataframe tbody tr th {\n",
       "        vertical-align: top;\n",
       "    }\n",
       "\n",
       "    .dataframe thead th {\n",
       "        text-align: right;\n",
       "    }\n",
       "</style>\n",
       "<table border=\"1\" class=\"dataframe\">\n",
       "  <thead>\n",
       "    <tr style=\"text-align: right;\">\n",
       "      <th></th>\n",
       "      <th>neuronal activity</th>\n",
       "      <th>blood oxygenation</th>\n",
       "      <th>blood pulsation rate</th>\n",
       "      <th>cortical thinkness</th>\n",
       "    </tr>\n",
       "  </thead>\n",
       "  <tbody>\n",
       "    <tr>\n",
       "      <th>Person 1</th>\n",
       "      <td>12.0</td>\n",
       "      <td>90.0</td>\n",
       "      <td>63.0</td>\n",
       "      <td>2.5</td>\n",
       "    </tr>\n",
       "    <tr>\n",
       "      <th>Person 2</th>\n",
       "      <td>10.0</td>\n",
       "      <td>85.0</td>\n",
       "      <td>63.0</td>\n",
       "      <td>4.0</td>\n",
       "    </tr>\n",
       "    <tr>\n",
       "      <th>Person 3</th>\n",
       "      <td>9.0</td>\n",
       "      <td>95.0</td>\n",
       "      <td>67.0</td>\n",
       "      <td>3.0</td>\n",
       "    </tr>\n",
       "    <tr>\n",
       "      <th>Person 4</th>\n",
       "      <td>10.0</td>\n",
       "      <td>89.0</td>\n",
       "      <td>70.0</td>\n",
       "      <td>2.5</td>\n",
       "    </tr>\n",
       "    <tr>\n",
       "      <th>Person 5</th>\n",
       "      <td>7.0</td>\n",
       "      <td>87.0</td>\n",
       "      <td>60.0</td>\n",
       "      <td>2.1</td>\n",
       "    </tr>\n",
       "    <tr>\n",
       "      <th>Person 6</th>\n",
       "      <td>6.0</td>\n",
       "      <td>80.0</td>\n",
       "      <td>60.0</td>\n",
       "      <td>3.2</td>\n",
       "    </tr>\n",
       "    <tr>\n",
       "      <th>Person 7</th>\n",
       "      <td>10.0</td>\n",
       "      <td>88.0</td>\n",
       "      <td>56.0</td>\n",
       "      <td>2.2</td>\n",
       "    </tr>\n",
       "    <tr>\n",
       "      <th>Person 8</th>\n",
       "      <td>15.0</td>\n",
       "      <td>87.0</td>\n",
       "      <td>65.0</td>\n",
       "      <td>2.7</td>\n",
       "    </tr>\n",
       "    <tr>\n",
       "      <th>Person 9</th>\n",
       "      <td>13.0</td>\n",
       "      <td>91.0</td>\n",
       "      <td>64.0</td>\n",
       "      <td>2.8</td>\n",
       "    </tr>\n",
       "    <tr>\n",
       "      <th>Person 10</th>\n",
       "      <td>18.0</td>\n",
       "      <td>98.0</td>\n",
       "      <td>71.0</td>\n",
       "      <td>3.0</td>\n",
       "    </tr>\n",
       "  </tbody>\n",
       "</table>\n",
       "</div>"
      ],
      "text/plain": [
       "           neuronal activity  blood oxygenation  blood pulsation rate  \\\n",
       "Person 1                12.0               90.0                  63.0   \n",
       "Person 2                10.0               85.0                  63.0   \n",
       "Person 3                 9.0               95.0                  67.0   \n",
       "Person 4                10.0               89.0                  70.0   \n",
       "Person 5                 7.0               87.0                  60.0   \n",
       "Person 6                 6.0               80.0                  60.0   \n",
       "Person 7                10.0               88.0                  56.0   \n",
       "Person 8                15.0               87.0                  65.0   \n",
       "Person 9                13.0               91.0                  64.0   \n",
       "Person 10               18.0               98.0                  71.0   \n",
       "\n",
       "           cortical thinkness  \n",
       "Person 1                  2.5  \n",
       "Person 2                  4.0  \n",
       "Person 3                  3.0  \n",
       "Person 4                  2.5  \n",
       "Person 5                  2.1  \n",
       "Person 6                  3.2  \n",
       "Person 7                  2.2  \n",
       "Person 8                  2.7  \n",
       "Person 9                  2.8  \n",
       "Person 10                 3.0  "
      ]
     },
     "execution_count": 96,
     "metadata": {},
     "output_type": "execute_result"
    }
   ],
   "source": [
    "table2.T"
   ]
  }
 ],
 "metadata": {
  "kernelspec": {
   "display_name": "Python 3 (ipykernel)",
   "language": "python",
   "name": "python3"
  },
  "language_info": {
   "codemirror_mode": {
    "name": "ipython",
    "version": 3
   },
   "file_extension": ".py",
   "mimetype": "text/x-python",
   "name": "python",
   "nbconvert_exporter": "python",
   "pygments_lexer": "ipython3",
   "version": "3.9.12"
  }
 },
 "nbformat": 4,
 "nbformat_minor": 5
}
