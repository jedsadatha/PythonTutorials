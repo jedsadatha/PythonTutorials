{
 "cells": [
  {
   "cell_type": "markdown",
   "id": "81d19d16",
   "metadata": {},
   "source": [
    "   # Ifs, loops, and function homework"
   ]
  },
  {
   "cell_type": "markdown",
   "id": "bd745db6",
   "metadata": {},
   "source": [
    "## 1. A function to reverse a string \n",
    "\n",
    "Write and test a function that reverses a string entered by a user. This function will have one input value (a string) and one output value (also a string).\n",
    "\n",
    "Test your function on, among other things, Napoleon's quote 'able was i ere i saw elba'"
   ]
  },
  {
   "cell_type": "code",
   "execution_count": 5,
   "id": "551a9bcb",
   "metadata": {},
   "outputs": [
    {
     "name": "stdout",
     "output_type": "stream",
     "text": [
      "White any words: JEDSADA\n",
      "ADASDEJ\n"
     ]
    }
   ],
   "source": [
    "x = input('White any words: ') # Ask users for their input\n",
    "separator = ''                 # The string (empty in this case) to separate our list elements when using join\n",
    "reverse_x = []                 # Make an empty list\n",
    "\n",
    "for i in reversed(x) :         # Loop that make users input backward\n",
    "    reverse_x.append(i)        # Add each letter to our list in turn\n",
    "\n",
    "reverse_x = separator.join(reverse_x)   # make a string\n",
    "\n",
    "print(reverse_x) "
   ]
  },
  {
   "cell_type": "markdown",
   "id": "72bc6f2e",
   "metadata": {},
   "source": [
    "*Optional challenge*: run the above on \"race car\" and then fix the resulting string."
   ]
  },
  {
   "cell_type": "code",
   "execution_count": 4,
   "id": "7abd516b",
   "metadata": {},
   "outputs": [
    {
     "name": "stdout",
     "output_type": "stream",
     "text": [
      "White any words: Race Car\n",
      "raC ecaR\n"
     ]
    }
   ],
   "source": [
    "x = input('White any words: ') # Ask users for their input\n",
    "separator = ''                 # The string (empty in this case) to separate our list elements when using join\n",
    "reverse_x = []                 # Make an empty list\n",
    "\n",
    "for i in reversed(x) :         # Loop that make users input backward\n",
    "    reverse_x.append(i)        # Add each letter to our list in turn\n",
    "\n",
    "reverse_x = separator.join(reverse_x)   # make a string\n",
    "\n",
    "print(reverse_x) "
   ]
  },
  {
   "cell_type": "markdown",
   "id": "f351711e",
   "metadata": {},
   "source": [
    "## 2. Determine if a number is prime\n",
    "\n",
    "Write some code to test whether a number is prime or not, a prime number being an integer that is evenly divisible only by 1 and itself. \n",
    "\n",
    "Hint: another way to think about a prime number is that, if the smallest number (other than 1) that divides evenly into a number *is* that number, than the number is a prime.\n",
    "\n",
    "The easiest solution involves one `while` loop and one `if` test."
   ]
  },
  {
   "cell_type": "code",
   "execution_count": 13,
   "id": "4bef5c5c",
   "metadata": {},
   "outputs": [
    {
     "name": "stdout",
     "output_type": "stream",
     "text": [
      "Put any number: 19\n",
      "19 is a prime number.\n"
     ]
    }
   ],
   "source": [
    "num = int(input('Put any number: '))\n",
    "\n",
    "for i in range(2,num):\n",
    "    if num % i == 0:\n",
    "        print(num,'is not a prime number.')\n",
    "        break\n",
    "else:\n",
    "    print(num,'is a prime number.')"
   ]
  },
  {
   "cell_type": "markdown",
   "id": "97515edc",
   "metadata": {},
   "source": [
    "## 3. Find the first 10 primes\n",
    "\n",
    "Extend your code above to find the first 10 prime numbers. This will involve wrapping your existing code in another \"outer\" loop.\n"
   ]
  },
  {
   "cell_type": "code",
   "execution_count": 19,
   "id": "f518030e",
   "metadata": {},
   "outputs": [
    {
     "name": "stdout",
     "output_type": "stream",
     "text": [
      "[2, 3, 5, 7, 11, 13, 17, 19, 23, 29]\n"
     ]
    }
   ],
   "source": [
    "n = 30       # Limit of 30 since the 10th prime number is 29\n",
    "prime = []   # Create Empty List\n",
    "\n",
    "for num in range(2,n+1):\n",
    "    counter = 0\n",
    "    for i in range(1,n+1):\n",
    "        if(num % i == 0):\n",
    "            counter = counter + 1\n",
    "    if(counter == 2):\n",
    "        prime.append(num)\n",
    "print(prime)"
   ]
  },
  {
   "cell_type": "markdown",
   "id": "13c2c9d2",
   "metadata": {},
   "source": [
    "## 4. Make a function to compute the first n primes\n",
    "\n",
    "Functionalize (is that a word?) your above code. A user should be able to call your code with one integer argument and get a list back containing that number of primes. Make sure your function handles inputs of an incorrect type gracefully. You should also warn the user if they enter a really big number (which could take a long time...), and give them the option of either bailing or entering a different number."
   ]
  },
  {
   "cell_type": "code",
   "execution_count": 86,
   "id": "18a4e3d5",
   "metadata": {},
   "outputs": [],
   "source": [
    "def prime(b):\n",
    "    def prime(n):\n",
    "        if(n < 2):\n",
    "            return False\n",
    "        for i in range (2,n//2+1):\n",
    "            if(n%i == 0):\n",
    "                return False\n",
    "        return True\n",
    "    if b <= 100:\n",
    "        for x in range(0,b):\n",
    "            if prime(x):\n",
    "                print(x, 'is the prime number.')\n",
    "    else:\n",
    "        print('put lower number.')\n"
   ]
  },
  {
   "cell_type": "code",
   "execution_count": 87,
   "id": "a73382cf",
   "metadata": {},
   "outputs": [
    {
     "name": "stdout",
     "output_type": "stream",
     "text": [
      "2 is the prime number.\n",
      "3 is the prime number.\n",
      "5 is the prime number.\n",
      "7 is the prime number.\n",
      "11 is the prime number.\n",
      "13 is the prime number.\n",
      "17 is the prime number.\n",
      "19 is the prime number.\n",
      "23 is the prime number.\n",
      "29 is the prime number.\n",
      "31 is the prime number.\n",
      "37 is the prime number.\n",
      "41 is the prime number.\n",
      "43 is the prime number.\n",
      "47 is the prime number.\n",
      "53 is the prime number.\n",
      "59 is the prime number.\n",
      "61 is the prime number.\n",
      "67 is the prime number.\n",
      "71 is the prime number.\n",
      "73 is the prime number.\n",
      "79 is the prime number.\n",
      "83 is the prime number.\n",
      "89 is the prime number.\n",
      "97 is the prime number.\n"
     ]
    }
   ],
   "source": [
    "# Put the maximun number (max 100) in the parentheses.\n",
    "prime(99)"
   ]
  }
 ],
 "metadata": {
  "kernelspec": {
   "display_name": "Python 3 (ipykernel)",
   "language": "python",
   "name": "python3"
  },
  "language_info": {
   "codemirror_mode": {
    "name": "ipython",
    "version": 3
   },
   "file_extension": ".py",
   "mimetype": "text/x-python",
   "name": "python",
   "nbconvert_exporter": "python",
   "pygments_lexer": "ipython3",
   "version": "3.9.12"
  }
 },
 "nbformat": 4,
 "nbformat_minor": 5
}
