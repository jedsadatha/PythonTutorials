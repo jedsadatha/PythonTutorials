{
 "cells": [
  {
   "cell_type": "markdown",
   "id": "e2d5b259",
   "metadata": {},
   "source": [
    "# Linear Regression II"
   ]
  },
  {
   "cell_type": "markdown",
   "id": "e1a30b22",
   "metadata": {},
   "source": [
    "Learning objectives:\n",
    "\n",
    "Learn basic measures of quality of fit and variance explained:\n",
    "- Mean Squared Errors\n",
    "- R2\n",
    "- Total Sum of Squares\n",
    "- Residual Sum of Squares\n",
    "- Explained Sum of Squares\n",
    "- Linear Regression with multiple parameters\n"
   ]
  },
  {
   "cell_type": "markdown",
   "id": "636a8560",
   "metadata": {},
   "source": [
    "---\n",
    "\n",
    "## Linear regression *recap*. \n",
    "\n",
    "In the last tutorial we went over linear regression using *numpy*'s *polyval* and *polyfit*.\n",
    "\n",
    "Linear regression is used to model the relationship between a dependent variable and one or more independent variables. It assumes that there is a linear relationship between the independent variable(s) and the dependent variable. \n",
    "\n",
    "The goal of linear regression is to find the best-fit model that minimizes the difference between the predicted values and the actual values. Linear regression is important because it can help us to understand and predict the relationship between two or more variables. The term **linear** in Linear regression does not refer only to a line, but it applies to any polynomial! Linear here is referred to the parameters of the model and not the model *per se*!"
   ]
  },
  {
   "cell_type": "markdown",
   "id": "9e47cbf1",
   "metadata": {},
   "source": [
    "\n",
    "In the previous tutorial we have learned how to fit models via linear regression by using `numpy`. Here we will learn a little bit more about fitting linear regression models. \n"
   ]
  },
  {
   "cell_type": "code",
   "execution_count": 32,
   "id": "b3acdf7e",
   "metadata": {},
   "outputs": [
    {
     "name": "stdout",
     "output_type": "stream",
     "text": [
      "Intercept: 0.13583178849897345\n",
      "Coefficient: 1.8342321813863356\n",
      "SSE: 15.356374565056809\n"
     ]
    }
   ],
   "source": [
    "import numpy as np\n",
    "import matplotlib.pyplot as plt\n",
    "\n",
    "# Generate random data\n",
    "np.random.seed(123)\n",
    "x = np.random.rand(50)\n",
    "y = 2*x + 0.5*np.random.randn(50)\n",
    "\n",
    "# Fit a linear regression model\n",
    "coeffs = np.polyfit(x, y, 1)\n",
    "y_pred = np.polyval(coeffs, x)\n",
    "\n",
    "# Print the coefficients\n",
    "print(\"Intercept:\", coeffs[1])\n",
    "print(\"Coefficient:\", coeffs[0])\n",
    "\n",
    "# Compute SSE\n",
    "sse = sum((y-y_pred)**2)\n",
    "print(\"SSE:\", sse)"
   ]
  },
  {
   "cell_type": "markdown",
   "id": "79596c28",
   "metadata": {},
   "source": [
    "---\n",
    "\n",
    "### <span style=\"color:blue\">Exercise</span> \n",
    "\n",
    "- Generate your own data of shape `(10,)`.\n",
    "- Fit a line and estimate the SSE\n",
    "- Make a single figure and plot, data, and line in different colors"
   ]
  },
  {
   "cell_type": "code",
   "execution_count": 15,
   "id": "73e4d764",
   "metadata": {},
   "outputs": [
    {
     "data": {
      "image/png": "[encoded data removed]",
      "text/plain": [
       "<Figure size 432x288 with 1 Axes>"
      ]
     },
     "metadata": {
      "needs_background": "light"
     },
     "output_type": "display_data"
    }
   ],
   "source": [
    "# Generate Data\n",
    "np.random.seed(123)\n",
    "x_10 = np.random.rand(10)\n",
    "y_10 = 2*x_10 + 0.5*np.random.randn(10)\n",
    "\n",
    "# Fir a linear regression model\n",
    "coeffs_10 = np.polyfit(x_10,y_10,1)\n",
    "y_10_fit = np.polyval(coeffs_10, x_10)\n",
    "\n",
    "# Compute SSE\n",
    "sse_10 = sum((y_10-y_10_fit)**2)\n",
    "\n",
    "plt.scatter(x_10,y_10, label = 'Data Point')\n",
    "plt.plot(x_10,y_10_fit, label = 'Regression Line', color = 'red', alpha = 0.4)\n",
    "plt.xlabel('X Value')\n",
    "plt.ylabel('Y Value')\n",
    "plt.title('Data Point of 10')\n",
    "plt.legend()\n",
    "plt.show()"
   ]
  },
  {
   "cell_type": "markdown",
   "id": "74158dcc",
   "metadata": {},
   "source": [
    "---\n",
    "\n",
    "## Linear regression using scikit-learn"
   ]
  },
  {
   "cell_type": "markdown",
   "id": "1b4210ee",
   "metadata": {},
   "source": [
    "The same operations of fitting and evaluating the fit of a regression model can also be implemented using a much more powerful set of toosl implemented in the machine learning library `scikit-learn`. `scikit-learn` has module dedicated to linear regression models called `LinearRegression`. \n",
    "\n",
    "Let's import it:"
   ]
  },
  {
   "cell_type": "code",
   "execution_count": 16,
   "id": "3927e662",
   "metadata": {},
   "outputs": [],
   "source": [
    "from sklearn.linear_model import LinearRegression"
   ]
  },
  {
   "cell_type": "markdown",
   "id": "c03a174f",
   "metadata": {},
   "source": [
    "We can implement the operations shown about using `polyval` and `polyfit` using `LinearRegression` using the following lines:"
   ]
  },
  {
   "cell_type": "code",
   "execution_count": 17,
   "id": "5a44dacc",
   "metadata": {},
   "outputs": [
    {
     "name": "stdout",
     "output_type": "stream",
     "text": [
      "Intercept: 0.13583178849897382\n",
      "Coefficient: 1.8342321813863351\n",
      "SSE: 15.356374565056813\n"
     ]
    }
   ],
   "source": [
    "# Fit a linear model\n",
    "model = LinearRegression()\n",
    "\n",
    "# The fit method in LinearRegression only acceps predictors (x) as matrices. \n",
    "# So we need to reshape our array:\n",
    "X = np.array(x).reshape(-1, 1)\n",
    "model.fit(X, y)\n",
    "y_pred = model.predict(X)\n",
    "\n",
    "# The coefficients can be extracted from the fit model as follows:\n",
    "print(\"Intercept:\", model.intercept_)\n",
    "print(\"Coefficient:\", model.coef_[0])\n",
    "\n",
    "# Compute SSE\n",
    "sse = sum((y-y_pred)**2)\n",
    "print(\"SSE:\", sse)"
   ]
  },
  {
   "cell_type": "markdown",
   "id": "7b781929",
   "metadata": {},
   "source": [
    "OK, besides the ideosyncracy of how `LinearRegression` accepts `x`, that was not very different. Instead of  using `polyfit` and `polyval`, we used `model.fit` and `model.predict` and the results (parameers and MSE) were identical. Good.\n",
    "\n",
    "Now, `LinearRegression` might seem a little bit more complicated because, oh well, it is more complicated but also much more powerful! "
   ]
  },
  {
   "cell_type": "markdown",
   "id": "91852064",
   "metadata": {},
   "source": [
    "---\n",
    "\n",
    "### <span style=\"color:blue\">Exercise</span> \n",
    "\n",
    "- Generate a new data set of shape `(12,)`.\n",
    "- Fit a line using `scikit-learn.linear_model` and estimate the SSE\n",
    "- Make a single figure and plot, data, and line in different colors"
   ]
  },
  {
   "cell_type": "code",
   "execution_count": 29,
   "id": "a88a8018",
   "metadata": {},
   "outputs": [
    {
     "name": "stdout",
     "output_type": "stream",
     "text": [
      "Intercept: -0.047910090056658694\n",
      "Coefficient: 2.641784964208517\n",
      "SSE: 2.955680135917802\n"
     ]
    },
    {
     "data": {
      "image/png": "[encoded data removed]",
      "text/plain": [
       "<Figure size 504x504 with 1 Axes>"
      ]
     },
     "metadata": {
      "needs_background": "light"
     },
     "output_type": "display_data"
    }
   ],
   "source": [
    "# Generate Data\n",
    "np.random.seed(123)\n",
    "x_12 = np.random.rand(12)\n",
    "y_12 = 2*x_12 + 0.5*np.random.randn(12)\n",
    "\n",
    "# The fit method in LinearRegression only acceps predictors (x) as matrices. \n",
    "# So we need to reshape our array:\n",
    "X_12 = np.array(x_12).reshape(-1, 1)\n",
    "model.fit(X_12, y_12)\n",
    "y_pred_12 = model.predict(X_12)\n",
    "\n",
    "# The coefficients can be extracted from the fit model as follows:\n",
    "print(\"Intercept:\", model.intercept_)\n",
    "print(\"Coefficient:\", model.coef_[0])\n",
    "\n",
    "# Compute SSE\n",
    "sse_12 = sum((y_12-y_pred_12)**2)\n",
    "print(\"SSE:\", sse_12)\n",
    "\n",
    "plt.figure(figsize=(7,7))\n",
    "plt.scatter(x_12,y_12, color = 'green', label = 'Data Point')\n",
    "plt.plot(x_12,y_pred_12, color = 'red', label = 'Linear Regression Line', alpha = 0.5)\n",
    "plt.xlabel('X Value')\n",
    "plt.ylabel('Y Value')\n",
    "plt.title('Comparison Using sklearn.linear_model')\n",
    "plt.legend()\n",
    "plt.show()"
   ]
  },
  {
   "cell_type": "markdown",
   "id": "6ef91437",
   "metadata": {},
   "source": [
    "---\n",
    "\n",
    "## Quality of fit metrics"
   ]
  },
  {
   "cell_type": "markdown",
   "id": "f2352c0f",
   "metadata": {},
   "source": [
    "Linear regession is more generally referred to as *Ordinary Linear Square Regression* or *OLS* Regression. \n",
    "\n",
    "This is because the approach in regression is to minimise the sum of square errors (SSEs) between the data and the prediction of a model. The parameters of the model are adjusted so as to reduce the SSE and eventually minimize it.\n",
    "\n",
    "We have seen before how to compute the SSE."
   ]
  },
  {
   "cell_type": "code",
   "execution_count": 22,
   "id": "730f67f5",
   "metadata": {},
   "outputs": [
    {
     "name": "stdout",
     "output_type": "stream",
     "text": [
      "SSE: 15.356374565056813\n"
     ]
    }
   ],
   "source": [
    "print('SSE:',sum((y-y_pred)**2))"
   ]
  },
  {
   "cell_type": "markdown",
   "id": "a8a2099d",
   "metadata": {},
   "source": [
    "In addition to SSE there are other measures of error important to learn about. "
   ]
  },
  {
   "cell_type": "markdown",
   "id": "5079ffec",
   "metadata": {},
   "source": [
    "\n",
    "\n",
    "When fitting OLS regression models we attempt to explain some proportion of the variability in the data with a model. More specifically, we try to explain some proportion fo the *variance* in the data using the model. So models are generally judged by the proportion of variance in the data that they can explain. \n",
    "\n",
    "The proportion of variance explained is a measure that describes the amount of variation in the dependent variable ($y$) that can be explained by the independent variable(s) ($x$) in a statistical model, such as a linear regression model.\n",
    "\n",
    "When we fit a regression model, we are trying to find a line (or curve) that best represents the relationship between the independent variable(s) and the dependent variable. The amount of variation in the dependent variable that can be explained by the independent variable(s) is determined by the fit of the regression line to the data points.\n",
    "\n",
    "In the context of linear regression, the total sum of squares ($TSS$) can be decomposed into two components: \n",
    "* the explained sum of squares ($ESS$) and \n",
    "* the residual sum of squares ($RSS$ or as called until now, the sum of squared error, $SSE$)."
   ]
  },
  {
   "cell_type": "markdown",
   "id": "722f47ea",
   "metadata": {},
   "source": [
    "The explained sum of squares ($ESS$) is the sum of squares of the difference between the predicted values of the dependent variable and the mean of the dependent variable. It represents the amount of variability in the dependent variable that is explained by the independent variable(s) in the model.\n",
    "\n",
    "$ESS = Σ(ŷi - ȳ)^2$"
   ]
  },
  {
   "cell_type": "code",
   "execution_count": 23,
   "id": "f1030dc6",
   "metadata": {},
   "outputs": [
    {
     "name": "stdout",
     "output_type": "stream",
     "text": [
      "9.091390913253534\n"
     ]
    }
   ],
   "source": [
    "ESS = sum((y_pred - np.mean(y))**2)\n",
    "print(ESS)"
   ]
  },
  {
   "cell_type": "markdown",
   "id": "e59c6aac",
   "metadata": {},
   "source": [
    "The residual sum of squares ($RSS$, a.k.a., $SSE$) is the sum of squares of the difference between the predicted values of the dependent variable and the actual values of the dependent variable. It represents the amount of variability in the dependent variable that is not explained by the independent variable(s) in the model.\n",
    "\n",
    "$RSS = Σ(yi - ŷi)^2$"
   ]
  },
  {
   "cell_type": "code",
   "execution_count": 24,
   "id": "1a9bc72d",
   "metadata": {},
   "outputs": [
    {
     "name": "stdout",
     "output_type": "stream",
     "text": [
      "15.356374565056813\n"
     ]
    }
   ],
   "source": [
    "RSS = sum((y - y_pred)**2) #a.k.a. SSE\n",
    "print(RSS)"
   ]
  },
  {
   "cell_type": "markdown",
   "id": "a41f8d8d",
   "metadata": {},
   "source": [
    "The total sum of squares ($TSS$) is the sum of squares of the difference between the actual values of the dependent variable and the mean of the dependent variable. It represents the total amount of variability in the dependent variable.\n",
    "\n",
    "$TSS = Σ(yi - ȳ)^2$"
   ]
  },
  {
   "cell_type": "code",
   "execution_count": 25,
   "id": "e0da2c2f",
   "metadata": {},
   "outputs": [
    {
     "name": "stdout",
     "output_type": "stream",
     "text": [
      "24.447765478310348\n"
     ]
    }
   ],
   "source": [
    "TSS = sum((y - np.mean(y))**2)\n",
    "print(TSS)"
   ]
  },
  {
   "cell_type": "markdown",
   "id": "4e124b35",
   "metadata": {},
   "source": [
    "where $y_i$ is the actual value of the dependent variable, $ŷ_i$ is the predicted value of the dependent variable, and $ȳ$ is the mean of the dependent variable."
   ]
  },
  {
   "cell_type": "markdown",
   "id": "e1ad8832",
   "metadata": {},
   "source": [
    "Note that $TSS = Σ(RSS + ESS)$"
   ]
  },
  {
   "cell_type": "code",
   "execution_count": 26,
   "id": "738d4a06",
   "metadata": {},
   "outputs": [
    {
     "name": "stdout",
     "output_type": "stream",
     "text": [
      "[24.447765478310348, 24.447765478310345]\n"
     ]
    }
   ],
   "source": [
    "print([TSS, RSS+ESS])"
   ]
  },
  {
   "cell_type": "markdown",
   "id": "21df016b",
   "metadata": {},
   "source": [
    "So far we have used only the SSE to copute the quality of fit of a model. There are several alternatives to RSS (a.k.a., SSE) that can be used to estimate the quality of fit of a model. A few commonly used ones are:\n",
    "\n",
    "* Mean squared error (MSE): MSE is calculated as SSE divided by the number of degrees of freedom in the model. It is a measure of the average squared difference between the predicted values of the dependent variable and the actual values, and is often used as a measure of the overall goodness of fit of a model.\n",
    "\n",
    "* Root mean squared error (RMSE): RMSE is the square root of MSE and is often used as a more interpretable measure of the overall goodness of fit of a model. RMSE has the same units as the dependent variable and is more easily interpretable than MSE.\n",
    "\n",
    "* Mean absolute error (MAE): MAE is a measure of the average absolute difference between the predicted values of the dependent variable and the actual values. It is less sensitive to outliers than SSE and can be more robust in the presence of extreme values.\n",
    "\n",
    "* Coefficient of determination (R²): R² is a measure of the proportion of variance in the dependent variable that is explained by the independent variables in the model. It ranges from 0 to 1, with higher values indicating a better fit between the model and the observed data. $R² = 1 - (SSE / TSS)$\n",
    "\n",
    "Each one of these metrics is useful in different situations. Others also exist such as the K-L Divergence or Akaiake Information Criteria (AIK) or Baeysian Information Cirteria (BIC), we will cover some of these only in the future."
   ]
  },
  {
   "cell_type": "markdown",
   "id": "b52bcabd",
   "metadata": {},
   "source": [
    "\n",
    "`scikit-learn` provides a convenient way to compute several goodness of fit  metrics to evaluate model performance. The module `sklearn.metrics` can be imported and submodules within it contain estimators of the goodness of fit of models: "
   ]
  },
  {
   "cell_type": "code",
   "execution_count": 30,
   "id": "62263d33",
   "metadata": {},
   "outputs": [
    {
     "name": "stdout",
     "output_type": "stream",
     "text": [
      "Mean Absolute Error (MAE): 0.4859694020486803\n",
      "Mean Squared Error (MSE): 0.30712749130113615\n",
      "Root-Mean Squared Error (RMSE): 0.5541908437543299\n",
      "Coefficient of Determination (R²): 0.37187001492301086\n"
     ]
    }
   ],
   "source": [
    "from sklearn.metrics import mean_absolute_error,mean_squared_error, r2_score\n",
    " \n",
    "mae  = mean_absolute_error(y_true=y,y_pred=y_pred)\n",
    "mse  = mean_squared_error(y_true=y,y_pred=y_pred) #squared=True\n",
    "rmse = mean_squared_error(y_true=y,y_pred=y_pred,squared=False)\n",
    "r2   = r2_score(y_true=y,y_pred=y_pred)\n",
    " \n",
    "print(\"Mean Absolute Error (MAE):\",mae)\n",
    "print(\"Mean Squared Error (MSE):\",mse)\n",
    "print(\"Root-Mean Squared Error (RMSE):\",rmse)\n",
    "print(\"Coefficient of Determination (R²):\",r2)"
   ]
  },
  {
   "cell_type": "markdown",
   "id": "7af96d84",
   "metadata": {},
   "source": [
    "---\n",
    "\n",
    "### <span style=\"color:blue\">Exercise</span> \n",
    "\n",
    "- Generate a new data set of shape `(15,)`.\n",
    "- Fit a line using `scikit-learn.linear_model` and estimate the SSE\n",
    "- Use `scikit-learn.metrics` to estimate $R^2$"
   ]
  },
  {
   "cell_type": "code",
   "execution_count": 38,
   "id": "36a8699e",
   "metadata": {},
   "outputs": [
    {
     "name": "stdout",
     "output_type": "stream",
     "text": [
      "Intercept: -0.23579614335089316\n",
      "Coefficient: 2.464002578325705\n",
      "Coefficient of Determination (R²): 0.5423134147541951\n"
     ]
    },
    {
     "data": {
      "image/png": "[encoded data removed]",
      "text/plain": [
       "<Figure size 504x504 with 1 Axes>"
      ]
     },
     "metadata": {
      "needs_background": "light"
     },
     "output_type": "display_data"
    }
   ],
   "source": [
    "# Generate Data\n",
    "np.random.seed(123)\n",
    "x_15 = np.random.rand(15)\n",
    "y_15 = 2*x_15 + 0.5*np.random.randn(15)\n",
    "\n",
    "# The fit method in LinearRegression only acceps predictors (x) as matrices. \n",
    "# So we need to reshape our array:\n",
    "X_15 = np.array(x_15).reshape(-1, 1)\n",
    "model.fit(X_15, y_15)\n",
    "y_pred_15 = model.predict(X_15)\n",
    "\n",
    "# The coefficients can be extracted from the fit model as follows:\n",
    "print(\"Intercept:\", model.intercept_)\n",
    "print(\"Coefficient:\", model.coef_[0])\n",
    "\n",
    "# Compute R^2\n",
    "mae  = mean_absolute_error(y_true = y_15, y_pred = y_pred_15)\n",
    "mse  = mean_squared_error(y_true = y_15 , y_pred= y_pred_15)    #squared=True\n",
    "rmse = mean_squared_error(y_true = y_15 , y_pred = y_pred_15 , squared=False)\n",
    "r2   = r2_score(y_true = y_15 , y_pred = y_pred_15)\n",
    "print(\"Coefficient of Determination (R²):\",r2)\n",
    "\n",
    "plt.figure(figsize=(7,7))\n",
    "plt.scatter(x_15,y_15, color = 'green', label = 'Data Point')\n",
    "plt.plot(x_15,y_pred_15, color = 'red', label = 'Linear Regression Line', alpha = 0.5)\n",
    "plt.xlabel('X Value')\n",
    "plt.ylabel('Y Value')\n",
    "plt.title('Comparison Using sklearn.linear_model')\n",
    "plt.legend()\n",
    "plt.show()"
   ]
  },
  {
   "cell_type": "markdown",
   "id": "9d0559c5",
   "metadata": {},
   "source": [
    "### Linear regression using scikit-learn (generalized linear regression)\n"
   ]
  },
  {
   "cell_type": "markdown",
   "id": "1fae1769",
   "metadata": {},
   "source": [
    "So, far we have used `scikit-learn`'s `LinearRegression` uniquely to predict `n` `y` variables from `n` `x` variables.\n",
    "\n",
    "Yet, in practice we can think situations where we might have multiple variables (say `n x m` variables) and we would like to use them to predict a single set of `n` variables.\n",
    "\n",
    "For example imagine the case of `m` repeated measures of `n` values and wanting to predict corresponding `n` values of another variable.\n",
    "\n",
    "`LinearRegression` allows us to set up this type of modelling. This is the reason why the `X` variables must alswyas be 2D and above we had to make sure it was a 2D array.\n",
    "\n",
    "To work this example, we will use one of the datasets that come with `scikit learn`, the Boston Housing database:"
   ]
  },
  {
   "cell_type": "code",
   "execution_count": 53,
   "id": "0280a445",
   "metadata": {},
   "outputs": [],
   "source": [
    "import pandas as pd\n",
    "import seaborn as sns\n",
    "from sklearn.datasets import load_boston"
   ]
  },
  {
   "cell_type": "code",
   "execution_count": 54,
   "id": "0a09f6d0",
   "metadata": {},
   "outputs": [],
   "source": [
    "#import pandas as pd\n",
    "#import numpy as np\n",
    "\n",
    "#data_url = \"http://lib.stat.cmu.edu/datasets/boston\"\n",
    "#raw_df = pd.read_csv(data_url, sep=\"\\s+\", skiprows=22, header=None)\n",
    "#data = np.hstack([raw_df.values[::2, :], raw_df.values[1::2, :2]])\n",
    "#target = raw_df.values[1::2, 2]"
   ]
  },
  {
   "cell_type": "code",
   "execution_count": 58,
   "id": "ff012815",
   "metadata": {},
   "outputs": [
    {
     "name": "stderr",
     "output_type": "stream",
     "text": [
      "/Users/jesadathavornfung/opt/anaconda3/lib/python3.9/site-packages/sklearn/utils/deprecation.py:87: FutureWarning: Function load_boston is deprecated; `load_boston` is deprecated in 1.0 and will be removed in 1.2.\n",
      "\n",
      "    The Boston housing prices dataset has an ethical problem. You can refer to\n",
      "    the documentation of this function for further details.\n",
      "\n",
      "    The scikit-learn maintainers therefore strongly discourage the use of this\n",
      "    dataset unless the purpose of the code is to study and educate about\n",
      "    ethical issues in data science and machine learning.\n",
      "\n",
      "    In this special case, you can fetch the dataset from the original\n",
      "    source::\n",
      "\n",
      "        import pandas as pd\n",
      "        import numpy as np\n",
      "\n",
      "\n",
      "        data_url = \"http://lib.stat.cmu.edu/datasets/boston\"\n",
      "        raw_df = pd.read_csv(data_url, sep=\"\\s+\", skiprows=22, header=None)\n",
      "        data = np.hstack([raw_df.values[::2, :], raw_df.values[1::2, :2]])\n",
      "        target = raw_df.values[1::2, 2]\n",
      "\n",
      "    Alternative datasets include the California housing dataset (i.e.\n",
      "    :func:`~sklearn.datasets.fetch_california_housing`) and the Ames housing\n",
      "    dataset. You can load the datasets as follows::\n",
      "\n",
      "        from sklearn.datasets import fetch_california_housing\n",
      "        housing = fetch_california_housing()\n",
      "\n",
      "    for the California housing dataset and::\n",
      "\n",
      "        from sklearn.datasets import fetch_openml\n",
      "        housing = fetch_openml(name=\"house_prices\", as_frame=True)\n",
      "\n",
      "    for the Ames housing dataset.\n",
      "    \n",
      "  warnings.warn(msg, category=FutureWarning)\n"
     ]
    }
   ],
   "source": [
    "boston_dataset = load_boston()"
   ]
  },
  {
   "cell_type": "markdown",
   "id": "7e435ef7",
   "metadata": {},
   "source": [
    "To explore the dataset take a look at the Headers and Dictionary Keys. For example:"
   ]
  },
  {
   "cell_type": "code",
   "execution_count": 59,
   "id": "8a0467e4",
   "metadata": {},
   "outputs": [
    {
     "name": "stdout",
     "output_type": "stream",
     "text": [
      "dict_keys(['data', 'target', 'feature_names', 'DESCR', 'filename', 'data_module'])\n"
     ]
    }
   ],
   "source": [
    "print(boston_dataset.keys())"
   ]
  },
  {
   "cell_type": "markdown",
   "id": "96727a73",
   "metadata": {},
   "source": [
    "Where:\n",
    "\n",
    "* `data`: contains the information for various houses\n",
    "* `target`: prices of the house\n",
    "* `feature_names`: names of the features\n",
    "* `DESCR`: describes the dataset"
   ]
  },
  {
   "cell_type": "markdown",
   "id": "37ad1eb0",
   "metadata": {},
   "source": [
    "The dataset contains a series of attributes or features (variables) measured along different dimensions. \n",
    "\n",
    "Take a look at:"
   ]
  },
  {
   "cell_type": "code",
   "execution_count": 60,
   "id": "39738705",
   "metadata": {
    "scrolled": true
   },
   "outputs": [
    {
     "name": "stdout",
     "output_type": "stream",
     "text": [
      ".. _boston_dataset:\n",
      "\n",
      "Boston house prices dataset\n",
      "---------------------------\n",
      "\n",
      "**Data Set Characteristics:**  \n",
      "\n",
      "    :Number of Instances: 506 \n",
      "\n",
      "    :Number of Attributes: 13 numeric/categorical predictive. Median Value (attribute 14) is usually the target.\n",
      "\n",
      "    :Attribute Information (in order):\n",
      "        - CRIM     per capita crime rate by town\n",
      "        - ZN       proportion of residential land zoned for lots over 25,000 sq.ft.\n",
      "        - INDUS    proportion of non-retail business acres per town\n",
      "        - CHAS     Charles River dummy variable (= 1 if tract bounds river; 0 otherwise)\n",
      "        - NOX      nitric oxides concentration (parts per 10 million)\n",
      "        - RM       average number of rooms per dwelling\n",
      "        - AGE      proportion of owner-occupied units built prior to 1940\n",
      "        - DIS      weighted distances to five Boston employment centres\n",
      "        - RAD      index of accessibility to radial highways\n",
      "        - TAX      full-value property-tax rate per $10,000\n",
      "        - PTRATIO  pupil-teacher ratio by town\n",
      "        - B        1000(Bk - 0.63)^2 where Bk is the proportion of black people by town\n",
      "        - LSTAT    % lower status of the population\n",
      "        - MEDV     Median value of owner-occupied homes in $1000's\n",
      "\n",
      "    :Missing Attribute Values: None\n",
      "\n",
      "    :Creator: Harrison, D. and Rubinfeld, D.L.\n",
      "\n",
      "This is a copy of UCI ML housing dataset.\n",
      "https://archive.ics.uci.edu/ml/machine-learning-databases/housing/\n",
      "\n",
      "\n",
      "This dataset was taken from the StatLib library which is maintained at Carnegie Mellon University.\n",
      "\n",
      "The Boston house-price data of Harrison, D. and Rubinfeld, D.L. 'Hedonic\n",
      "prices and the demand for clean air', J. Environ. Economics & Management,\n",
      "vol.5, 81-102, 1978.   Used in Belsley, Kuh & Welsch, 'Regression diagnostics\n",
      "...', Wiley, 1980.   N.B. Various transformations are used in the table on\n",
      "pages 244-261 of the latter.\n",
      "\n",
      "The Boston house-price data has been used in many machine learning papers that address regression\n",
      "problems.   \n",
      "     \n",
      ".. topic:: References\n",
      "\n",
      "   - Belsley, Kuh & Welsch, 'Regression diagnostics: Identifying Influential Data and Sources of Collinearity', Wiley, 1980. 244-261.\n",
      "   - Quinlan,R. (1993). Combining Instance-Based and Model-Based Learning. In Proceedings on the Tenth International Conference of Machine Learning, 236-243, University of Massachusetts, Amherst. Morgan Kaufmann.\n",
      "\n"
     ]
    }
   ],
   "source": [
    "print(boston_dataset.DESCR)"
   ]
  },
  {
   "cell_type": "markdown",
   "id": "190228d0",
   "metadata": {},
   "source": [
    "The last variable `MEDV` (or median value) is our interest. It is the median value of homes in thousands of dollars."
   ]
  },
  {
   "cell_type": "markdown",
   "id": "9d4e3511",
   "metadata": {},
   "source": [
    "The dataset contains `.data` and `.target`"
   ]
  },
  {
   "cell_type": "code",
   "execution_count": 61,
   "id": "1b4687b7",
   "metadata": {},
   "outputs": [
    {
     "name": "stdout",
     "output_type": "stream",
     "text": [
      "[[6.3200e-03 1.8000e+01 2.3100e+00 ... 1.5300e+01 3.9690e+02 4.9800e+00]\n",
      " [2.7310e-02 0.0000e+00 7.0700e+00 ... 1.7800e+01 3.9690e+02 9.1400e+00]\n",
      " [2.7290e-02 0.0000e+00 7.0700e+00 ... 1.7800e+01 3.9283e+02 4.0300e+00]\n",
      " ...\n",
      " [6.0760e-02 0.0000e+00 1.1930e+01 ... 2.1000e+01 3.9690e+02 5.6400e+00]\n",
      " [1.0959e-01 0.0000e+00 1.1930e+01 ... 2.1000e+01 3.9345e+02 6.4800e+00]\n",
      " [4.7410e-02 0.0000e+00 1.1930e+01 ... 2.1000e+01 3.9690e+02 7.8800e+00]]\n"
     ]
    }
   ],
   "source": [
    "print(boston_dataset.data)"
   ]
  },
  {
   "cell_type": "code",
   "execution_count": 62,
   "id": "03b12a51",
   "metadata": {
    "scrolled": true
   },
   "outputs": [
    {
     "name": "stdout",
     "output_type": "stream",
     "text": [
      "[24.  21.6 34.7 33.4 36.2 28.7 22.9 27.1 16.5 18.9 15.  18.9 21.7 20.4\n",
      " 18.2 19.9 23.1 17.5 20.2 18.2 13.6 19.6 15.2 14.5 15.6 13.9 16.6 14.8\n",
      " 18.4 21.  12.7 14.5 13.2 13.1 13.5 18.9 20.  21.  24.7 30.8 34.9 26.6\n",
      " 25.3 24.7 21.2 19.3 20.  16.6 14.4 19.4 19.7 20.5 25.  23.4 18.9 35.4\n",
      " 24.7 31.6 23.3 19.6 18.7 16.  22.2 25.  33.  23.5 19.4 22.  17.4 20.9\n",
      " 24.2 21.7 22.8 23.4 24.1 21.4 20.  20.8 21.2 20.3 28.  23.9 24.8 22.9\n",
      " 23.9 26.6 22.5 22.2 23.6 28.7 22.6 22.  22.9 25.  20.6 28.4 21.4 38.7\n",
      " 43.8 33.2 27.5 26.5 18.6 19.3 20.1 19.5 19.5 20.4 19.8 19.4 21.7 22.8\n",
      " 18.8 18.7 18.5 18.3 21.2 19.2 20.4 19.3 22.  20.3 20.5 17.3 18.8 21.4\n",
      " 15.7 16.2 18.  14.3 19.2 19.6 23.  18.4 15.6 18.1 17.4 17.1 13.3 17.8\n",
      " 14.  14.4 13.4 15.6 11.8 13.8 15.6 14.6 17.8 15.4 21.5 19.6 15.3 19.4\n",
      " 17.  15.6 13.1 41.3 24.3 23.3 27.  50.  50.  50.  22.7 25.  50.  23.8\n",
      " 23.8 22.3 17.4 19.1 23.1 23.6 22.6 29.4 23.2 24.6 29.9 37.2 39.8 36.2\n",
      " 37.9 32.5 26.4 29.6 50.  32.  29.8 34.9 37.  30.5 36.4 31.1 29.1 50.\n",
      " 33.3 30.3 34.6 34.9 32.9 24.1 42.3 48.5 50.  22.6 24.4 22.5 24.4 20.\n",
      " 21.7 19.3 22.4 28.1 23.7 25.  23.3 28.7 21.5 23.  26.7 21.7 27.5 30.1\n",
      " 44.8 50.  37.6 31.6 46.7 31.5 24.3 31.7 41.7 48.3 29.  24.  25.1 31.5\n",
      " 23.7 23.3 22.  20.1 22.2 23.7 17.6 18.5 24.3 20.5 24.5 26.2 24.4 24.8\n",
      " 29.6 42.8 21.9 20.9 44.  50.  36.  30.1 33.8 43.1 48.8 31.  36.5 22.8\n",
      " 30.7 50.  43.5 20.7 21.1 25.2 24.4 35.2 32.4 32.  33.2 33.1 29.1 35.1\n",
      " 45.4 35.4 46.  50.  32.2 22.  20.1 23.2 22.3 24.8 28.5 37.3 27.9 23.9\n",
      " 21.7 28.6 27.1 20.3 22.5 29.  24.8 22.  26.4 33.1 36.1 28.4 33.4 28.2\n",
      " 22.8 20.3 16.1 22.1 19.4 21.6 23.8 16.2 17.8 19.8 23.1 21.  23.8 23.1\n",
      " 20.4 18.5 25.  24.6 23.  22.2 19.3 22.6 19.8 17.1 19.4 22.2 20.7 21.1\n",
      " 19.5 18.5 20.6 19.  18.7 32.7 16.5 23.9 31.2 17.5 17.2 23.1 24.5 26.6\n",
      " 22.9 24.1 18.6 30.1 18.2 20.6 17.8 21.7 22.7 22.6 25.  19.9 20.8 16.8\n",
      " 21.9 27.5 21.9 23.1 50.  50.  50.  50.  50.  13.8 13.8 15.  13.9 13.3\n",
      " 13.1 10.2 10.4 10.9 11.3 12.3  8.8  7.2 10.5  7.4 10.2 11.5 15.1 23.2\n",
      "  9.7 13.8 12.7 13.1 12.5  8.5  5.   6.3  5.6  7.2 12.1  8.3  8.5  5.\n",
      " 11.9 27.9 17.2 27.5 15.  17.2 17.9 16.3  7.   7.2  7.5 10.4  8.8  8.4\n",
      " 16.7 14.2 20.8 13.4 11.7  8.3 10.2 10.9 11.   9.5 14.5 14.1 16.1 14.3\n",
      " 11.7 13.4  9.6  8.7  8.4 12.8 10.5 17.1 18.4 15.4 10.8 11.8 14.9 12.6\n",
      " 14.1 13.  13.4 15.2 16.1 17.8 14.9 14.1 12.7 13.5 14.9 20.  16.4 17.7\n",
      " 19.5 20.2 21.4 19.9 19.  19.1 19.1 20.1 19.9 19.6 23.2 29.8 13.8 13.3\n",
      " 16.7 12.  14.6 21.4 23.  23.7 25.  21.8 20.6 21.2 19.1 20.6 15.2  7.\n",
      "  8.1 13.6 20.1 21.8 24.5 23.1 19.7 18.3 21.2 17.5 16.8 22.4 20.6 23.9\n",
      " 22.  11.9]\n"
     ]
    }
   ],
   "source": [
    "print(boston_dataset.target)"
   ]
  },
  {
   "cell_type": "markdown",
   "id": "81fe7acb",
   "metadata": {},
   "source": [
    "For convenience we are going to create a smalled table of features:"
   ]
  },
  {
   "cell_type": "code",
   "execution_count": 63,
   "id": "59f46e49",
   "metadata": {},
   "outputs": [
    {
     "data": {
      "text/html": [
       "<div>\n",
       "<style scoped>\n",
       "    .dataframe tbody tr th:only-of-type {\n",
       "        vertical-align: middle;\n",
       "    }\n",
       "\n",
       "    .dataframe tbody tr th {\n",
       "        vertical-align: top;\n",
       "    }\n",
       "\n",
       "    .dataframe thead th {\n",
       "        text-align: right;\n",
       "    }\n",
       "</style>\n",
       "<table border=\"1\" class=\"dataframe\">\n",
       "  <thead>\n",
       "    <tr style=\"text-align: right;\">\n",
       "      <th></th>\n",
       "      <th>CRIM</th>\n",
       "      <th>ZN</th>\n",
       "      <th>INDUS</th>\n",
       "      <th>CHAS</th>\n",
       "      <th>NOX</th>\n",
       "      <th>RM</th>\n",
       "      <th>AGE</th>\n",
       "      <th>DIS</th>\n",
       "      <th>RAD</th>\n",
       "      <th>TAX</th>\n",
       "      <th>PTRATIO</th>\n",
       "      <th>B</th>\n",
       "      <th>LSTAT</th>\n",
       "    </tr>\n",
       "  </thead>\n",
       "  <tbody>\n",
       "    <tr>\n",
       "      <th>0</th>\n",
       "      <td>0.00632</td>\n",
       "      <td>18.0</td>\n",
       "      <td>2.31</td>\n",
       "      <td>0.0</td>\n",
       "      <td>0.538</td>\n",
       "      <td>6.575</td>\n",
       "      <td>65.2</td>\n",
       "      <td>4.0900</td>\n",
       "      <td>1.0</td>\n",
       "      <td>296.0</td>\n",
       "      <td>15.3</td>\n",
       "      <td>396.90</td>\n",
       "      <td>4.98</td>\n",
       "    </tr>\n",
       "    <tr>\n",
       "      <th>1</th>\n",
       "      <td>0.02731</td>\n",
       "      <td>0.0</td>\n",
       "      <td>7.07</td>\n",
       "      <td>0.0</td>\n",
       "      <td>0.469</td>\n",
       "      <td>6.421</td>\n",
       "      <td>78.9</td>\n",
       "      <td>4.9671</td>\n",
       "      <td>2.0</td>\n",
       "      <td>242.0</td>\n",
       "      <td>17.8</td>\n",
       "      <td>396.90</td>\n",
       "      <td>9.14</td>\n",
       "    </tr>\n",
       "    <tr>\n",
       "      <th>2</th>\n",
       "      <td>0.02729</td>\n",
       "      <td>0.0</td>\n",
       "      <td>7.07</td>\n",
       "      <td>0.0</td>\n",
       "      <td>0.469</td>\n",
       "      <td>7.185</td>\n",
       "      <td>61.1</td>\n",
       "      <td>4.9671</td>\n",
       "      <td>2.0</td>\n",
       "      <td>242.0</td>\n",
       "      <td>17.8</td>\n",
       "      <td>392.83</td>\n",
       "      <td>4.03</td>\n",
       "    </tr>\n",
       "    <tr>\n",
       "      <th>3</th>\n",
       "      <td>0.03237</td>\n",
       "      <td>0.0</td>\n",
       "      <td>2.18</td>\n",
       "      <td>0.0</td>\n",
       "      <td>0.458</td>\n",
       "      <td>6.998</td>\n",
       "      <td>45.8</td>\n",
       "      <td>6.0622</td>\n",
       "      <td>3.0</td>\n",
       "      <td>222.0</td>\n",
       "      <td>18.7</td>\n",
       "      <td>394.63</td>\n",
       "      <td>2.94</td>\n",
       "    </tr>\n",
       "    <tr>\n",
       "      <th>4</th>\n",
       "      <td>0.06905</td>\n",
       "      <td>0.0</td>\n",
       "      <td>2.18</td>\n",
       "      <td>0.0</td>\n",
       "      <td>0.458</td>\n",
       "      <td>7.147</td>\n",
       "      <td>54.2</td>\n",
       "      <td>6.0622</td>\n",
       "      <td>3.0</td>\n",
       "      <td>222.0</td>\n",
       "      <td>18.7</td>\n",
       "      <td>396.90</td>\n",
       "      <td>5.33</td>\n",
       "    </tr>\n",
       "  </tbody>\n",
       "</table>\n",
       "</div>"
      ],
      "text/plain": [
       "      CRIM    ZN  INDUS  CHAS    NOX     RM   AGE     DIS  RAD    TAX  \\\n",
       "0  0.00632  18.0   2.31   0.0  0.538  6.575  65.2  4.0900  1.0  296.0   \n",
       "1  0.02731   0.0   7.07   0.0  0.469  6.421  78.9  4.9671  2.0  242.0   \n",
       "2  0.02729   0.0   7.07   0.0  0.469  7.185  61.1  4.9671  2.0  242.0   \n",
       "3  0.03237   0.0   2.18   0.0  0.458  6.998  45.8  6.0622  3.0  222.0   \n",
       "4  0.06905   0.0   2.18   0.0  0.458  7.147  54.2  6.0622  3.0  222.0   \n",
       "\n",
       "   PTRATIO       B  LSTAT  \n",
       "0     15.3  396.90   4.98  \n",
       "1     17.8  396.90   9.14  \n",
       "2     17.8  392.83   4.03  \n",
       "3     18.7  394.63   2.94  \n",
       "4     18.7  396.90   5.33  "
      ]
     },
     "execution_count": 63,
     "metadata": {},
     "output_type": "execute_result"
    }
   ],
   "source": [
    "boston = pd.DataFrame(boston_dataset.data, columns=boston_dataset.feature_names)\n",
    "boston.head()"
   ]
  },
  {
   "cell_type": "markdown",
   "id": "947a26e9",
   "metadata": {},
   "source": [
    "We can take a look at the median house value:"
   ]
  },
  {
   "cell_type": "code",
   "execution_count": 64,
   "id": "fccb20eb",
   "metadata": {},
   "outputs": [
    {
     "data": {
      "text/plain": [
       "<seaborn.axisgrid.FacetGrid at 0x7fc7c4a97e50>"
      ]
     },
     "execution_count": 64,
     "metadata": {},
     "output_type": "execute_result"
    },
    {
     "data": {
      "image/png": "[encoded data removed]",
      "text/plain": [
       "<Figure size 360x360 with 1 Axes>"
      ]
     },
     "metadata": {
      "needs_background": "light"
     },
     "output_type": "display_data"
    }
   ],
   "source": [
    "sns.displot(boston_dataset.target, bins=56)"
   ]
  },
  {
   "cell_type": "markdown",
   "id": "51efbfdb",
   "metadata": {},
   "source": [
    "We can explore the relationship between some of the features in the data and the target variable:"
   ]
  },
  {
   "cell_type": "code",
   "execution_count": 65,
   "id": "acb08932",
   "metadata": {},
   "outputs": [
    {
     "data": {
      "text/plain": [
       "Text(0, 0.5, 'Median House Values (MEDV)')"
      ]
     },
     "execution_count": 65,
     "metadata": {},
     "output_type": "execute_result"
    },
    {
     "data": {
      "image/png": "[encoded data removed]",
      "text/plain": [
       "<Figure size 432x288 with 1 Axes>"
      ]
     },
     "metadata": {
      "needs_background": "light"
     },
     "output_type": "display_data"
    }
   ],
   "source": [
    "x = boston['RM']\n",
    "y = boston_dataset.target\n",
    "plt.scatter(x, y, marker='o')\n",
    "plt.xlabel('The average number of rooms per dwelling (RM)')\n",
    "plt.ylabel('Median House Values (MEDV)')"
   ]
  },
  {
   "cell_type": "markdown",
   "id": "ff9e2b82",
   "metadata": {},
   "source": [
    "OK, it looks like there are features (like \"RM\") that have a relationship with the Median House Values. Let's try another feature:"
   ]
  },
  {
   "cell_type": "code",
   "execution_count": 66,
   "id": "990f950e",
   "metadata": {},
   "outputs": [
    {
     "data": {
      "text/plain": [
       "Text(0, 0.5, 'Median House Values (MEDV)')"
      ]
     },
     "execution_count": 66,
     "metadata": {},
     "output_type": "execute_result"
    },
    {
     "data": {
      "image/png": "[encoded data removed]",
      "text/plain": [
       "<Figure size 432x288 with 1 Axes>"
      ]
     },
     "metadata": {
      "needs_background": "light"
     },
     "output_type": "display_data"
    }
   ],
   "source": [
    "x = boston['LSTAT']\n",
    "y = boston_dataset.target\n",
    "plt.scatter(x, y, marker='o')\n",
    "plt.xlabel('The lower status of the population (LSTAT)')\n",
    "plt.ylabel('Median House Values (MEDV)')"
   ]
  },
  {
   "cell_type": "markdown",
   "id": "c6516d7e",
   "metadata": {},
   "source": [
    "Also, a relationship. So, it looks like multiple features in the dataset have a relationship with the target variable (the median house value)"
   ]
  },
  {
   "cell_type": "markdown",
   "id": "a4624c35",
   "metadata": {},
   "source": [
    "---\n",
    "\n",
    "### <span style=\"color:blue\">Exercise</span> \n",
    "\n",
    "- Explore the relationship between the target variable and two additional features of your choice. Make a plot."
   ]
  },
  {
   "cell_type": "code",
   "execution_count": 73,
   "id": "687c1d3a",
   "metadata": {},
   "outputs": [
    {
     "data": {
      "text/plain": [
       "Text(0, 0.5, 'Median House Values (MEDV)')"
      ]
     },
     "execution_count": 73,
     "metadata": {},
     "output_type": "execute_result"
    },
    {
     "data": {
      "image/png": "[encoded data removed]",
      "text/plain": [
       "<Figure size 432x288 with 1 Axes>"
      ]
     },
     "metadata": {
      "needs_background": "light"
     },
     "output_type": "display_data"
    }
   ],
   "source": [
    "x = boston['AGE']\n",
    "y = boston_dataset.target\n",
    "plt.scatter(x, y, marker='o', alpha = 0.4, label = 'Proportion of owner-occupied units built prior to 1940')\n",
    "plt.scatter(boston['PTRATIO'], y, marker='o', alpha = 0.1, label = 'Pupil-teacher ratio by town')\n",
    "plt.xlabel('Data Set from Boston')\n",
    "plt.legend()\n",
    "plt.ylabel('Median House Values (MEDV)')"
   ]
  },
  {
   "cell_type": "markdown",
   "id": "a83cfe39",
   "metadata": {},
   "source": [
    "---\n",
    "\n",
    "It looks like multiple features have some relationship with the median house value in Boston. \n",
    "\n",
    "So, it makes sense to think that a linear combination of all these variables should predict in some way the median house value. This is a case in which `m` variables (features) predict alltogether a target variable.\n",
    "\n",
    "We will use `LinearRegression` to experiment with fitting a linear model where `m` features predict a single variable.\n",
    "\n",
    "First let's organize the data:"
   ]
  },
  {
   "cell_type": "code",
   "execution_count": 74,
   "id": "c50daa4e",
   "metadata": {},
   "outputs": [],
   "source": [
    "# get dependent and independent variables from the data set\n",
    "X = boston_dataset.data\n",
    "y = boston_dataset.target"
   ]
  },
  {
   "cell_type": "markdown",
   "id": "66d993df",
   "metadata": {},
   "source": [
    "Second, let's fit the linear regression model. "
   ]
  },
  {
   "cell_type": "code",
   "execution_count": 75,
   "id": "a52e732c",
   "metadata": {},
   "outputs": [
    {
     "data": {
      "text/plain": [
       "LinearRegression()"
      ]
     },
     "execution_count": 75,
     "metadata": {},
     "output_type": "execute_result"
    }
   ],
   "source": [
    "housing_linear_regression = LinearRegression()\n",
    "housing_linear_regression.fit(X, y)"
   ]
  },
  {
   "cell_type": "markdown",
   "id": "70148bf9",
   "metadata": {},
   "source": [
    "Third, we will use the model to predict the data, the median house value:"
   ]
  },
  {
   "cell_type": "code",
   "execution_count": 76,
   "id": "dcf4bba5",
   "metadata": {},
   "outputs": [],
   "source": [
    "y_pred = housing_linear_regression.predict(X)"
   ]
  },
  {
   "cell_type": "markdown",
   "id": "8ec789f7",
   "metadata": {},
   "source": [
    "Finally, we will compare using a plot the predicted and measured Median House Value"
   ]
  },
  {
   "cell_type": "code",
   "execution_count": 77,
   "id": "dec287ca",
   "metadata": {},
   "outputs": [],
   "source": [
    "y_data_array = np.array(y).reshape(-1, 1) \n",
    "y_pred_array = np.array(y_pred).reshape(-1, 1)"
   ]
  },
  {
   "cell_type": "code",
   "execution_count": 78,
   "id": "928b74b0",
   "metadata": {},
   "outputs": [
    {
     "data": {
      "text/plain": [
       "Text(0, 0.5, 'Measured: Median House Values (MEDV)')"
      ]
     },
     "execution_count": 78,
     "metadata": {},
     "output_type": "execute_result"
    },
    {
     "data": {
      "image/png": "[encoded data removed]",
      "text/plain": [
       "<Figure size 432x288 with 1 Axes>"
      ]
     },
     "metadata": {
      "needs_background": "light"
     },
     "output_type": "display_data"
    }
   ],
   "source": [
    "x = y_data_array\n",
    "y = y_pred_array\n",
    "plt.scatter(x, y, marker='o')\n",
    "plt.xlabel('Predicted: Median House Values (MEDV)')\n",
    "plt.ylabel('Measured: Median House Values (MEDV)')"
   ]
  },
  {
   "cell_type": "markdown",
   "id": "1ce55b08",
   "metadata": {},
   "source": [
    "---\n",
    "\n",
    "### <span style=\"color:blue\">Exercise</span> \n",
    "\n",
    "- Explain in your own words what you see in the previos Figure.\n",
    "- Describe what the above experiment did\n",
    "- How many features where in our model?\n",
    "- How good was the quality of the fit (what was the R2 and MSE)?"
   ]
  },
  {
   "cell_type": "markdown",
   "id": "385e8073",
   "metadata": {},
   "source": [
    "> Based on the figure above, it appears that there is a postive relationship between the predicted _median house value (MEDV)_ and the measured _median house value (MEDEV)_, which means that as the predicted values go up, the measured values tend to go up as well. Also, the predicted MEDV is only support value up to 50 because because even if the measured MEDV goes up, the predicted MEDV never exceed 50. \n",
    "\n",
    "> Above experiment compared the between the predicted and measured MEDEV together using linear regression in which we use `LinearRegression` to experiment with fitting a linear model where `m` features predict a single variable.\n",
    "\n",
    "> In this case, the features are anything in `boston_dataset.data`, which could be CRIM (per capita crime rate by town), ZN (proportion of residential land zoned for lots over 25,000 sq.ft.), INDUS (proportion of non-retail business acres per town), CHAS (Charles River dummy variable (= 1 if tract bounds river; 0 otherwise)), NOX (nitric oxides concentration (parts per 10 million)), RM (average number of rooms per dwelling), AGE  (proportion of owner-occupied units built prior to 1940), DIS (weighted distances to five Boston employment centres), RAD (index of accessibility to radial highways), TAX (full-value property-tax rate per 10,000 dollars), PTRATIO (pupil-teacher ratio by town), B (1000(Bk - 0.63)^2 where Bk is the proportion of black people by town), LSTAT (% lower status of the population), and **MEDV (Median value of owner-occupied homes in 1000's dollars)**."
   ]
  },
  {
   "cell_type": "code",
   "execution_count": 80,
   "id": "0f41dae4",
   "metadata": {},
   "outputs": [
    {
     "name": "stdout",
     "output_type": "stream",
     "text": [
      "Coefficient of Determination (R²): 1.0\n"
     ]
    }
   ],
   "source": [
    "# Compute R^2\n",
    "mae  = mean_absolute_error(y_true = y, y_pred = y_pred)\n",
    "mse  = mean_squared_error(y_true = y , y_pred= y_pred)    #squared=True\n",
    "rmse = mean_squared_error(y_true = y , y_pred = y_pred , squared=False)\n",
    "r2   = r2_score(y_true = y , y_pred = y_pred)\n",
    "print(\"Coefficient of Determination (R²):\",r2)"
   ]
  },
  {
   "cell_type": "markdown",
   "id": "7763e83b",
   "metadata": {},
   "source": [
    "> The fit is good because the $R^2$ is 1.0, which means that the data fit well together."
   ]
  }
 ],
 "metadata": {
  "kernelspec": {
   "display_name": "Python 3 (ipykernel)",
   "language": "python",
   "name": "python3"
  },
  "language_info": {
   "codemirror_mode": {
    "name": "ipython",
    "version": 3
   },
   "file_extension": ".py",
   "mimetype": "text/x-python",
   "name": "python",
   "nbconvert_exporter": "python",
   "pygments_lexer": "ipython3",
   "version": "3.9.12"
  }
 },
 "nbformat": 4,
 "nbformat_minor": 5
}
