{
 "cells": [
  {
   "cell_type": "markdown",
   "id": "d183d248",
   "metadata": {},
   "source": [
    "# Multi-panel figures"
   ]
  },
  {
   "cell_type": "markdown",
   "id": "f9ca3380",
   "metadata": {},
   "source": [
    "We will often want to put multiple panels in a figure. In fact, take a look at the current issue of [Nature](https://www.nature.com/nature/articles?type=letter) (generally regarded as the top scientific journal in the world), and you will see *all* of the figures shown in the article listing have multiple panels. The reason is quite simply that, in general, there are multiple aspects of a single data set, experiment, etc., that tell a single story together. It is thus more effective to have these multiple aspects conveyed in a single figure so that the reader can appreciate these aspects and their interrelationships together."
   ]
  },
  {
   "cell_type": "markdown",
   "id": "658380e1",
   "metadata": {},
   "source": [
    "In this tutorial, we will go through the most basic of making multi-panel figures using `matplotlib`, and we'll go to through next two in the next tutorial. The three methods offer a trade-off between ease and simplicity on the one hand power and flexibility on the other. Which you use for projects in the future will depend largely on your own preference and the task and hand."
   ]
  },
  {
   "cell_type": "markdown",
   "id": "1df57bfd",
   "metadata": {},
   "source": [
    "As always, we need to import the needed libraries to get going."
   ]
  },
  {
   "cell_type": "code",
   "execution_count": 1,
   "id": "da581487",
   "metadata": {},
   "outputs": [],
   "source": [
    "# first things first\n",
    "import numpy as np\n",
    "import matplotlib.pyplot as plt"
   ]
  },
  {
   "cell_type": "markdown",
   "id": "5754aa7b",
   "metadata": {},
   "source": [
    "Next, we're going to make some data to play with. Don't worry about the code just yet – we can just think about as a black box data generator for now. You can come back and see if you can make sense of it once we've played with the data a little bit."
   ]
  },
  {
   "cell_type": "code",
   "execution_count": 2,
   "id": "8d499e72",
   "metadata": {},
   "outputs": [],
   "source": [
    "### make some data to play with\n",
    "my_means = [0, 0]\n",
    "my_cov = [[2, -1.9], [-1.9, 3]]\n",
    "my_n = 5000\n",
    "\n",
    "my_rng = np.random.default_rng()\n",
    "x, y = my_rng.multivariate_normal(my_means, my_cov, my_n).T\n",
    "y = y**2"
   ]
  },
  {
   "cell_type": "markdown",
   "id": "d6e5621b",
   "metadata": {},
   "source": [
    "After running the above, we should have two vectors of data, `x` and `y`, each of which contain 5000 data points.\n",
    "\n",
    "In the code cell below, confirm the shapes of `x` and `y`."
   ]
  },
  {
   "cell_type": "code",
   "execution_count": 3,
   "id": "c4184f2f",
   "metadata": {},
   "outputs": [
    {
     "data": {
      "text/plain": [
       "(5000,)"
      ]
     },
     "execution_count": 3,
     "metadata": {},
     "output_type": "execute_result"
    }
   ],
   "source": [
    "# how big are our variables?\n",
    "x.shape"
   ]
  },
  {
   "cell_type": "code",
   "execution_count": 4,
   "id": "35dce7de",
   "metadata": {},
   "outputs": [
    {
     "data": {
      "text/plain": [
       "array([-1.72758928, -0.65738866,  0.80353893, ..., -0.72701184,\n",
       "        1.14115638, -1.34329024])"
      ]
     },
     "execution_count": 4,
     "metadata": {},
     "output_type": "execute_result"
    }
   ],
   "source": [
    "x"
   ]
  },
  {
   "cell_type": "code",
   "execution_count": 5,
   "id": "e3c1e9ab",
   "metadata": {},
   "outputs": [
    {
     "data": {
      "text/plain": [
       "(5000,)"
      ]
     },
     "execution_count": 5,
     "metadata": {},
     "output_type": "execute_result"
    }
   ],
   "source": [
    "y.shape"
   ]
  },
  {
   "cell_type": "code",
   "execution_count": 6,
   "id": "78c7e5f4",
   "metadata": {},
   "outputs": [
    {
     "data": {
      "text/plain": [
       "array([4.16772673e-01, 8.33170696e-05, 3.14682561e-01, ...,\n",
       "       2.28196000e-01, 7.93976484e+00, 4.15402363e-01])"
      ]
     },
     "execution_count": 6,
     "metadata": {},
     "output_type": "execute_result"
    }
   ],
   "source": [
    "y"
   ]
  },
  {
   "cell_type": "markdown",
   "id": "d56791a5",
   "metadata": {},
   "source": [
    "## looking at data with individual figures"
   ]
  },
  {
   "cell_type": "markdown",
   "id": "ebc2fb5a",
   "metadata": {},
   "source": [
    "First, let's examine the data with the \"quickie\" single plot tools we already have. In the two code cells below, make histograms of x and y.\n",
    "\n",
    "To save time and code clutter, we'll break our \"always annotate plots\" rule and only annotate when it illustrates something about multi-plot figures. "
   ]
  },
  {
   "cell_type": "code",
   "execution_count": 7,
   "id": "bf021f87",
   "metadata": {},
   "outputs": [
    {
     "data": {
      "text/plain": [
       "Text(0.5, 1.0, 'X Value')"
      ]
     },
     "execution_count": 7,
     "metadata": {},
     "output_type": "execute_result"
    },
    {
     "data": {
      "image/png": "[encoded data removed]",
      "text/plain": [
       "<Figure size 432x288 with 1 Axes>"
      ]
     },
     "metadata": {
      "needs_background": "light"
     },
     "output_type": "display_data"
    }
   ],
   "source": [
    "# histogram of x\n",
    "plt.hist(x, alpha=0.5);\n",
    "plt.title('X Value')"
   ]
  },
  {
   "cell_type": "code",
   "execution_count": 8,
   "id": "faea8324",
   "metadata": {},
   "outputs": [
    {
     "data": {
      "text/plain": [
       "Text(0.5, 1.0, 'Y Value')"
      ]
     },
     "execution_count": 8,
     "metadata": {},
     "output_type": "execute_result"
    },
    {
     "data": {
      "image/png": "[encoded data removed]",
      "text/plain": [
       "<Figure size 432x288 with 1 Axes>"
      ]
     },
     "metadata": {
      "needs_background": "light"
     },
     "output_type": "display_data"
    }
   ],
   "source": [
    "# histogram of y\n",
    "plt.hist(y, color='green', alpha = 0.5);\n",
    "plt.title('Y Value')"
   ]
  },
  {
   "cell_type": "markdown",
   "id": "abaacfb7",
   "metadata": {},
   "source": [
    "Clearly, these two sets of data have distributions of very different shape. Still, it might be easier to compare them if we put them on the same plot. Use the code cell below to plot them together. Set the `alpha` for both to something below 0.5 so you can see the overlapping regions."
   ]
  },
  {
   "cell_type": "code",
   "execution_count": 9,
   "id": "5a6b27c7",
   "metadata": {},
   "outputs": [
    {
     "data": {
      "text/plain": [
       "<matplotlib.legend.Legend at 0x7f8d5c87f910>"
      ]
     },
     "execution_count": 9,
     "metadata": {},
     "output_type": "execute_result"
    },
    {
     "data": {
      "image/png": "[encoded data removed]",
      "text/plain": [
       "<Figure size 432x288 with 1 Axes>"
      ]
     },
     "metadata": {
      "needs_background": "light"
     },
     "output_type": "display_data"
    }
   ],
   "source": [
    "# both histograms on the same plot.\n",
    "plt.hist(y, color='green', alpha = 0.5,label='Y Value');\n",
    "plt.hist(x, alpha=0.5,label = 'X Value');\n",
    "plt.title('X and Y Value Comparison')\n",
    "plt.legend()"
   ]
  },
  {
   "cell_type": "markdown",
   "id": "19d7c538",
   "metadata": {},
   "source": [
    "Before we move on, let's consider this plot some more. Both x and y have 5000 points, so why is the distribution of y so much higher? Play around with the binwidth of one or both histograms until you have a plot that you think conveys both the relative heights and shapes of the two distributions fairly well."
   ]
  },
  {
   "cell_type": "markdown",
   "id": "32b5f814",
   "metadata": {},
   "source": [
    "Now let's plot the relationship between x and y using `plt.scatter()`! There are going to be a ***lot*** of data points that occlude other data points in the default plot. So, after making the initial plot, play around with the `alpha` and size (`s = `) parameters until you get a plot you are happy with."
   ]
  },
  {
   "cell_type": "code",
   "execution_count": 10,
   "id": "9c47745b",
   "metadata": {
    "scrolled": true
   },
   "outputs": [
    {
     "data": {
      "text/plain": [
       "Text(0.5, 1.0, 'Scatter Plot of X and Y')"
      ]
     },
     "execution_count": 10,
     "metadata": {},
     "output_type": "execute_result"
    },
    {
     "data": {
      "image/png": "[encoded data removed]",
      "text/plain": [
       "<Figure size 432x288 with 1 Axes>"
      ]
     },
     "metadata": {
      "needs_background": "light"
     },
     "output_type": "display_data"
    }
   ],
   "source": [
    "# scatter plot of x,y\n",
    "plt.scatter(x,y, s = 30, alpha = 0.1, color= 'green')\n",
    "plt.title('Scatter Plot of X and Y')"
   ]
  },
  {
   "cell_type": "markdown",
   "id": "70200882",
   "metadata": {},
   "source": [
    "Here, we can see that there *is* a relationship between x and y. Large positive values of y seem to occur at large absolute values of x, giving the data a bowl or parabolic shape overall. Moreover, while most x values seem to cluster between -2 and +2, the y values seem to tend towards small positive values and cut off rather sharply at 0."
   ]
  },
  {
   "cell_type": "markdown",
   "id": "33449d96",
   "metadata": {},
   "source": [
    "It would be nice if we could show all the plots above on the same figure, so we could appreciate the both the distributions of x and y (without regard to the other) and the x,y relationship at once."
   ]
  },
  {
   "cell_type": "markdown",
   "id": "37242dcf",
   "metadata": {},
   "source": [
    "## a multi-panel figure with `subplot()`"
   ]
  },
  {
   "cell_type": "markdown",
   "id": "ffd268ac",
   "metadata": {},
   "source": [
    "The first tool we can use to make a multi-panel figure is `subplot()`. In it's basic use, `plt.subplot(nrows, ncols, index)` creates an `nrows`-by-`ncols` matrix of subplot locations in the current figure, and makes an `axes` at the location specified by `index`. The locations are numbered left-to-right, top-to-bottom. If a figure doesn't exist, a new one is created."
   ]
  },
  {
   "cell_type": "markdown",
   "id": "d90bcb36",
   "metadata": {},
   "source": [
    "Let's run this:"
   ]
  },
  {
   "cell_type": "code",
   "execution_count": 11,
   "id": "ecc0d8e8",
   "metadata": {
    "scrolled": false
   },
   "outputs": [
    {
     "data": {
      "text/plain": [
       "<AxesSubplot:>"
      ]
     },
     "execution_count": 11,
     "metadata": {},
     "output_type": "execute_result"
    },
    {
     "data": {
      "image/png": "[encoded data removed]",
      "text/plain": [
       "<Figure size 432x288 with 1 Axes>"
      ]
     },
     "metadata": {
      "needs_background": "light"
     },
     "output_type": "display_data"
    }
   ],
   "source": [
    "plt.subplot(2,2,1)"
   ]
  },
  {
   "cell_type": "markdown",
   "id": "510470e8",
   "metadata": {},
   "source": [
    "That made a new figure with 2x2 grid of potential plot locations, created an `axes` at location 1 (top left) and made it \"live\", meaning that any plotting would go in that `axes`. \n",
    "\n",
    "Because there are no other `axes` objects in the figure, Jupyter isn't showing us the whole figure."
   ]
  },
  {
   "cell_type": "markdown",
   "id": "06d0a9db",
   "metadata": {},
   "source": [
    "Note: Throughout, when we mean \"axes\" or \"axis\" in the generic sense, the words will be in plain text. When we mean them in the `matplotlib` sense, they will be typeset as code: `axes`, `axis`."
   ]
  },
  {
   "cell_type": "markdown",
   "id": "c7442a43",
   "metadata": {},
   "source": [
    "Let's try this:"
   ]
  },
  {
   "cell_type": "code",
   "execution_count": 12,
   "id": "9bea8ffe",
   "metadata": {
    "scrolled": false
   },
   "outputs": [
    {
     "data": {
      "image/png": "[encoded data removed]",
      "text/plain": [
       "<Figure size 432x288 with 2 Axes>"
      ]
     },
     "metadata": {
      "needs_background": "light"
     },
     "output_type": "display_data"
    }
   ],
   "source": [
    "plt.subplot(2,2,1)       # makes a figure with a 2x2 grid of potential locations, \n",
    "                         # makes an axex at location 1, and sets it to \"live\"\n",
    "\n",
    "plt.title('I am plot 1')\n",
    "plt.hist(x);\n",
    "\n",
    "plt.subplot(2,2,4)      # makes an axes at location 4 and sets it to \"live\"\n",
    "plt.title('I am plot 4')\n",
    "plt.hist(y);"
   ]
  },
  {
   "cell_type": "markdown",
   "id": "afc2cc31",
   "metadata": {},
   "source": [
    "You can jump around the plots if you wish:"
   ]
  },
  {
   "cell_type": "code",
   "execution_count": 13,
   "id": "c82f0a0d",
   "metadata": {
    "scrolled": false
   },
   "outputs": [
    {
     "data": {
      "text/plain": [
       "Text(0.0, 1000, 'Back to plot 1!')"
      ]
     },
     "execution_count": 13,
     "metadata": {},
     "output_type": "execute_result"
    },
    {
     "data": {
      "image/png": "[encoded data removed]",
      "text/plain": [
       "<Figure size 432x288 with 2 Axes>"
      ]
     },
     "metadata": {
      "needs_background": "light"
     },
     "output_type": "display_data"
    }
   ],
   "source": [
    "plt.subplot(2,2,1)\n",
    "plt.title('I am plot 1')\n",
    "plt.hist(x);\n",
    "\n",
    "plt.subplot(2,2,4)\n",
    "plt.title('I am plot 4')\n",
    "plt.hist(y);\n",
    "\n",
    "plt.subplot(2,2,1)\n",
    "plt.text(0.0, 1000, 'Back to plot 1!')\n"
   ]
  },
  {
   "cell_type": "markdown",
   "id": "6230a7e9",
   "metadata": {},
   "source": [
    "Personally, we think it's more clear to make one plot live, do everything your going to do to that plot, and then move on to the next plot. However, some people might prefer to, say, go through the figures once to do all the plotting, and then cycle through them again to do the annotating, etc. You do you."
   ]
  },
  {
   "cell_type": "markdown",
   "id": "9606b246",
   "metadata": {},
   "source": [
    "### first try"
   ]
  },
  {
   "cell_type": "markdown",
   "id": "44e0e010",
   "metadata": {},
   "source": [
    "Let's put all three of our graphs in one figure:"
   ]
  },
  {
   "cell_type": "code",
   "execution_count": 14,
   "id": "c7ce21f4",
   "metadata": {},
   "outputs": [
    {
     "data": {
      "image/png": "[encoded data removed]",
      "text/plain": [
       "<Figure size 432x288 with 3 Axes>"
      ]
     },
     "metadata": {
      "needs_background": "light"
     },
     "output_type": "display_data"
    }
   ],
   "source": [
    "plt.subplot(2,2,1)\n",
    "plt.hist(y);\n",
    "\n",
    "plt.subplot(2,2,4)\n",
    "plt.hist(x);\n",
    "\n",
    "plt.subplot(2,2,2)\n",
    "plt.scatter(x,y);"
   ]
  },
  {
   "cell_type": "markdown",
   "id": "6726ffda",
   "metadata": {},
   "source": [
    "Not bad. The visual comparison of the x distribution with the scatter plot is nice, because the horizontal axis of each plot lines up with the other. That's not true for out y values however. Let's fix that."
   ]
  },
  {
   "cell_type": "markdown",
   "id": "92128094",
   "metadata": {},
   "source": [
    "### adjust orientation of a subplot"
   ]
  },
  {
   "cell_type": "markdown",
   "id": "ac5bb826",
   "metadata": {},
   "source": [
    "The big problem we have with our figure is that our y variable values run up and down in the scatter plot (which is how we want them), but left and right on our histogram. \n",
    "\n",
    "In the code cell below, recycle the code from above, but try setting an `orientation` argument to `'horizontal'` in the call to make the y histogram."
   ]
  },
  {
   "cell_type": "code",
   "execution_count": 15,
   "id": "97de272c",
   "metadata": {},
   "outputs": [
    {
     "data": {
      "image/png": "[encoded data removed]",
      "text/plain": [
       "<Figure size 432x288 with 3 Axes>"
      ]
     },
     "metadata": {
      "needs_background": "light"
     },
     "output_type": "display_data"
    }
   ],
   "source": [
    "# put the y histogram on its side\n",
    "plt.subplot(2,2,1)\n",
    "plt.hist(y, orientation='horizontal');\n",
    "\n",
    "plt.subplot(2,2,4)\n",
    "plt.hist(x);\n",
    "\n",
    "plt.subplot(2,2,2)\n",
    "plt.scatter(x,y);"
   ]
  },
  {
   "cell_type": "markdown",
   "id": "6e70d790",
   "metadata": {},
   "source": [
    "### turning ticks off"
   ]
  },
  {
   "cell_type": "markdown",
   "id": "2eac6b8e",
   "metadata": {},
   "source": [
    "A good general rule for graphics is that the cleaner, the better. Notice that in the above plots, the x axis is shared by the right two plots, and the y axis is shared by the top two plots. So we can remove some redundancy and visual clutter by turning some ticks off.\n",
    "\n",
    "There is a `yticks()` and an `xticks()` method in `matplotlib.pyplot` (which we have imported as `plt`) that allows us to specify tick marks. If we give it an empty list, there will be no ticks!"
   ]
  },
  {
   "cell_type": "code",
   "execution_count": 16,
   "id": "24f5e18c",
   "metadata": {
    "scrolled": false
   },
   "outputs": [
    {
     "data": {
      "image/png": "[encoded data removed]",
      "text/plain": [
       "<Figure size 432x288 with 3 Axes>"
      ]
     },
     "metadata": {
      "needs_background": "light"
     },
     "output_type": "display_data"
    }
   ],
   "source": [
    "plt.subplot(2,2,1)\n",
    "plt.hist(y, orientation = 'horizontal');  # make the histogram bars horizontal\n",
    "plt.yticks([])                            # eliminate the y ticks\n",
    "\n",
    "plt.subplot(2,2,4)\n",
    "plt.hist(x);\n",
    "\n",
    "plt.subplot(2,2,2)\n",
    "plt.scatter(x,y);"
   ]
  },
  {
   "cell_type": "markdown",
   "id": "a30d051e",
   "metadata": {},
   "source": [
    "After running the code above, modify it to remove the x ticks from the histogram of x values and re-run it."
   ]
  },
  {
   "cell_type": "markdown",
   "id": "b7478107",
   "metadata": {},
   "source": [
    "### inverting an axis"
   ]
  },
  {
   "cell_type": "markdown",
   "id": "b7e49c65",
   "metadata": {},
   "source": [
    "Visually, it is nice to have the corresponding axes next to one another on the figure. In the plot above, we can do this for the y value histogram by flipping the axis of counts so that zero is to the right and higher counts go to the left.\n",
    "\n",
    "While `plt` can do certain things to the current `axes` (like plot in it), or even to an `axis` in its `axes` (like turn off the ticks), some things need to be done by the `axes` itself, like inverting an `axis`.\n",
    "\n",
    "So, in order to flip some `axis`, we are going to assign our own names to the `axes` objects, and then call on them to accomplish our goal."
   ]
  },
  {
   "cell_type": "code",
   "execution_count": 17,
   "id": "1ce7c797",
   "metadata": {},
   "outputs": [
    {
     "data": {
      "image/png": "[encoded data removed]",
      "text/plain": [
       "<Figure size 432x288 with 3 Axes>"
      ]
     },
     "metadata": {
      "needs_background": "light"
     },
     "output_type": "display_data"
    }
   ],
   "source": [
    "yhist_ax = plt.subplot(2,2,1)             # name our y histogram axes object 'yhist_ax'\n",
    "plt.hist(y, orientation = 'horizontal');\n",
    "plt.yticks([])\n",
    "yhist_ax.invert_xaxis()                   # have the axes invert its x axis\n",
    "plt.text(3000, 20, 'I\\'m inverted!')\n",
    "\n",
    "plt.subplot(2,2,4)\n",
    "plt.hist(x);\n",
    "plt.xticks([])\n",
    "\n",
    "plt.subplot(2,2,2)\n",
    "plt.scatter(x,y);"
   ]
  },
  {
   "cell_type": "markdown",
   "id": "f7b5ae37",
   "metadata": {},
   "source": [
    "Modify the above code to flip the y axis of our x values histogram too!"
   ]
  },
  {
   "cell_type": "markdown",
   "id": "76a4f642",
   "metadata": {},
   "source": [
    "Remember that `matplotlib` is a hierarchy of `artists`. Though not strictly an `artist`, `plt` sits at the top. \n",
    "\n",
    "    * `plt` - the creator and evil overlord that can do many things, but not all things\n",
    "    * `figure` - contains the `axes` objects\n",
    "    * `axes` - contains the plots and `axis` objects\n",
    "    * `axis` - has ticks, upper and lower limits, etc.\n",
    "    \n",
    "So if you want to do something \n",
    "\n",
    "    1. see if maybe `plt` can do it\n",
    "    2. look for methods at the right level. \n",
    "    \n",
    "For example, if you wanted to change the background of the whole figure, you would look at the figure level, whereas if you wanted to change the background color of a specific plot, you would look at the `axes` level.\n",
    "\n",
    "For reference, [here](https://matplotlib.org/stable/api/pyplot_summary.html) is a list of `plt` methods.   "
   ]
  },
  {
   "cell_type": "markdown",
   "id": "4a6f642e",
   "metadata": {},
   "source": [
    "Let's change the background color of our figure to make the `axes` stand out more. To do this, instead of letting the first call to `plt.subplot()` make the figure for us, we'll make it ourselves and give it a name so we can call its methods."
   ]
  },
  {
   "cell_type": "markdown",
   "id": "b2b8030d",
   "metadata": {},
   "source": [
    "If `plt.subplot()` makes a subplot and `plt.text()` makes some text, what do you think makes a figure?"
   ]
  },
  {
   "cell_type": "code",
   "execution_count": 18,
   "id": "a23ed3a9",
   "metadata": {},
   "outputs": [
    {
     "data": {
      "image/png": "[encoded data removed]",
      "text/plain": [
       "<Figure size 432x288 with 3 Axes>"
      ]
     },
     "metadata": {},
     "output_type": "display_data"
    }
   ],
   "source": [
    "fig = plt.figure()                        # make the figure and name it fig\n",
    "fig.set_facecolor('gray')                 # set the face color to gray\n",
    "\n",
    "# y subplot\n",
    "yhist_ax = plt.subplot(2,2,1)             # name our y histogram axes object\n",
    "plt.hist(y, orientation = 'horizontal');\n",
    "plt.yticks([])\n",
    "yhist_ax.invert_xaxis()                   # have the axes invert its x axis\n",
    "\n",
    "# x subplot()\n",
    "plt.subplot(2,2,4)\n",
    "plt.hist(x);\n",
    "plt.xticks([])\n",
    "\n",
    "# scatterplot subplot\n",
    "plt.subplot(2,2,2)\n",
    "plt.scatter(x,y);"
   ]
  },
  {
   "cell_type": "markdown",
   "id": "fa5aa1c7",
   "metadata": {},
   "source": [
    "You can use common color names to set the color of the background, but you can also use three numbers to set the rgb (red, green, and blue) values, and an optional fourth number to set the alpha (transparency). Try it in the code above!"
   ]
  },
  {
   "cell_type": "markdown",
   "id": "9f61735f",
   "metadata": {},
   "source": [
    "Also, you can set the size of your figure when you make the figure. You might need to do this to make room for axis labels or titles."
   ]
  },
  {
   "cell_type": "markdown",
   "id": "b674d030",
   "metadata": {},
   "source": [
    "### making the figure your own."
   ]
  },
  {
   "cell_type": "markdown",
   "id": "72f1b5e8",
   "metadata": {},
   "source": [
    "Now it's time to have some fun. Starting with the above code, make this figure your own. The only requirements are:\n",
    "\n",
    "* put the scatter plot in the upper left, where it is most prominent\n",
    "* have the x and y value axes of the histograms closest to the scatter plot\n",
    "* put x and y axes labels on the scatter plot\n",
    "* tweak the scatter plot color, marker size, and/or alpha to get a nice plot\n",
    "* make the histogram colors match the scatter plot"
   ]
  },
  {
   "cell_type": "code",
   "execution_count": 27,
   "id": "fc4c2066",
   "metadata": {},
   "outputs": [
    {
     "data": {
      "text/plain": [
       "Text(0, 0.5, 'Y Value')"
      ]
     },
     "execution_count": 27,
     "metadata": {},
     "output_type": "execute_result"
    },
    {
     "data": {
      "image/png": "[encoded data removed]",
      "text/plain": [
       "<Figure size 432x288 with 3 Axes>"
      ]
     },
     "metadata": {},
     "output_type": "display_data"
    }
   ],
   "source": [
    "fig = plt.figure()                        # make the figure and name it fig\n",
    "fig.set_facecolor('pink')                 # set the face color to gray\n",
    "\n",
    "# y subplot\n",
    "yhist_ax = plt.subplot(2,2,4)             # name our y histogram axes object\n",
    "plt.hist(y, orientation = 'horizontal', color = 'orange', alpha = 0.3);\n",
    "plt.yticks([])\n",
    "yhist_ax.invert_xaxis()                   # have the axes invert its x axis\n",
    "\n",
    "# x subplot()\n",
    "plt.subplot(2,2,2)\n",
    "plt.hist(x, color = 'orange', alpha = 0.3);\n",
    "plt.xticks([])\n",
    "\n",
    "# scatterplot subplot\n",
    "plt.subplot(2,2,1)\n",
    "plt.scatter(x,y, color = 'orange', s = 30, alpha = 0.3);\n",
    "plt.xlabel('X Value')\n",
    "plt.ylabel('Y Value')"
   ]
  }
 ],
 "metadata": {
  "kernelspec": {
   "display_name": "Python 3 (ipykernel)",
   "language": "python",
   "name": "python3"
  },
  "language_info": {
   "codemirror_mode": {
    "name": "ipython",
    "version": 3
   },
   "file_extension": ".py",
   "mimetype": "text/x-python",
   "name": "python",
   "nbconvert_exporter": "python",
   "pygments_lexer": "ipython3",
   "version": "3.9.12"
  }
 },
 "nbformat": 4,
 "nbformat_minor": 5
}
