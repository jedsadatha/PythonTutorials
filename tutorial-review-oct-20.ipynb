{
 "cells": [
  {
   "cell_type": "markdown",
   "id": "8b1397fb",
   "metadata": {},
   "source": [
    "# FDS Review - October 20th"
   ]
  },
  {
   "cell_type": "markdown",
   "id": "c46f0da5",
   "metadata": {},
   "source": [
    "## Learning goals\n",
    "\n",
    "* to review concepts covered in previous classes\n",
    "    - variable types & containers in python\n",
    "    - loops & logic\n",
    "    - plots with matplotlib\n",
    "* cover a few topics not covered in previous classes but are relevant to topics\n",
    "    - random operator\n",
    "    - sort\n",
    "* a few examples tying everything together\n",
    "    - coding the fibonacci sequence"
   ]
  },
  {
   "cell_type": "markdown",
   "id": "3355524e",
   "metadata": {},
   "source": [
    "## Review: Variable types & containers in python\n",
    "\n",
    "There's many different datatypes in Python, all designed for specific use cases.\n",
    "\n",
    "For example, here's a few of the most common and useful datatypes and their intended purpose:\n",
    "\n",
    "1. **integer (int)**: Integers (int) are used to describe variables with *whole* values, variables not requiring to store decimals. \n",
    "2. **float (float)**: Floats (float) are used to store variables and values that do need decimals to represent them. \n",
    "3. **string (str)**: Strings (str) are used when you need to store text.\n",
    "\n",
    "We can use these datatypes to do many important things, such as storing numerical text values!"
   ]
  },
  {
   "cell_type": "markdown",
   "id": "b02e2819-e0e6-4109-8a0c-eb98fae869d7",
   "metadata": {},
   "source": [
    "You can easily check which type your variable is by using the **type()** function!"
   ]
  },
  {
   "cell_type": "code",
   "execution_count": 1,
   "id": "a016aa65-dfe8-4840-b5f5-bbe5afbc3699",
   "metadata": {},
   "outputs": [
    {
     "data": {
      "text/plain": [
       "(int, float, str)"
      ]
     },
     "execution_count": 1,
     "metadata": {},
     "output_type": "execute_result"
    }
   ],
   "source": [
    "a = 16\n",
    "b = 270.05\n",
    "c = '16'\n",
    "\n",
    "type(a), type(b), type(c)"
   ]
  },
  {
   "cell_type": "markdown",
   "id": "99f783c9-e25a-47b8-b41b-720fee411f39",
   "metadata": {},
   "source": [
    "You can also change variables to different types using the appropriate type function!"
   ]
  },
  {
   "cell_type": "code",
   "execution_count": 2,
   "id": "52ba907b-0a1e-474f-bc5d-f29308f60b06",
   "metadata": {},
   "outputs": [
    {
     "data": {
      "text/plain": [
       "'16'"
      ]
     },
     "execution_count": 2,
     "metadata": {},
     "output_type": "execute_result"
    }
   ],
   "source": [
    "d = str(a)\n",
    "d"
   ]
  },
  {
   "cell_type": "markdown",
   "id": "e90e8c49-54d5-49d2-907a-91c8b640a3d4",
   "metadata": {},
   "source": [
    "Finally, you can use specific mathematical operators to perform arthimetic operations on int and float datatypes!"
   ]
  },
  {
   "cell_type": "code",
   "execution_count": 3,
   "id": "f41c75a6-004f-4b99-9c13-650ed87815a4",
   "metadata": {
    "scrolled": true
   },
   "outputs": [
    {
     "data": {
      "text/plain": [
       "17.878125"
      ]
     },
     "execution_count": 3,
     "metadata": {},
     "output_type": "execute_result"
    }
   ],
   "source": [
    "e = (a + b) / a\n",
    "e"
   ]
  },
  {
   "cell_type": "markdown",
   "id": "ce2ec15c-d3fc-416b-94e7-502b6cc75e2b",
   "metadata": {},
   "source": [
    "$\\color{blue}{\\text{Complete the following exercise.}}$\n",
    "\n",
    "  - Can you print the following sentence using variables a and b from above?\n",
    "  [Use the cell below to print the following sentence: 'The sum of 16 and 270.05 is 286.05']"
   ]
  },
  {
   "cell_type": "code",
   "execution_count": 4,
   "id": "d14b347c-f5e8-4c9e-af15-3ebf13cbc4d6",
   "metadata": {
    "scrolled": true
   },
   "outputs": [
    {
     "name": "stdout",
     "output_type": "stream",
     "text": [
      "The sume of 16 and 270.05 is 286.05\n"
     ]
    }
   ],
   "source": [
    "print(\"The sume of\", a, 'and', b, 'is', a+b)"
   ]
  },
  {
   "cell_type": "markdown",
   "id": "bfd645c8-e6b5-4cb2-b374-2414849c6614",
   "metadata": {},
   "source": [
    "## Review: Variable types & containers in python\n",
    "\n",
    "Once you master datatypes, you can then combine multiple instances of datatypes into data **containers** in python that store multiple values.\n",
    "\n",
    "For example, here's a few of the most common and useful datatypes and their intended purpose:\n",
    "\n",
    "1. **list (list)**: Lists are containers of indexed, ordered and mutable data. They are variables used to contain multiple elements.\n",
    "2. **set (set)**: A set is defined as an unordered, unidexed and immutable collection of items.\n",
    "3. **tuple (tuple)**: Tuples are ordered collections of data. They are similar to lists but immuatable. Whereas you can add new elements to a previously defined lists you cannot do that with Tuples.\n",
    "4. **dictionary (dict)**: A dictionary is an ordered, changeable, collection of items but do not allow duplicates. Dictionaries are defined by pairs of variables where one of the two variables in the pair is generally thought of as a label, the other one as a value.\n",
    "\n",
    "We use containers to store many values in a single variable!"
   ]
  },
  {
   "cell_type": "markdown",
   "id": "3990cabb-2ecf-4b22-b131-60e5a798e9d3",
   "metadata": {},
   "source": [
    "$\\color{blue}{\\text{Complete the following exercise.}}$\n",
    "\n",
    "  - Can you create a list named 'apples' using the following values: 'fuji','gala','granny smith','honeycrisp'?\n",
    "  [Use the cell below to create a list of different types of apples']"
   ]
  },
  {
   "cell_type": "code",
   "execution_count": 5,
   "id": "052c11f1-8789-4b35-bae0-cfef6f697b3e",
   "metadata": {},
   "outputs": [
    {
     "data": {
      "text/plain": [
       "['fuji', 'gala', 'granny smith', 'honeycrisp']"
      ]
     },
     "execution_count": 5,
     "metadata": {},
     "output_type": "execute_result"
    }
   ],
   "source": [
    "apples = ['fuji','gala','granny smith','honeycrisp']\n",
    "apples"
   ]
  },
  {
   "cell_type": "markdown",
   "id": "8acc5db8-6929-4c79-818f-42cd135ce21c",
   "metadata": {},
   "source": [
    "Containers are useful because we can perform arithmetic operations on all the entries inside a container all at once!\n",
    "\n",
    "For example, say we went bowling and wanted to keep track of our performance. Our scores for 5 games were: 97, 105, 84, 150, and 99.\n",
    "\n",
    "Let's compute our average across 5 games!"
   ]
  },
  {
   "cell_type": "code",
   "execution_count": 6,
   "id": "bf2901e8-55eb-40b2-b0ec-b6ec0a1f9a74",
   "metadata": {},
   "outputs": [
    {
     "data": {
      "text/plain": [
       "107.0"
      ]
     },
     "execution_count": 6,
     "metadata": {},
     "output_type": "execute_result"
    }
   ],
   "source": [
    "bowling_scores = [97, 105, 84, 150, 99]\n",
    "bowling_average = sum(bowling_scores) / len(bowling_scores)\n",
    "bowling_average"
   ]
  },
  {
   "cell_type": "markdown",
   "id": "451dba85-f53f-46c7-874b-466649dd216e",
   "metadata": {},
   "source": [
    "Our average across 5 games was 107! Not too bad!"
   ]
  },
  {
   "cell_type": "markdown",
   "id": "03f0acde-d0e6-477e-b91d-e88030c7f00b",
   "metadata": {},
   "source": [
    "$\\color{blue}{\\text{Complete the following exercise.}}$\n",
    "\n",
    "  - Can you find our average using numpy?\n",
    "  [Use the cell below to find our average bowling score using numpy']"
   ]
  },
  {
   "cell_type": "code",
   "execution_count": 7,
   "id": "244f7fa3-32d2-442b-8dbd-571af2fd928d",
   "metadata": {},
   "outputs": [],
   "source": [
    "import numpy as np"
   ]
  },
  {
   "cell_type": "code",
   "execution_count": 8,
   "id": "2a4e9bf8",
   "metadata": {},
   "outputs": [
    {
     "data": {
      "text/plain": [
       "107.0"
      ]
     },
     "execution_count": 8,
     "metadata": {},
     "output_type": "execute_result"
    }
   ],
   "source": [
    "np.mean(bowling_scores)"
   ]
  },
  {
   "cell_type": "markdown",
   "id": "3924b5be-fddd-443a-bea5-23a188a0b2cf",
   "metadata": {},
   "source": [
    "## Review: Loops & logic\n",
    "\n",
    "Once you master containers, you can start leveraging python's **Control flow** to do some more detailed information processing. **Control flow** comprises of the set of commands available in a programming language to control the flow of information processing, just like the instructions above control your navigation.\n",
    "\n",
    "For our purposes, the two most important features of python's control flow are `for` and `while` loops. The `for` loop runs a calculation for a predetermined number of times, and a `while` loop runs a calculation until a criterion is met.\n",
    "\n",
    "These are two of the most powerful and important functions availble to us in python for data analysis!\n",
    "\n",
    "With loops, we can also perform logical operations, such as `greater than (>)`, `less than (<)`, or `equal to (==)` between each element of two variables."
   ]
  },
  {
   "cell_type": "markdown",
   "id": "e4eb98c7-637c-4f3c-a31f-822d3a5685dc",
   "metadata": {},
   "source": [
    "For example, say we want to compare the performance between three different players (A, B, and C) across 10 rounds of Geoguesser, a game in which you have to guess what part of the world you're in just from Google Street images. The goal of the game is to get the closest to the actual location (i.e. have the least amount of miles between your guess and the actual location). The performance of each player is stored below in a list."
   ]
  },
  {
   "cell_type": "code",
   "execution_count": 9,
   "id": "4fb9e2c9-bc41-4fa4-ab33-d66f112e56c0",
   "metadata": {},
   "outputs": [],
   "source": [
    "player_A = [644,73,829,584,359,459,8,875,697,854]\n",
    "player_B = [175,51,28,1029,1502,12,85,100,4820,20]\n",
    "player_C = [654,856,783,75,171,361,779,397,192,90]"
   ]
  },
  {
   "cell_type": "markdown",
   "id": "15bbe318-2905-4a0c-99d2-f165a603e670",
   "metadata": {},
   "source": [
    "We can build a for loop that goes through each match and identifies which player won each round, and we can see who is the best GeoGuesser!"
   ]
  },
  {
   "cell_type": "code",
   "execution_count": 10,
   "id": "744249a5-a7af-44fb-8912-b7a51fa2c5b6",
   "metadata": {},
   "outputs": [
    {
     "data": {
      "text/plain": [
       "['B', 'B', 'B', 'C', 'C', 'B', 'A', 'B', 'C', 'B']"
      ]
     },
     "execution_count": 10,
     "metadata": {},
     "output_type": "execute_result"
    }
   ],
   "source": [
    "winners = []\n",
    "for i in range(len(player_A)):\n",
    "    if player_A[i] < player_B[i] and player_A[i] <  player_C[i]:\n",
    "        winners = winners + ['A']\n",
    "    elif player_B[i] < player_A[i] and player_B[i] <  player_C[i]:\n",
    "        winners = winners + ['B']\n",
    "    elif player_C[i] < player_A[i] and player_C[i] <  player_B[i]:\n",
    "        winners = winners + ['C']\n",
    "        \n",
    "winners"
   ]
  },
  {
   "cell_type": "markdown",
   "id": "37d811c3-4b86-4a8e-84d9-f107c1dce4f1",
   "metadata": {},
   "source": [
    "Now let's identify who was the ultimate winner!"
   ]
  },
  {
   "cell_type": "code",
   "execution_count": 11,
   "id": "aa4056b0-2cc3-4575-a231-854131c0edd7",
   "metadata": {
    "scrolled": true
   },
   "outputs": [
    {
     "name": "stdout",
     "output_type": "stream",
     "text": [
      "The winner is player B with 6 wins!\n"
     ]
    }
   ],
   "source": [
    "if winners.count('A') > winners.count('B') and winners.count('A') > winners.count('C'):\n",
    "    print('The winner is player A with %s wins!' %str(winners.count('A')))\n",
    "elif winners.count('B') > winners.count('C'):\n",
    "    print('The winner is player B with %s wins!' %str(winners.count('B')))\n",
    "else:\n",
    "    print('The winner is player C with %s wins!' %str(winners.count('C')))"
   ]
  },
  {
   "cell_type": "markdown",
   "id": "6d06ac07-6dd9-456f-a0b8-0525664474d6",
   "metadata": {},
   "source": [
    "$\\color{blue}{\\text{Complete the following exercise.}}$\n",
    "\n",
    "  - Say you started playing some GeoGuesser and wanted to test your performance to the other players. Your scores were: 290, 41, 53, 10, 22, 718, 85, 9, 91, 6. Are you the GeoGuesser champion?\n",
    "  [Use the cell below to build a list of your scores, and loop through all 10 matches to identify the winner']"
   ]
  },
  {
   "cell_type": "code",
   "execution_count": 12,
   "id": "2eda6689-892d-414e-921b-45129a946009",
   "metadata": {},
   "outputs": [
    {
     "data": {
      "text/plain": [
       "['B',\n",
       " 'My score',\n",
       " 'B',\n",
       " 'My score',\n",
       " 'My score',\n",
       " 'B',\n",
       " 'A',\n",
       " 'My score',\n",
       " 'My score',\n",
       " 'My score']"
      ]
     },
     "execution_count": 12,
     "metadata": {},
     "output_type": "execute_result"
    }
   ],
   "source": [
    "myscores = [290, 41, 53, 10, 22, 718, 85, 9, 91, 6]\n",
    "\n",
    "winners = []\n",
    "for i in range(len(player_A)):\n",
    "    if player_A[i] < player_B[i] and player_A[i] <  player_C[i] and player_A[i] < myscores[i]:\n",
    "        winners = winners + ['A']\n",
    "    elif player_B[i] < player_A[i] and player_B[i] <  player_C[i] and player_B[i] < myscores[i]:\n",
    "        winners = winners + ['B']\n",
    "    elif player_C[i] < player_A[i] and player_C[i] <  player_B[i] and player_C[i] < myscores[i]:\n",
    "        winners = winners + ['C']    \n",
    "    elif myscores[i] < player_A[i] and myscores[i] < player_B[i] and myscores[i] < player_C[i]:\n",
    "        winners = winners + ['My score']\n",
    "winners"
   ]
  },
  {
   "cell_type": "code",
   "execution_count": 13,
   "id": "3ac3cfbf",
   "metadata": {},
   "outputs": [
    {
     "name": "stdout",
     "output_type": "stream",
     "text": [
      "The winner is me with 6 wins!\n"
     ]
    }
   ],
   "source": [
    "if winners.count('A') > winners.count('B') and winners.count('A') > winners.count('C') and winners.count('A') > winners.count('My score'):\n",
    "    print('The winner is player A with %s wins!' %str(winners.count('A')))\n",
    "elif winners.count('B') > winners.count('C') and winners.count('B') > winners.count('My score'):\n",
    "    print('The winner is player B with %s wins!' %str(winners.count('B')))\n",
    "elif winners.count('C') > winners.count('B') and winners.count('C') > winners.count('My score'):\n",
    "    print('The winner is player C with %s wins!' %str(winners.count('C')))\n",
    "else:\n",
    "    print('The winner is me with %s wins!' %str(winners.count('My score')))"
   ]
  },
  {
   "cell_type": "markdown",
   "id": "3effa04c-b55a-4537-8fe0-688758f8ec84",
   "metadata": {},
   "source": [
    "## New topics not covered: Generating random values\n",
    "\n",
    "So far, y'all have covered a lot of great python! However, there's a whole ocean of python functionality that can be helpful for your data analysis needs! I just wanted to cover a few quick ones that might come up routinely!\n",
    "\n",
    "Sometimes, in data analysis, you'll need to build distributions of `random numbers`. Instead of trying to come up with random values off the top of your head, you can use the power of python to generate your random distributions for you!\n",
    "\n",
    "There's multiple ways to do this, but since you've already gone over numpy, I figured we could use the `numpy.random` function! Here is the help documentation for the random function in numpy: https://numpy.org/doc/1.16/reference/routines.random.html.\n",
    "\n",
    "For the scope of this course, it will helpful to go over is `np.random.random_sample`. This wonderful function allows us to build random arrays of any shape we need!"
   ]
  },
  {
   "cell_type": "markdown",
   "id": "317fb618-5124-4cc1-81ae-c46eaa6c8aaa",
   "metadata": {},
   "source": [
    "For example, say we wanted to build two random distributions of 100 values. We can use np.random.random_sample and the `size=` argument to set our desired array shape!"
   ]
  },
  {
   "cell_type": "code",
   "execution_count": 14,
   "id": "98d2ce04-d5f3-41c3-8111-8835486e6518",
   "metadata": {},
   "outputs": [
    {
     "data": {
      "text/plain": [
       "array([[0.75769595, 0.95726839, 0.85621207, 0.90511163, 0.32056933,\n",
       "        0.29891542, 0.87405871, 0.69552097, 0.53196826, 0.14525238,\n",
       "        0.48998916, 0.33355067, 0.13740432, 0.66082301, 0.2879873 ,\n",
       "        0.9833493 , 0.66712378, 0.91702713, 0.28418262, 0.56312427,\n",
       "        0.69370486, 0.57744106, 0.80123539, 0.66457978, 0.99001617,\n",
       "        0.34602563, 0.36464472, 0.40547409, 0.27740169, 0.790804  ,\n",
       "        0.15185811, 0.25244024, 0.04868434, 0.01957771, 0.09495522,\n",
       "        0.70980943, 0.42236453, 0.95497397, 0.95549978, 0.049419  ,\n",
       "        0.3834355 , 0.05786324, 0.40766   , 0.26255147, 0.52801126,\n",
       "        0.34001935, 0.14219119, 0.46237954, 0.18613276, 0.28004003,\n",
       "        0.61084507, 0.86265283, 0.87617817, 0.40417149, 0.01154272,\n",
       "        0.56764818, 0.40724793, 0.27108296, 0.12929159, 0.30104297,\n",
       "        0.54551185, 0.80777239, 0.76741714, 0.94670796, 0.97625124,\n",
       "        0.92807215, 0.86239801, 0.40809449, 0.03829443, 0.98332044,\n",
       "        0.81105394, 0.5382771 , 0.48341445, 0.5599413 , 0.8488912 ,\n",
       "        0.10521208, 0.39994033, 0.9700069 , 0.35402417, 0.19896679,\n",
       "        0.22941975, 0.71879187, 0.816425  , 0.9911296 , 0.09878376,\n",
       "        0.06759948, 0.60554423, 0.87293532, 0.30366961, 0.71929238,\n",
       "        0.14668255, 0.20712194, 0.49483074, 0.68221679, 0.37035059,\n",
       "        0.6347519 , 0.97521195, 0.85117202, 0.83915929, 0.37096968],\n",
       "       [0.571321  , 0.77873729, 0.83171215, 0.41886155, 0.97683001,\n",
       "        0.04018858, 0.75253641, 0.65782562, 0.92330486, 0.42233721,\n",
       "        0.12123872, 0.91203995, 0.77306511, 0.49501119, 0.03582091,\n",
       "        0.96345868, 0.36299965, 0.07558173, 0.93645464, 0.68541486,\n",
       "        0.23917718, 0.13615063, 0.20553467, 0.80762003, 0.70721477,\n",
       "        0.2463474 , 0.85259491, 0.68433508, 0.54871597, 0.18298688,\n",
       "        0.07766287, 0.5963122 , 0.00789736, 0.43858397, 0.33731088,\n",
       "        0.63720576, 0.11262906, 0.65809985, 0.21941928, 0.02567952,\n",
       "        0.09975754, 0.34150779, 0.22323757, 0.28087534, 0.85972243,\n",
       "        0.38410725, 0.26526111, 0.74427036, 0.87799074, 0.80145131,\n",
       "        0.2862728 , 0.65890461, 0.1632669 , 0.85552449, 0.49356514,\n",
       "        0.29989492, 0.39352474, 0.14174784, 0.29791168, 0.32193433,\n",
       "        0.76519137, 0.64072872, 0.04482554, 0.93500673, 0.36395242,\n",
       "        0.30255893, 0.35442172, 0.89644916, 0.30279333, 0.79682085,\n",
       "        0.97374191, 0.98429249, 0.04863304, 0.2967599 , 0.55273962,\n",
       "        0.3957806 , 0.70898971, 0.9566243 , 0.7893277 , 0.60191418,\n",
       "        0.12436281, 0.18220098, 0.2796118 , 0.03211564, 0.09339279,\n",
       "        0.54658163, 0.08603243, 0.31603642, 0.33211496, 0.74977314,\n",
       "        0.43462511, 0.64641779, 0.1054117 , 0.29666358, 0.50400591,\n",
       "        0.26274839, 0.49697075, 0.83555256, 0.65716043, 0.29080663]])"
      ]
     },
     "execution_count": 14,
     "metadata": {},
     "output_type": "execute_result"
    }
   ],
   "source": [
    "random_distributions = np.random.random_sample(size=(2,100))\n",
    "random_distributions"
   ]
  },
  {
   "cell_type": "markdown",
   "id": "664a4583-85ff-42ce-bd11-f10b42aa5d5e",
   "metadata": {},
   "source": [
    "Great! Now, let's shift one of the distributions by 1"
   ]
  },
  {
   "cell_type": "code",
   "execution_count": 15,
   "id": "ca005427-65a6-4594-8756-a94f1170541c",
   "metadata": {},
   "outputs": [],
   "source": [
    "random_distributions[0] = random_distributions[0]+ 0.5"
   ]
  },
  {
   "cell_type": "markdown",
   "id": "38bcfaa9-bdba-4136-9e12-073dffb15ef8",
   "metadata": {},
   "source": [
    "Finally, let's visualize the two distributions on top of each other using matplotlib.pyplot.hist!"
   ]
  },
  {
   "cell_type": "code",
   "execution_count": 16,
   "id": "3ba60359-adcb-489d-b842-3372702cf2f2",
   "metadata": {},
   "outputs": [
    {
     "data": {
      "image/png": "[encoded data removed]",
      "text/plain": [
       "<Figure size 360x360 with 1 Axes>"
      ]
     },
     "metadata": {
      "needs_background": "light"
     },
     "output_type": "display_data"
    }
   ],
   "source": [
    "import matplotlib.pyplot as plt\n",
    "fig = plt.figure(figsize=(5,5))\n",
    "axes = plt.gca() # this grabs the axis data\n",
    "\n",
    "# We can set the number of bins with the *bins* keyword argument.\n",
    "axes.hist(random_distributions[0], bins=8, color='b',alpha=.5)\n",
    "axes.hist(random_distributions[1], bins=8, color='r',alpha=.5)\n",
    "\n",
    "# set titles and labels\n",
    "plt.xlabel('Value', fontsize = 18);\n",
    "plt.ylabel('Count', fontsize = 18);\n",
    "plt.title('Two Randomized Distributions', fontsize = 20,);"
   ]
  },
  {
   "cell_type": "markdown",
   "id": "540498f6-952c-4925-bb3a-b9687ab508f5",
   "metadata": {},
   "source": [
    "$\\color{blue}{\\text{Complete the following exercise.}}$\n",
    "\n",
    "  - Say you want to compare your test scores across 10 exams to a randomized distribution. Your test scores were .85, .90, .75, .82, .88, .90, .95, .99, .90, .92. Can you build a histogram comparing your scores to the randomized distribtion?\n",
    "  [Use the cell below to build a list of your scores, create a randomized distribution of 10 values, and generate a histogram figure of the two distributions in different colors']"
   ]
  },
  {
   "cell_type": "code",
   "execution_count": 17,
   "id": "a5a4fd4e-5df2-4972-8cb2-ad855064bd45",
   "metadata": {},
   "outputs": [
    {
     "data": {
      "image/png": "[encoded data removed]",
      "text/plain": [
       "<Figure size 360x360 with 1 Axes>"
      ]
     },
     "metadata": {
      "needs_background": "light"
     },
     "output_type": "display_data"
    }
   ],
   "source": [
    "test_score = [.85, .90, .75, .82, .88, .90, .95, .99, .90, .92]\n",
    "\n",
    "fig = plt.figure(figsize=(5,5))\n",
    "axes = plt.gca()\n",
    "\n",
    "axes.hist(random_distributions[0], bins=8, color='b',alpha=.5)\n",
    "axes.hist(random_distributions[1], bins=8, color='r',alpha=.5)\n",
    "axes.hist(test_score, bins=8, color='g',alpha=.5)\n",
    "\n",
    "plt.xlabel('Value', fontsize = 18);\n",
    "plt.ylabel('Count', fontsize = 18);\n",
    "plt.title('Three Randomized Distributions', fontsize = 20,);"
   ]
  },
  {
   "cell_type": "markdown",
   "id": "f81fd31e-f083-4ad1-9b38-9bbef576454d",
   "metadata": {},
   "source": [
    "## New topics not covered: Sorting values\n",
    "\n",
    "Sometimes, it's super helpful to sort values in order in terms of alpha-numerics! If you ever want to go into industry, you might find a future employer asking you to build some code to do this task as part of your interview! Writing your own function for sorting can be a bit of a challenge, but fortunately, for this class, we can use python's internal `sorted` function!\n",
    "\n",
    "The `sorted` function will automagically sort your data arrays by their alpha-numeric order! It can even sort your data either in ascending or descending order!"
   ]
  },
  {
   "cell_type": "markdown",
   "id": "6051fea9-3e79-4828-a7a7-d7b899374abe",
   "metadata": {},
   "source": [
    "Say we want to sort a random array of 10000 values! We can use the random functionality from numpy in combination with the sorted function to sort our data for us!"
   ]
  },
  {
   "cell_type": "code",
   "execution_count": 18,
   "id": "384437d1-2e8d-44c4-b2d5-807ba4855950",
   "metadata": {},
   "outputs": [
    {
     "data": {
      "text/plain": [
       "array([29.36300608, 86.52943923, 72.19820694, ..., 40.82704193,\n",
       "       98.73621353, 50.69053405])"
      ]
     },
     "execution_count": 18,
     "metadata": {},
     "output_type": "execute_result"
    }
   ],
   "source": [
    "random_data = np.random.random_sample(10000)*100\n",
    "random_data"
   ]
  },
  {
   "cell_type": "markdown",
   "id": "751ae3d1-e1e2-48f2-b96a-c5be2991930c",
   "metadata": {},
   "source": [
    "Now that we have our random data array, let's get sortin!\n",
    "\n",
    "First, let's find the highest value in the data by sorting our data and grabbing the top entry!"
   ]
  },
  {
   "cell_type": "code",
   "execution_count": 19,
   "id": "7d711e7f-b1eb-4913-9bff-810c9da2d513",
   "metadata": {},
   "outputs": [
    {
     "data": {
      "text/plain": [
       "99.99985185295071"
      ]
     },
     "execution_count": 19,
     "metadata": {},
     "output_type": "execute_result"
    }
   ],
   "source": [
    "sorted_random_data = sorted(random_data,reverse=True) # reverse = True will sort the data from largest to smallest\n",
    "max_value = sorted_random_data[0]\n",
    "max_value"
   ]
  },
  {
   "cell_type": "markdown",
   "id": "3d1e8a92-94f6-4fb8-81a0-3effb848d12f",
   "metadata": {},
   "source": [
    "Great! Now let's find the minimum value!"
   ]
  },
  {
   "cell_type": "code",
   "execution_count": 20,
   "id": "3e9c26dc-458f-4eb6-884e-a6d2cc06c7c7",
   "metadata": {},
   "outputs": [
    {
     "data": {
      "text/plain": [
       "0.006175743177394555"
      ]
     },
     "execution_count": 20,
     "metadata": {},
     "output_type": "execute_result"
    }
   ],
   "source": [
    "sorted_random_data = sorted(random_data,reverse=False) # reverse = False will sort the data from smallest to largest\n",
    "min_value = sorted_random_data[0]\n",
    "min_value"
   ]
  },
  {
   "cell_type": "markdown",
   "id": "4bf9af19-1131-40a4-ac78-f573ddd0559e",
   "metadata": {},
   "source": [
    "Excellent! Not only can we use sorted for numerical data, but we can even use sorted on string arrays!"
   ]
  },
  {
   "cell_type": "code",
   "execution_count": 21,
   "id": "cc2bfbff-eb3f-4250-b2a7-f7e9e60a9823",
   "metadata": {},
   "outputs": [
    {
     "data": {
      "text/plain": [
       "['Fun', 'Is', 'Much', 'Python', 'So']"
      ]
     },
     "execution_count": 21,
     "metadata": {},
     "output_type": "execute_result"
    }
   ],
   "source": [
    "string_data = ['Python','Is','So','Much','Fun']\n",
    "sorted_string_data = sorted(string_data)\n",
    "sorted_string_data"
   ]
  },
  {
   "cell_type": "markdown",
   "id": "cc60e357-e427-4acc-89e4-7a8b27ad28ea",
   "metadata": {},
   "source": [
    "You can even do it on dictionaries, with a little bit of magic! Speficially, you need to use something called the \"lambda operator\". It's not fully important to understand it's exact intracacies, but it's basically a way to do loops within functions."
   ]
  },
  {
   "cell_type": "code",
   "execution_count": 22,
   "id": "fad9a85a-1163-41d5-ab73-b455880bee3f",
   "metadata": {},
   "outputs": [
    {
     "data": {
      "text/plain": [
       "[('one', 1), ('two', 2), ('three', 3), ('four', 4), ('five', 5)]"
      ]
     },
     "execution_count": 22,
     "metadata": {},
     "output_type": "execute_result"
    }
   ],
   "source": [
    "d = {'one':1,'three':3,'five':5,'two':2,'four':4}\n",
    "sorted(d.items(),key=lambda x: x[1])"
   ]
  },
  {
   "cell_type": "markdown",
   "id": "503bc2c0-3f48-4cc0-bea8-117ae9d71084",
   "metadata": {},
   "source": [
    "$\\color{blue}{\\text{Complete the following exercise.}}$\n",
    "\n",
    "  - Say you run a business, and you want to identify what your top selling object is. You sell the following items: laptops, video games, calculators, and t-shirts. This month, you sold 10 laptops, 50 video games, 25 calculators, and 1 t-shirt. Can you build a dictionary of your selling products, sort the dictionary from highest seller to lowest, and identify the highest selling item?\n",
    "  [Use the cell below to build a dictionary, sort the dictionary from highest to lowest, and print out the top selling item']"
   ]
  },
  {
   "cell_type": "code",
   "execution_count": 23,
   "id": "261ff32a-1557-489c-a356-0b950a257c75",
   "metadata": {},
   "outputs": [
    {
     "data": {
      "text/plain": [
       "[(50, 'video games'), (25, 'calculators'), (10, 'laptops'), (1, 't-shirts')]"
      ]
     },
     "execution_count": 23,
     "metadata": {},
     "output_type": "execute_result"
    }
   ],
   "source": [
    "myitems = { 10: 'laptops', 50:'video games', 25:'calculators', 1:'t-shirts'}\n",
    "myitems_2 = sorted(myitems.items(),key=lambda x: x[1])\n",
    "sorted_high_myitems = sorted(myitems_2,reverse=True)\n",
    "myitems_2\n",
    "sorted_high_myitems "
   ]
  },
  {
   "cell_type": "code",
   "execution_count": 24,
   "id": "25ee4398",
   "metadata": {},
   "outputs": [
    {
     "data": {
      "text/plain": [
       "(50, 'video games')"
      ]
     },
     "execution_count": 24,
     "metadata": {},
     "output_type": "execute_result"
    }
   ],
   "source": [
    "sorted_high_myitems[0]"
   ]
  },
  {
   "cell_type": "markdown",
   "id": "6fc444e3-d946-4cfd-b61e-463036e21dea",
   "metadata": {},
   "source": [
    "## Fun exercise\n",
    "\n",
    "Let's do a fun exercise combining all of the useful python functionality we've discussed! For this, I thought we could build and visualize the `Fibonacci sequence`. The Fibonacci sequence, first documented as early as 400 BC, is a sequence in which each number is the sum of the two preceding ones: `F(n) = F(n-1) + F(n-2)...`. This sequence is famously related to the `golden ratio`, which has been found in many aspects of life including the distribution of flower pedals on a flower to the beautiful artwork coming from the great Renaissance painters!\n",
    "\n",
    "In python, it's fairly easy to build this sequence for any N terms!"
   ]
  },
  {
   "cell_type": "code",
   "execution_count": 25,
   "id": "f8571490-92f7-45b8-a621-82b45e4a58ae",
   "metadata": {},
   "outputs": [
    {
     "data": {
      "text/plain": [
       "array([0., 1., 1., 2., 3.])"
      ]
     },
     "execution_count": 25,
     "metadata": {},
     "output_type": "execute_result"
    }
   ],
   "source": [
    "fibonacci_sequence = np.array([])\n",
    "\n",
    "for i in range(5):\n",
    "    if i < 2:\n",
    "        fibonacci_sequence = np.append(fibonacci_sequence,i) # np.append will append a value to a numpy array\n",
    "    else:\n",
    "        fibonacci_sequence = np.append(fibonacci_sequence,fibonacci_sequence[i-1]+fibonacci_sequence[i-2])\n",
    "fibonacci_sequence"
   ]
  },
  {
   "cell_type": "markdown",
   "id": "789a3e65-a293-4a71-9bba-d49e01099e7c",
   "metadata": {},
   "source": [
    "$\\color{blue}{\\text{Complete the following exercise.}}$\n",
    "\n",
    "  - Can you do the following:\n",
    "      - Update the for loop to generate the first 100 values of the Fibonacci sequence\n",
    "      - Generate a line plot of the first 100 values, with the x-axis being the Nth digit and the y-axis being the Fibonacci number at that digit\n",
    "      - Count the number of odd and even values in the first 100 digits of the Fibonacci sequence\n",
    "  [Use the cells below to compute the first 100 digits of the Fibonacci sequence, generate a line plot of the sequence with the x-axis being the digit count and the y-axis being the fibonacci number, and finally count the number of even and odd values in these first 100 digits.']"
   ]
  },
  {
   "cell_type": "code",
   "execution_count": 26,
   "id": "acb782dc-583e-4c28-9493-86c8582cc24e",
   "metadata": {
    "scrolled": true
   },
   "outputs": [
    {
     "data": {
      "text/plain": [
       "array([0.00000000e+00, 1.00000000e+00, 1.00000000e+00, 2.00000000e+00,\n",
       "       3.00000000e+00, 5.00000000e+00, 8.00000000e+00, 1.30000000e+01,\n",
       "       2.10000000e+01, 3.40000000e+01, 5.50000000e+01, 8.90000000e+01,\n",
       "       1.44000000e+02, 2.33000000e+02, 3.77000000e+02, 6.10000000e+02,\n",
       "       9.87000000e+02, 1.59700000e+03, 2.58400000e+03, 4.18100000e+03,\n",
       "       6.76500000e+03, 1.09460000e+04, 1.77110000e+04, 2.86570000e+04,\n",
       "       4.63680000e+04, 7.50250000e+04, 1.21393000e+05, 1.96418000e+05,\n",
       "       3.17811000e+05, 5.14229000e+05, 8.32040000e+05, 1.34626900e+06,\n",
       "       2.17830900e+06, 3.52457800e+06, 5.70288700e+06, 9.22746500e+06,\n",
       "       1.49303520e+07, 2.41578170e+07, 3.90881690e+07, 6.32459860e+07,\n",
       "       1.02334155e+08, 1.65580141e+08, 2.67914296e+08, 4.33494437e+08,\n",
       "       7.01408733e+08, 1.13490317e+09, 1.83631190e+09, 2.97121507e+09,\n",
       "       4.80752698e+09, 7.77874205e+09, 1.25862690e+10, 2.03650111e+10,\n",
       "       3.29512801e+10, 5.33162912e+10, 8.62675713e+10, 1.39583862e+11,\n",
       "       2.25851434e+11, 3.65435296e+11, 5.91286730e+11, 9.56722026e+11,\n",
       "       1.54800876e+12, 2.50473078e+12, 4.05273954e+12, 6.55747032e+12,\n",
       "       1.06102099e+13, 1.71676802e+13, 2.77778900e+13, 4.49455702e+13,\n",
       "       7.27234602e+13, 1.17669030e+14, 1.90392491e+14, 3.08061521e+14,\n",
       "       4.98454012e+14, 8.06515533e+14, 1.30496954e+15, 2.11148508e+15,\n",
       "       3.41645462e+15, 5.52793970e+15, 8.94439432e+15, 1.44723340e+16,\n",
       "       2.34167283e+16, 3.78890624e+16, 6.13057907e+16, 9.91948531e+16,\n",
       "       1.60500644e+17, 2.59695497e+17, 4.20196141e+17, 6.79891638e+17,\n",
       "       1.10008778e+18, 1.77997942e+18, 2.88006719e+18, 4.66004661e+18,\n",
       "       7.54011380e+18, 1.22001604e+19, 1.97402742e+19, 3.19404346e+19,\n",
       "       5.16807089e+19, 8.36211435e+19, 1.35301852e+20, 2.18922996e+20])"
      ]
     },
     "execution_count": 26,
     "metadata": {},
     "output_type": "execute_result"
    }
   ],
   "source": [
    "# compute the first 100 digits of the Fibonacci sequence\n",
    "fibonacci_sequence = np.array([])\n",
    "\n",
    "for i in range(100):\n",
    "    if i < 2:\n",
    "        fibonacci_sequence = np.append(fibonacci_sequence,i) # np.append will append a value to a numpy array\n",
    "    else:\n",
    "        fibonacci_sequence = np.append(fibonacci_sequence,fibonacci_sequence[i-1]+fibonacci_sequence[i-2])\n",
    "fibonacci_sequence"
   ]
  },
  {
   "cell_type": "code",
   "execution_count": 34,
   "id": "1031c3b3-fb23-4a6c-90b4-42a0d878a5d0",
   "metadata": {
    "scrolled": false
   },
   "outputs": [
    {
     "data": {
      "image/png": "[encoded data removed]",
      "text/plain": [
       "<Figure size 432x288 with 1 Axes>"
      ]
     },
     "metadata": {
      "needs_background": "light"
     },
     "output_type": "display_data"
    }
   ],
   "source": [
    "# generate a lineplot figure of the first 100 digits. Make the figure size 10,10, add Title and axis labels, and make the line color green\n",
    "fig = plt.figure()\n",
    "\n",
    "plt.plot(range(len(fibonacci_sequence)),fibonacci_sequence, color = 'r')\n",
    "plt.xlabel('Count', fontsize = 18);\n",
    "plt.ylabel('Fibonacci Sequence', fontsize = 18);\n",
    "plt.title('The First 100 digits of the Fibonacci sequence', fontsize = 20,);"
   ]
  },
  {
   "cell_type": "code",
   "execution_count": 32,
   "id": "d3ff1c0d-99b5-4206-a4f9-010d471df8e4",
   "metadata": {},
   "outputs": [
    {
     "name": "stdout",
     "output_type": "stream",
     "text": [
      "List: [0. 1. 1. 0. 1. 1. 0. 1. 1. 0. 1. 1. 0. 1. 1. 0. 1. 1. 0. 1. 1. 0. 1. 1.\n",
      " 0. 1. 1. 0. 1. 1. 0. 1. 1. 0. 1. 1. 0. 1. 1. 0. 1. 1. 0. 1. 1. 0. 1. 1.\n",
      " 0. 1. 1. 0. 1. 1. 0. 1. 1. 0. 1. 1. 0. 1. 1. 0. 1. 1. 0. 1. 1. 0. 1. 1.\n",
      " 0. 1. 1. 0. 1. 1. 0. 0. 0. 0. 0. 0. 0. 0. 0. 0. 0. 0. 0. 0. 0. 0. 0. 0.\n",
      " 0. 0. 0. 0.]\n",
      "Count Odd/Even: 52\n"
     ]
    }
   ],
   "source": [
    "# count the number of odd and even digits in the first 100 digits in the sequence. HINT: You can use % 2 to identify if a number is divisble by 2. You can also use len() and np.where() functions in combination to count the number of evens and odds\n",
    "\n",
    "oodeven = fibonacci_sequence % 2\n",
    "\n",
    "print('List:', fibonacci_sequence % 2 )\n",
    "\n",
    "print(\"Count Odd/Even:\",np.count_nonzero(fibonacci_sequence % 2))"
   ]
  }
 ],
 "metadata": {
  "kernelspec": {
   "display_name": "Python 3 (ipykernel)",
   "language": "python",
   "name": "python3"
  },
  "language_info": {
   "codemirror_mode": {
    "name": "ipython",
    "version": 3
   },
   "file_extension": ".py",
   "mimetype": "text/x-python",
   "name": "python",
   "nbconvert_exporter": "python",
   "pygments_lexer": "ipython3",
   "version": "3.9.12"
  }
 },
 "nbformat": 4,
 "nbformat_minor": 5
}
