{
 "cells": [
  {
   "cell_type": "markdown",
   "id": "1f1534b9",
   "metadata": {},
   "source": [
    "# Numpy review homework"
   ]
  },
  {
   "cell_type": "markdown",
   "id": "4db19bcf",
   "metadata": {},
   "source": [
    "1. Make a numpy matrix from a Python list of lists..."
   ]
  },
  {
   "cell_type": "code",
   "execution_count": 1,
   "id": "6b140a06",
   "metadata": {},
   "outputs": [],
   "source": [
    "import numpy as np"
   ]
  },
  {
   "cell_type": "code",
   "execution_count": 2,
   "id": "f0573ea9",
   "metadata": {},
   "outputs": [
    {
     "data": {
      "text/plain": [
       "[[3.3, 2.3, 2.2],\n",
       " [1.2, 7.8, 8.7],\n",
       " [4.8, 2.2, 2],\n",
       " [1.5, 7.5, 9.5],\n",
       " [5.9, 1.6, 7.7]]"
      ]
     },
     "execution_count": 2,
     "metadata": {},
     "output_type": "execute_result"
    }
   ],
   "source": [
    "my_list = [[3.3, 2.3, 2.2], [1.2, 7.8, 8.7], [4.8, 2.2, 2], [1.5, 7.5, 9.5], [5.9, 1.6, 7.7]]\n",
    "my_list"
   ]
  },
  {
   "cell_type": "markdown",
   "id": "dd6e8ffb",
   "metadata": {},
   "source": [
    "2. Make a 3D numpy matrix from a Python list of lists of lists!"
   ]
  },
  {
   "cell_type": "code",
   "execution_count": 3,
   "id": "c977766b",
   "metadata": {},
   "outputs": [
    {
     "data": {
      "text/plain": [
       "array([[3.3, 2.3, 2.2],\n",
       "       [1.2, 7.8, 8.7],\n",
       "       [4.8, 2.2, 2. ],\n",
       "       [1.5, 7.5, 9.5],\n",
       "       [5.9, 1.6, 7.7]])"
      ]
     },
     "execution_count": 3,
     "metadata": {},
     "output_type": "execute_result"
    }
   ],
   "source": [
    "np_my_list = np.array(my_list)\n",
    "np_my_list"
   ]
  },
  {
   "cell_type": "markdown",
   "id": "8ad64691",
   "metadata": {},
   "source": [
    "3. Create a 5x3 array of Gaussian random numbers. "
   ]
  },
  {
   "cell_type": "code",
   "execution_count": 4,
   "id": "5f280edc",
   "metadata": {},
   "outputs": [
    {
     "data": {
      "text/plain": [
       "array([[ 0.1177906 ,  0.16745539,  1.82055842],\n",
       "       [-0.36347822,  1.56742065,  0.74024658],\n",
       "       [ 0.78837195,  1.26258277, -0.85537436],\n",
       "       [ 0.95084884,  0.48908968, -0.73992958],\n",
       "       [ 3.17046201, -1.79750361, -1.76364295]])"
      ]
     },
     "execution_count": 4,
     "metadata": {},
     "output_type": "execute_result"
    }
   ],
   "source": [
    "my_array = np.random.randn(5,3)\n",
    "my_array"
   ]
  },
  {
   "cell_type": "markdown",
   "id": "d129639e",
   "metadata": {},
   "source": [
    "4. Write a script to go through the array created in 3. and announce (print) the value and its row and column indexes.\n",
    "\n",
    "Hint: Use nested `for` loops - one to loop through the rows and one to loop through the columns."
   ]
  },
  {
   "cell_type": "code",
   "execution_count": 5,
   "id": "3c8798a4",
   "metadata": {},
   "outputs": [
    {
     "data": {
      "text/plain": [
       "array([[0.1177906 , 0.16745539, 1.82055842]])"
      ]
     },
     "execution_count": 5,
     "metadata": {},
     "output_type": "execute_result"
    }
   ],
   "source": [
    "# get row 1\n",
    "my_array[0:1]"
   ]
  },
  {
   "cell_type": "code",
   "execution_count": 6,
   "id": "5cb9dab4",
   "metadata": {},
   "outputs": [
    {
     "data": {
      "text/plain": [
       "array([[-0.36347822,  1.56742065,  0.74024658]])"
      ]
     },
     "execution_count": 6,
     "metadata": {},
     "output_type": "execute_result"
    }
   ],
   "source": [
    "# get row 2\n",
    "my_array[1:2]"
   ]
  },
  {
   "cell_type": "code",
   "execution_count": 7,
   "id": "91a28c16",
   "metadata": {},
   "outputs": [
    {
     "data": {
      "text/plain": [
       "array([[ 0.78837195,  1.26258277, -0.85537436]])"
      ]
     },
     "execution_count": 7,
     "metadata": {},
     "output_type": "execute_result"
    }
   ],
   "source": [
    "# get row 3\n",
    "my_array[2:3]"
   ]
  },
  {
   "cell_type": "code",
   "execution_count": 8,
   "id": "00e19ef4",
   "metadata": {},
   "outputs": [
    {
     "data": {
      "text/plain": [
       "array([[ 0.95084884,  0.48908968, -0.73992958]])"
      ]
     },
     "execution_count": 8,
     "metadata": {},
     "output_type": "execute_result"
    }
   ],
   "source": [
    "# get row 4\n",
    "my_array[3:4]"
   ]
  },
  {
   "cell_type": "code",
   "execution_count": 9,
   "id": "1df9f9fd",
   "metadata": {
    "scrolled": true
   },
   "outputs": [
    {
     "data": {
      "text/plain": [
       "array([[ 3.17046201, -1.79750361, -1.76364295]])"
      ]
     },
     "execution_count": 9,
     "metadata": {},
     "output_type": "execute_result"
    }
   ],
   "source": [
    "# get row 5\n",
    "my_array[4:5]"
   ]
  },
  {
   "cell_type": "code",
   "execution_count": 10,
   "id": "9cddca29",
   "metadata": {},
   "outputs": [
    {
     "name": "stdout",
     "output_type": "stream",
     "text": [
      "Row: 1\n",
      "Column: 0.11779060394793923\n",
      "Column: 0.1674553906156269\n",
      "Column: 1.8205584159754884\n",
      "Row: 2\n",
      "Column: -0.36347821704779565\n",
      "Column: 1.5674206486513418\n",
      "Column: 0.7402465780065018\n",
      "Row: 3\n",
      "Column: 0.7883719483627027\n",
      "Column: 1.2625827711384763\n",
      "Column: -0.8553743601446507\n",
      "Row: 4\n",
      "Column: 0.9508488415212006\n",
      "Column: 0.48908968362682487\n",
      "Column: -0.7399295806938396\n",
      "Row: 5\n",
      "Column: 3.170462010912384\n",
      "Column: -1.7975036148161856\n",
      "Column: -1.763642951428111\n"
     ]
    }
   ],
   "source": [
    "for i in range(0,5):\n",
    "    print('Row:',i+1)\n",
    "    y = i+1\n",
    "    for row in my_array[i:y]:\n",
    "        for col in row:\n",
    "            print('Column: ', col, sep ='')\n",
    "\n",
    "# I think this code looks nice, however, I cannot find a way to make an idex for the column."
   ]
  },
  {
   "cell_type": "code",
   "execution_count": 11,
   "id": "462967a3",
   "metadata": {},
   "outputs": [
    {
     "name": "stdout",
     "output_type": "stream",
     "text": [
      "Row: 1\n",
      "Column 1: 0.11779060394793923\n",
      "Column 2: 0.1674553906156269\n",
      "Column 3: 1.8205584159754884\n",
      "Row: 2\n",
      "Column 1: -0.36347821704779565\n",
      "Column 2: 1.5674206486513418\n",
      "Column 3: 0.7402465780065018\n",
      "Row: 3\n",
      "Column 1: 0.7883719483627027\n",
      "Column 2: 1.2625827711384763\n",
      "Column 3: -0.8553743601446507\n",
      "Row: 4\n",
      "Column 1: 0.9508488415212006\n",
      "Column 2: 0.48908968362682487\n",
      "Column 3: -0.7399295806938396\n",
      "Row: 5\n",
      "Column 1: 3.170462010912384\n",
      "Column 2: -1.7975036148161856\n",
      "Column 3: -1.763642951428111\n"
     ]
    }
   ],
   "source": [
    "# To make an index of column, I changed some of the code to have 2 loops. \n",
    "# To be honest, I still think that code from above is easier to understand. \n",
    "# But, this one just works better T^T.\n",
    "\n",
    "for i in range(0,5):\n",
    "    print('Row:',i+1)\n",
    "    y = i+1\n",
    "    for j in range(len(my_array[i])):\n",
    "        print('Column ', j+1,':',' ',\n",
    "              my_array[i][j],\n",
    "             sep = '')             "
   ]
  },
  {
   "cell_type": "markdown",
   "id": "2f6c8094",
   "metadata": {},
   "source": [
    "5. Make an new array out of your random numbers such that the mean is 10 and the standard deviation is 3."
   ]
  },
  {
   "cell_type": "code",
   "execution_count": 12,
   "id": "b8cfc374",
   "metadata": {},
   "outputs": [
    {
     "data": {
      "text/plain": [
       "array([[ 9.27964856,  6.42642727,  8.24837005,  6.79850498, 18.17490963],\n",
       "       [11.67619443, 10.06465914, 11.7458996 ,  8.36071207, 12.98110524],\n",
       "       [ 9.46907921,  8.03971799, 11.18580155,  9.36659283,  8.55359403],\n",
       "       [15.97541917,  7.67933488, 10.0125698 , 13.49192676, 10.68756371],\n",
       "       [ 9.4458241 , 12.9289727 ,  8.66105966,  1.6919909 ,  4.42261057],\n",
       "       [10.76104817,  8.3342862 , 10.01824635,  9.89258177, 14.82977232],\n",
       "       [ 9.91130349,  9.36020186,  8.12120803, 16.14561448,  8.48060413],\n",
       "       [ 7.58369073, 13.20204922,  6.63824716,  1.10462417,  7.92640657],\n",
       "       [ 9.16763074,  8.8974216 ,  2.40357266,  8.77405335,  9.23783029],\n",
       "       [ 9.24781313, 11.8944507 , 14.27830038, 14.03078053, 10.95652783]])"
      ]
     },
     "execution_count": 12,
     "metadata": {},
     "output_type": "execute_result"
    }
   ],
   "source": [
    "q5_array = np.random.normal(loc = 10, scale = 3, size = (10,5))\n",
    "q5_array"
   ]
  },
  {
   "cell_type": "markdown",
   "id": "431e4556",
   "metadata": {},
   "source": [
    "6. Count the number of values in your new array that are below 7."
   ]
  },
  {
   "cell_type": "code",
   "execution_count": 13,
   "id": "80cb12c5",
   "metadata": {},
   "outputs": [
    {
     "data": {
      "text/plain": [
       "array([[False,  True, False,  True, False],\n",
       "       [False, False, False, False, False],\n",
       "       [False, False, False, False, False],\n",
       "       [False, False, False, False, False],\n",
       "       [False, False, False,  True,  True],\n",
       "       [False, False, False, False, False],\n",
       "       [False, False, False, False, False],\n",
       "       [False, False,  True,  True, False],\n",
       "       [False, False,  True, False, False],\n",
       "       [False, False, False, False, False]])"
      ]
     },
     "execution_count": 13,
     "metadata": {},
     "output_type": "execute_result"
    }
   ],
   "source": [
    "q5_array < 7"
   ]
  },
  {
   "cell_type": "code",
   "execution_count": 14,
   "id": "40084bce",
   "metadata": {},
   "outputs": [
    {
     "data": {
      "text/plain": [
       "array([0, 1, 2, 3, 1])"
      ]
     },
     "execution_count": 14,
     "metadata": {},
     "output_type": "execute_result"
    }
   ],
   "source": [
    "# Count the total number that less than 7 on each column.\n",
    "sum(q5_array < 7)"
   ]
  },
  {
   "cell_type": "code",
   "execution_count": 15,
   "id": "ad9b1698",
   "metadata": {},
   "outputs": [
    {
     "data": {
      "text/plain": [
       "7"
      ]
     },
     "execution_count": 15,
     "metadata": {},
     "output_type": "execute_result"
    }
   ],
   "source": [
    "# Total number of all value that less than 7.\n",
    "sum(sum(q5_array < 7))"
   ]
  },
  {
   "cell_type": "markdown",
   "id": "f7191a90",
   "metadata": {},
   "source": [
    "7. Make a numpy sequence that has the even numbers from 2 up to (and including) 20."
   ]
  },
  {
   "cell_type": "code",
   "execution_count": 16,
   "id": "23277d0c",
   "metadata": {},
   "outputs": [
    {
     "data": {
      "text/plain": [
       "array([ 2,  4,  6,  8, 10, 12, 14, 16, 18, 20])"
      ]
     },
     "execution_count": 16,
     "metadata": {},
     "output_type": "execute_result"
    }
   ],
   "source": [
    "q7_np_r1 = np.arange(2,22,2)\n",
    "q7_np_r1"
   ]
  },
  {
   "cell_type": "markdown",
   "id": "40bd499e",
   "metadata": {},
   "source": [
    "8. Get the second and third rows of your array."
   ]
  },
  {
   "cell_type": "code",
   "execution_count": 24,
   "id": "c6000e11",
   "metadata": {},
   "outputs": [
    {
     "data": {
      "text/plain": [
       "array([ 2,  4,  6,  8, 10])"
      ]
     },
     "execution_count": 24,
     "metadata": {},
     "output_type": "execute_result"
    }
   ],
   "source": [
    "# Row 2 from the first 5 numbers from question 7\n",
    "q7_np_r2 = q7_np_r1[0:5]\n",
    "q7_np_r2"
   ]
  },
  {
   "cell_type": "code",
   "execution_count": 25,
   "id": "cfc8a920",
   "metadata": {},
   "outputs": [
    {
     "data": {
      "text/plain": [
       "array([12, 14, 16, 18, 20])"
      ]
     },
     "execution_count": 25,
     "metadata": {},
     "output_type": "execute_result"
    }
   ],
   "source": [
    "# Row 3 from the first 5 numbers from question 7\n",
    "q7_np_r3 = q7_np_r1[5:10]\n",
    "q7_np_r3"
   ]
  },
  {
   "cell_type": "code",
   "execution_count": 38,
   "id": "3c63ca36",
   "metadata": {},
   "outputs": [
    {
     "data": {
      "text/plain": [
       "array([[ 9.27964856,  6.42642727,  8.24837005,  6.79850498, 18.17490963],\n",
       "       [11.67619443, 10.06465914, 11.7458996 ,  8.36071207, 12.98110524],\n",
       "       [ 9.46907921,  8.03971799, 11.18580155,  9.36659283,  8.55359403],\n",
       "       [15.97541917,  7.67933488, 10.0125698 , 13.49192676, 10.68756371],\n",
       "       [ 9.4458241 , 12.9289727 ,  8.66105966,  1.6919909 ,  4.42261057],\n",
       "       [10.76104817,  8.3342862 , 10.01824635,  9.89258177, 14.82977232],\n",
       "       [ 9.91130349,  9.36020186,  8.12120803, 16.14561448,  8.48060413],\n",
       "       [ 7.58369073, 13.20204922,  6.63824716,  1.10462417,  7.92640657],\n",
       "       [ 9.16763074,  8.8974216 ,  2.40357266,  8.77405335,  9.23783029],\n",
       "       [ 9.24781313, 11.8944507 , 14.27830038, 14.03078053, 10.95652783],\n",
       "       [ 2.        ,  4.        ,  6.        ,  8.        , 10.        ],\n",
       "       [12.        , 14.        , 16.        , 18.        , 20.        ]])"
      ]
     },
     "execution_count": 38,
     "metadata": {},
     "output_type": "execute_result"
    }
   ],
   "source": [
    "# Add all numbers (add to question 5's array)\n",
    "new_array = np.vstack((q5_array, q7_np_r2, q7_np_r3))\n",
    "new_array"
   ]
  },
  {
   "cell_type": "markdown",
   "id": "1c3779c3",
   "metadata": {},
   "source": [
    "9. Compute the mean of the columns of your array."
   ]
  },
  {
   "cell_type": "code",
   "execution_count": 39,
   "id": "4e166283",
   "metadata": {},
   "outputs": [
    {
     "data": {
      "text/plain": [
       "array([ 9.7855721 , 10.9657141 ,  9.32295712, 11.56936286,  7.43009159,\n",
       "       10.76718696, 10.4037864 ,  7.29100357,  7.69610173, 12.08157451,\n",
       "        6.        , 16.        ])"
      ]
     },
     "execution_count": 39,
     "metadata": {},
     "output_type": "execute_result"
    }
   ],
   "source": [
    "# Mean of the each row\n",
    "new_array.mean(axis=1)"
   ]
  },
  {
   "cell_type": "code",
   "execution_count": 40,
   "id": "d97e5799",
   "metadata": {},
   "outputs": [
    {
     "data": {
      "text/plain": [
       "array([ 9.70980431,  9.56896013,  9.44277294,  9.63811515, 11.35424369])"
      ]
     },
     "execution_count": 40,
     "metadata": {},
     "output_type": "execute_result"
    }
   ],
   "source": [
    "# Mean of the each column\n",
    "new_array.mean(axis=0)"
   ]
  }
 ],
 "metadata": {
  "kernelspec": {
   "display_name": "Python 3 (ipykernel)",
   "language": "python",
   "name": "python3"
  },
  "language_info": {
   "codemirror_mode": {
    "name": "ipython",
    "version": 3
   },
   "file_extension": ".py",
   "mimetype": "text/x-python",
   "name": "python",
   "nbconvert_exporter": "python",
   "pygments_lexer": "ipython3",
   "version": "3.9.12"
  }
 },
 "nbformat": 4,
 "nbformat_minor": 5
}
