{
 "cells": [
  {
   "cell_type": "markdown",
   "id": "1f1534b9",
   "metadata": {},
   "source": [
    "# Numpy review homework"
   ]
  },
  {
   "cell_type": "markdown",
   "id": "4db19bcf",
   "metadata": {},
   "source": [
    "1. Make a numpy matrix from a Python list of lists..."
   ]
  },
  {
   "cell_type": "code",
   "execution_count": 1,
   "id": "6b140a06",
   "metadata": {},
   "outputs": [],
   "source": [
    "import numpy as np"
   ]
  },
  {
   "cell_type": "code",
   "execution_count": 2,
   "id": "f0573ea9",
   "metadata": {},
   "outputs": [
    {
     "data": {
      "text/plain": [
       "[[3.3, 2.3, 2.2],\n",
       " [1.2, 7.8, 8.7],\n",
       " [4.8, 2.2, 2],\n",
       " [1.5, 7.5, 9.5],\n",
       " [5.9, 1.6, 7.7]]"
      ]
     },
     "execution_count": 2,
     "metadata": {},
     "output_type": "execute_result"
    }
   ],
   "source": [
    "my_list = [[3.3, 2.3, 2.2], [1.2, 7.8, 8.7], [4.8, 2.2, 2], [1.5, 7.5, 9.5], [5.9, 1.6, 7.7]]\n",
    "my_list"
   ]
  },
  {
   "cell_type": "markdown",
   "id": "dd6e8ffb",
   "metadata": {},
   "source": [
    "2. Make a 3D numpy matrix from a Python list of lists of lists!"
   ]
  },
  {
   "cell_type": "code",
   "execution_count": 3,
   "id": "c977766b",
   "metadata": {},
   "outputs": [
    {
     "data": {
      "text/plain": [
       "array([[3.3, 2.3, 2.2],\n",
       "       [1.2, 7.8, 8.7],\n",
       "       [4.8, 2.2, 2. ],\n",
       "       [1.5, 7.5, 9.5],\n",
       "       [5.9, 1.6, 7.7]])"
      ]
     },
     "execution_count": 3,
     "metadata": {},
     "output_type": "execute_result"
    }
   ],
   "source": [
    "np_my_list = np.array(my_list)\n",
    "np_my_list"
   ]
  },
  {
   "cell_type": "markdown",
   "id": "8ad64691",
   "metadata": {},
   "source": [
    "3. Create a 5x3 array of Gaussian random numbers. "
   ]
  },
  {
   "cell_type": "code",
   "execution_count": 4,
   "id": "5f280edc",
   "metadata": {},
   "outputs": [
    {
     "data": {
      "text/plain": [
       "array([[-0.33820352,  1.59909091, -0.66335956],\n",
       "       [ 0.25773159,  1.97895929, -1.00451743],\n",
       "       [ 0.28112694,  0.42241326, -0.29371339],\n",
       "       [ 0.65074025,  1.24530189,  2.34068734],\n",
       "       [ 0.39261436,  0.98898607, -0.3008753 ]])"
      ]
     },
     "execution_count": 4,
     "metadata": {},
     "output_type": "execute_result"
    }
   ],
   "source": [
    "my_array = np.random.randn(5,3)\n",
    "my_array"
   ]
  },
  {
   "cell_type": "markdown",
   "id": "d129639e",
   "metadata": {},
   "source": [
    "4. Write a script to go through the array created in 3. and announce (print) the value and its row and column indexes.\n",
    "\n",
    "Hint: Use nested `for` loops - one to loop through the rows and one to loop through the columns."
   ]
  },
  {
   "cell_type": "code",
   "execution_count": 5,
   "id": "3c8798a4",
   "metadata": {},
   "outputs": [
    {
     "data": {
      "text/plain": [
       "array([[-0.33820352,  1.59909091, -0.66335956]])"
      ]
     },
     "execution_count": 5,
     "metadata": {},
     "output_type": "execute_result"
    }
   ],
   "source": [
    "# get row 1\n",
    "my_array[0:1]"
   ]
  },
  {
   "cell_type": "code",
   "execution_count": 6,
   "id": "5cb9dab4",
   "metadata": {},
   "outputs": [
    {
     "data": {
      "text/plain": [
       "array([[ 0.25773159,  1.97895929, -1.00451743]])"
      ]
     },
     "execution_count": 6,
     "metadata": {},
     "output_type": "execute_result"
    }
   ],
   "source": [
    "# get row 2\n",
    "my_array[1:2]"
   ]
  },
  {
   "cell_type": "code",
   "execution_count": 7,
   "id": "91a28c16",
   "metadata": {},
   "outputs": [
    {
     "data": {
      "text/plain": [
       "array([[ 0.28112694,  0.42241326, -0.29371339]])"
      ]
     },
     "execution_count": 7,
     "metadata": {},
     "output_type": "execute_result"
    }
   ],
   "source": [
    "# get row 3\n",
    "my_array[2:3]"
   ]
  },
  {
   "cell_type": "code",
   "execution_count": 8,
   "id": "00e19ef4",
   "metadata": {},
   "outputs": [
    {
     "data": {
      "text/plain": [
       "array([[0.65074025, 1.24530189, 2.34068734]])"
      ]
     },
     "execution_count": 8,
     "metadata": {},
     "output_type": "execute_result"
    }
   ],
   "source": [
    "# get row 4\n",
    "my_array[3:4]"
   ]
  },
  {
   "cell_type": "code",
   "execution_count": 9,
   "id": "1df9f9fd",
   "metadata": {
    "scrolled": true
   },
   "outputs": [
    {
     "data": {
      "text/plain": [
       "array([[ 0.39261436,  0.98898607, -0.3008753 ]])"
      ]
     },
     "execution_count": 9,
     "metadata": {},
     "output_type": "execute_result"
    }
   ],
   "source": [
    "# get row 5\n",
    "my_array[4:5]"
   ]
  },
  {
   "cell_type": "code",
   "execution_count": 10,
   "id": "9cddca29",
   "metadata": {},
   "outputs": [
    {
     "name": "stdout",
     "output_type": "stream",
     "text": [
      "Row: 1\n",
      "Column: -0.33820351906755025\n",
      "Column: 1.59909091331389\n",
      "Column: -0.663359555780775\n",
      "Row: 2\n",
      "Column: 0.25773158517683564\n",
      "Column: 1.9789592913430925\n",
      "Column: -1.0045174320793877\n",
      "Row: 3\n",
      "Column: 0.28112693955010865\n",
      "Column: 0.4224132553884828\n",
      "Column: -0.2937133854713962\n",
      "Row: 4\n",
      "Column: 0.6507402510377125\n",
      "Column: 1.2453018883263984\n",
      "Column: 2.340687343928523\n",
      "Row: 5\n",
      "Column: 0.39261436224298796\n",
      "Column: 0.9889860672445113\n",
      "Column: -0.3008753014297306\n"
     ]
    }
   ],
   "source": [
    "for i in range(0,5):\n",
    "    print('Row:',i+1)\n",
    "    y = i+1\n",
    "    for row in my_array[i:y]:\n",
    "        for col in row:\n",
    "            print('Column: ', col, sep ='')\n",
    "\n",
    "# I think this code looks nice, however, I cannot find a way to make an idex for the column."
   ]
  },
  {
   "cell_type": "code",
   "execution_count": 11,
   "id": "462967a3",
   "metadata": {},
   "outputs": [
    {
     "name": "stdout",
     "output_type": "stream",
     "text": [
      "Row: 1\n",
      "Column 1: -0.33820351906755025\n",
      "Column 2: 1.59909091331389\n",
      "Column 3: -0.663359555780775\n",
      "Row: 2\n",
      "Column 1: 0.25773158517683564\n",
      "Column 2: 1.9789592913430925\n",
      "Column 3: -1.0045174320793877\n",
      "Row: 3\n",
      "Column 1: 0.28112693955010865\n",
      "Column 2: 0.4224132553884828\n",
      "Column 3: -0.2937133854713962\n",
      "Row: 4\n",
      "Column 1: 0.6507402510377125\n",
      "Column 2: 1.2453018883263984\n",
      "Column 3: 2.340687343928523\n",
      "Row: 5\n",
      "Column 1: 0.39261436224298796\n",
      "Column 2: 0.9889860672445113\n",
      "Column 3: -0.3008753014297306\n"
     ]
    }
   ],
   "source": [
    "# To make an index of column, I changed some of the code to have 2 loops. \n",
    "# To be honest, I still think that code from above is easier to understand. \n",
    "# But, this one just works better T^T.\n",
    "\n",
    "for i in range(0,5):\n",
    "    print('Row:',i+1)\n",
    "    y = i+1\n",
    "    for j in range(len(my_array[i])):\n",
    "        print('Column ', j+1,':',' ',\n",
    "              my_array[i][j],\n",
    "             sep = '')             "
   ]
  },
  {
   "cell_type": "markdown",
   "id": "2f6c8094",
   "metadata": {},
   "source": [
    "5. Make an new array out of your random numbers such that the mean is 10 and the standard deviation is 3."
   ]
  },
  {
   "cell_type": "code",
   "execution_count": 12,
   "id": "b8cfc374",
   "metadata": {},
   "outputs": [
    {
     "data": {
      "text/plain": [
       "array([[ 7.57207348, 12.41728612,  9.67953067, 10.60122053, 11.30240103],\n",
       "       [ 8.03446949,  8.61424446,  6.89370789,  9.53868766,  7.82472472],\n",
       "       [ 8.38882514,  5.47127827,  9.13903854, 11.18963763, 15.02495855],\n",
       "       [ 5.83984102, 10.19706299,  5.582831  ,  9.03014818, 11.63640941],\n",
       "       [ 8.23055952,  9.50983567, 14.49560709, 10.30149231, 11.71899217],\n",
       "       [ 9.38564684,  9.3373273 , 16.43647903,  6.4582413 ,  8.21013349],\n",
       "       [ 5.01314831, 13.07413609,  9.64191935,  7.22139146,  8.85900617],\n",
       "       [10.65204958,  3.99149691,  6.65111615, 10.37318318,  8.6795788 ],\n",
       "       [13.35478454, 10.67370195, 11.40610163,  8.80257491, 12.45352332],\n",
       "       [12.42403097, 11.58679553,  8.84050164,  4.3927071 ,  8.45543076]])"
      ]
     },
     "execution_count": 12,
     "metadata": {},
     "output_type": "execute_result"
    }
   ],
   "source": [
    "q5_array = np.random.normal(loc = 10, scale = 3, size = (10,5))\n",
    "q5_array"
   ]
  },
  {
   "cell_type": "markdown",
   "id": "431e4556",
   "metadata": {},
   "source": [
    "6. Count the number of values in your new array that are below 7."
   ]
  },
  {
   "cell_type": "code",
   "execution_count": 13,
   "id": "80cb12c5",
   "metadata": {},
   "outputs": [
    {
     "data": {
      "text/plain": [
       "array([[False, False, False, False, False],\n",
       "       [False, False,  True, False, False],\n",
       "       [False,  True, False, False, False],\n",
       "       [ True, False,  True, False, False],\n",
       "       [False, False, False, False, False],\n",
       "       [False, False, False,  True, False],\n",
       "       [ True, False, False, False, False],\n",
       "       [False,  True,  True, False, False],\n",
       "       [False, False, False, False, False],\n",
       "       [False, False, False,  True, False]])"
      ]
     },
     "execution_count": 13,
     "metadata": {},
     "output_type": "execute_result"
    }
   ],
   "source": [
    "q5_array < 7"
   ]
  },
  {
   "cell_type": "code",
   "execution_count": 14,
   "id": "40084bce",
   "metadata": {},
   "outputs": [
    {
     "data": {
      "text/plain": [
       "array([2, 2, 3, 2, 0])"
      ]
     },
     "execution_count": 14,
     "metadata": {},
     "output_type": "execute_result"
    }
   ],
   "source": [
    "# Count the total number that less than 7 on each column.\n",
    "sum(q5_array < 7)"
   ]
  },
  {
   "cell_type": "code",
   "execution_count": 15,
   "id": "ad9b1698",
   "metadata": {},
   "outputs": [
    {
     "data": {
      "text/plain": [
       "9"
      ]
     },
     "execution_count": 15,
     "metadata": {},
     "output_type": "execute_result"
    }
   ],
   "source": [
    "# Total number of all value that less than 7.\n",
    "sum(sum(q5_array < 7))"
   ]
  },
  {
   "cell_type": "markdown",
   "id": "f7191a90",
   "metadata": {},
   "source": [
    "7. Make a numpy sequence that has the even numbers from 2 up to (and including) 20."
   ]
  },
  {
   "cell_type": "code",
   "execution_count": 16,
   "id": "23277d0c",
   "metadata": {},
   "outputs": [
    {
     "data": {
      "text/plain": [
       "array([ 2,  4,  6,  8, 10, 12, 14, 16, 18, 20])"
      ]
     },
     "execution_count": 16,
     "metadata": {},
     "output_type": "execute_result"
    }
   ],
   "source": [
    "q7_np_r1 = np.arange(2,22,2)\n",
    "q7_np_r1"
   ]
  },
  {
   "cell_type": "markdown",
   "id": "40bd499e",
   "metadata": {},
   "source": [
    "8. Get the second and third rows of your array."
   ]
  },
  {
   "cell_type": "code",
   "execution_count": 17,
   "id": "bc3e595c",
   "metadata": {},
   "outputs": [
    {
     "data": {
      "text/plain": [
       "array([ 2,  4,  6,  8, 10])"
      ]
     },
     "execution_count": 17,
     "metadata": {},
     "output_type": "execute_result"
    }
   ],
   "source": [
    "# Row 2 from the first 5 numbers from question 7\n",
    "q7_np_r2 = q7_np_r1[0:5]\n",
    "q7_np_r2"
   ]
  },
  {
   "cell_type": "code",
   "execution_count": 18,
   "id": "d5a07f78",
   "metadata": {},
   "outputs": [
    {
     "data": {
      "text/plain": [
       "array([12, 14, 16, 18, 20])"
      ]
     },
     "execution_count": 18,
     "metadata": {},
     "output_type": "execute_result"
    }
   ],
   "source": [
    "# Row 3 from the first 5 numbers from question 7\n",
    "q7_np_r3 = q7_np_r1[5:10]\n",
    "q7_np_r3"
   ]
  },
  {
   "cell_type": "code",
   "execution_count": 19,
   "id": "a1cf9683",
   "metadata": {},
   "outputs": [
    {
     "data": {
      "text/plain": [
       "array([[ 7.57207348, 12.41728612,  9.67953067, 10.60122053, 11.30240103],\n",
       "       [ 8.03446949,  8.61424446,  6.89370789,  9.53868766,  7.82472472],\n",
       "       [ 8.38882514,  5.47127827,  9.13903854, 11.18963763, 15.02495855],\n",
       "       [ 5.83984102, 10.19706299,  5.582831  ,  9.03014818, 11.63640941],\n",
       "       [ 8.23055952,  9.50983567, 14.49560709, 10.30149231, 11.71899217],\n",
       "       [ 9.38564684,  9.3373273 , 16.43647903,  6.4582413 ,  8.21013349],\n",
       "       [ 5.01314831, 13.07413609,  9.64191935,  7.22139146,  8.85900617],\n",
       "       [10.65204958,  3.99149691,  6.65111615, 10.37318318,  8.6795788 ],\n",
       "       [13.35478454, 10.67370195, 11.40610163,  8.80257491, 12.45352332],\n",
       "       [12.42403097, 11.58679553,  8.84050164,  4.3927071 ,  8.45543076],\n",
       "       [ 2.        ,  4.        ,  6.        ,  8.        , 10.        ],\n",
       "       [12.        , 14.        , 16.        , 18.        , 20.        ]])"
      ]
     },
     "execution_count": 19,
     "metadata": {},
     "output_type": "execute_result"
    }
   ],
   "source": [
    "# Add all numbers (add to question 5's array)\n",
    "new_array = np.vstack((q5_array, q7_np_r2, q7_np_r3))\n",
    "new_array"
   ]
  },
  {
   "cell_type": "markdown",
   "id": "1c3779c3",
   "metadata": {},
   "source": [
    "9. Compute the mean of the columns of your array."
   ]
  },
  {
   "cell_type": "code",
   "execution_count": 20,
   "id": "4e166283",
   "metadata": {},
   "outputs": [
    {
     "data": {
      "text/plain": [
       "array([10.31450237,  8.18116685,  9.84274762,  8.45725852, 10.85129735,\n",
       "        9.96556559,  8.76192027,  8.06948492, 11.33813727,  9.1398932 ,\n",
       "        6.        , 16.        ])"
      ]
     },
     "execution_count": 20,
     "metadata": {},
     "output_type": "execute_result"
    }
   ],
   "source": [
    "# Mean of the each row\n",
    "new_array.mean(axis=1)"
   ]
  },
  {
   "cell_type": "code",
   "execution_count": 21,
   "id": "d97e5799",
   "metadata": {},
   "outputs": [
    {
     "data": {
      "text/plain": [
       "array([ 8.57461907,  9.40609711, 10.06390275,  9.49244036, 11.18042987])"
      ]
     },
     "execution_count": 21,
     "metadata": {},
     "output_type": "execute_result"
    }
   ],
   "source": [
    "# Mean of the each column\n",
    "new_array.mean(axis=0)"
   ]
  }
 ],
 "metadata": {
  "kernelspec": {
   "display_name": "Python 3 (ipykernel)",
   "language": "python",
   "name": "python3"
  },
  "language_info": {
   "codemirror_mode": {
    "name": "ipython",
    "version": 3
   },
   "file_extension": ".py",
   "mimetype": "text/x-python",
   "name": "python",
   "nbconvert_exporter": "python",
   "pygments_lexer": "ipython3",
   "version": "3.9.12"
  }
 },
 "nbformat": 4,
 "nbformat_minor": 5
}
